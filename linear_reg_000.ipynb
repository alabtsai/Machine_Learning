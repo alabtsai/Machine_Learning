{
 "cells": [
  {
   "cell_type": "markdown",
   "metadata": {},
   "source": [
    "## Linear regresion using normal equation and gradient descent"
   ]
  },
  {
   "cell_type": "code",
   "execution_count": 1,
   "metadata": {},
   "outputs": [],
   "source": [
    "# To plot pretty figures\n",
    "%matplotlib inline\n",
    "import matplotlib\n",
    "import matplotlib.pyplot as plt\n",
    "plt.rcParams['axes.labelsize'] = 14\n",
    "plt.rcParams['xtick.labelsize'] = 12\n",
    "plt.rcParams['ytick.labelsize'] = 12"
   ]
  },
  {
   "cell_type": "code",
   "execution_count": 2,
   "metadata": {},
   "outputs": [],
   "source": [
    "# to make this notebook's output stable across runs\n",
    "import numpy as np\n",
    "np.random.seed(42)"
   ]
  },
  {
   "cell_type": "markdown",
   "metadata": {},
   "source": [
    "## the ideal  model is y=4+3x"
   ]
  },
  {
   "cell_type": "code",
   "execution_count": 3,
   "metadata": {},
   "outputs": [
    {
     "name": "stdout",
     "output_type": "stream",
     "text": [
      "(100, 1)\n",
      "(100, 1)\n"
     ]
    }
   ],
   "source": [
    "X=2*np.random.rand(100,1)\n",
    "y=4 + 3*X + np.random.randn(100,1)\n",
    "print(X.shape)\n",
    "print(y.shape)"
   ]
  },
  {
   "cell_type": "code",
   "execution_count": 4,
   "metadata": {},
   "outputs": [
    {
     "data": {
      "text/plain": [
       "2"
      ]
     },
     "execution_count": 4,
     "metadata": {},
     "output_type": "execute_result"
    }
   ],
   "source": [
    "X.ndim"
   ]
  },
  {
   "cell_type": "code",
   "execution_count": 5,
   "metadata": {},
   "outputs": [
    {
     "data": {
      "text/plain": [
       "2"
      ]
     },
     "execution_count": 5,
     "metadata": {},
     "output_type": "execute_result"
    }
   ],
   "source": [
    "y.ndim"
   ]
  },
  {
   "cell_type": "code",
   "execution_count": 6,
   "metadata": {},
   "outputs": [
    {
     "data": {
      "text/plain": [
       "numpy.ndarray"
      ]
     },
     "execution_count": 6,
     "metadata": {},
     "output_type": "execute_result"
    }
   ],
   "source": [
    "type(X)"
   ]
  },
  {
   "cell_type": "code",
   "execution_count": 7,
   "metadata": {},
   "outputs": [
    {
     "data": {
      "text/plain": [
       "numpy.ndarray"
      ]
     },
     "execution_count": 7,
     "metadata": {},
     "output_type": "execute_result"
    }
   ],
   "source": [
    "type(y)"
   ]
  },
  {
   "cell_type": "markdown",
   "metadata": {},
   "source": [
    "### X , y : column vector"
   ]
  },
  {
   "cell_type": "code",
   "execution_count": 8,
   "metadata": {},
   "outputs": [
    {
     "data": {
      "text/plain": [
       "array([[0.74908024],\n",
       "       [1.90142861],\n",
       "       [1.46398788],\n",
       "       [1.19731697],\n",
       "       [0.31203728]])"
      ]
     },
     "execution_count": 8,
     "metadata": {},
     "output_type": "execute_result"
    }
   ],
   "source": [
    "X[:5]"
   ]
  },
  {
   "cell_type": "code",
   "execution_count": 9,
   "metadata": {},
   "outputs": [
    {
     "data": {
      "text/plain": [
       "array([[6.33428778],\n",
       "       [9.40527849],\n",
       "       [8.48372443],\n",
       "       [5.60438199],\n",
       "       [4.71643995]])"
      ]
     },
     "execution_count": 9,
     "metadata": {},
     "output_type": "execute_result"
    }
   ],
   "source": [
    "y[:5]"
   ]
  },
  {
   "cell_type": "code",
   "execution_count": 10,
   "metadata": {},
   "outputs": [],
   "source": [
    "data=np.hstack((X,y))"
   ]
  },
  {
   "cell_type": "code",
   "execution_count": 11,
   "metadata": {},
   "outputs": [
    {
     "name": "stdout",
     "output_type": "stream",
     "text": [
      "<class 'numpy.ndarray'>\n"
     ]
    }
   ],
   "source": [
    "print(type(data))"
   ]
  },
  {
   "cell_type": "code",
   "execution_count": 12,
   "metadata": {},
   "outputs": [
    {
     "data": {
      "text/plain": [
       "2"
      ]
     },
     "execution_count": 12,
     "metadata": {},
     "output_type": "execute_result"
    }
   ],
   "source": [
    "data.ndim"
   ]
  },
  {
   "cell_type": "code",
   "execution_count": 13,
   "metadata": {},
   "outputs": [
    {
     "name": "stdout",
     "output_type": "stream",
     "text": [
      "[[0.74908024 6.33428778]\n",
      " [1.90142861 9.40527849]\n",
      " [1.46398788 8.48372443]\n",
      " [1.19731697 5.60438199]\n",
      " [0.31203728 4.71643995]]\n"
     ]
    }
   ],
   "source": [
    "print(data[:5])"
   ]
  },
  {
   "cell_type": "markdown",
   "metadata": {},
   "source": [
    "## Let's see the input versus output"
   ]
  },
  {
   "cell_type": "code",
   "execution_count": 14,
   "metadata": {},
   "outputs": [
    {
     "data": {
      "image/png": "[encoded data removed]",
      "text/plain": [
       "<Figure size 432x288 with 1 Axes>"
      ]
     },
     "metadata": {
      "needs_background": "light"
     },
     "output_type": "display_data"
    }
   ],
   "source": [
    "plt.plot(X, y, \"b.\")\n",
    "plt.xlabel(\"$x_1$\", fontsize=18)\n",
    "plt.ylabel(\"$y$\", rotation=0, fontsize=18)\n",
    "plt.axis([0, 2, 0, 15])\n",
    "plt.show()"
   ]
  },
  {
   "cell_type": "markdown",
   "metadata": {},
   "source": [
    "### using stochastic gradient "
   ]
  },
  {
   "cell_type": "code",
   "execution_count": 15,
   "metadata": {},
   "outputs": [
    {
     "name": "stdout",
     "output_type": "stream",
     "text": [
      "[[0.74908024 6.33428778]\n",
      " [1.90142861 9.40527849]\n",
      " [1.46398788 8.48372443]\n",
      " [1.19731697 5.60438199]\n",
      " [0.31203728 4.71643995]]\n"
     ]
    }
   ],
   "source": [
    "print(data[:5])"
   ]
  },
  {
   "cell_type": "code",
   "execution_count": 16,
   "metadata": {},
   "outputs": [
    {
     "name": "stdout",
     "output_type": "stream",
     "text": [
      "100\n"
     ]
    }
   ],
   "source": [
    "n_samples=np.size(data,0)\n",
    "print(n_samples)"
   ]
  },
  {
   "cell_type": "code",
   "execution_count": 17,
   "metadata": {},
   "outputs": [
    {
     "data": {
      "text/plain": [
       "2"
      ]
     },
     "execution_count": 17,
     "metadata": {},
     "output_type": "execute_result"
    }
   ],
   "source": [
    "np.size(data,1)"
   ]
  },
  {
   "cell_type": "markdown",
   "metadata": {},
   "source": [
    "###  Step 1: create placeholders for X (birth rate) and Y (life expectancy)"
   ]
  },
  {
   "cell_type": "code",
   "execution_count": 18,
   "metadata": {},
   "outputs": [],
   "source": [
    "import tensorflow as tf\n",
    "Xi = tf.placeholder(tf.float32, name='X')\n",
    "Yo = tf.placeholder(tf.float32, name='Y')"
   ]
  },
  {
   "cell_type": "markdown",
   "metadata": {},
   "source": [
    "### Step 2: create weight and bias, initialized to 0"
   ]
  },
  {
   "cell_type": "code",
   "execution_count": 19,
   "metadata": {},
   "outputs": [
    {
     "name": "stdout",
     "output_type": "stream",
     "text": [
      "WARNING:tensorflow:From /home/larry/tensorflow_prac/env/lib/python3.6/site-packages/tensorflow/python/framework/op_def_library.py:263: colocate_with (from tensorflow.python.framework.ops) is deprecated and will be removed in a future version.\n",
      "Instructions for updating:\n",
      "Colocations handled automatically by placer.\n"
     ]
    }
   ],
   "source": [
    "w = tf.get_variable('weights', initializer=tf.constant(0.0))\n",
    "b = tf.get_variable('bias', initializer=tf.constant(0.0))"
   ]
  },
  {
   "cell_type": "code",
   "execution_count": 20,
   "metadata": {},
   "outputs": [],
   "source": [
    "Y_predicted = w * Xi + b "
   ]
  },
  {
   "cell_type": "code",
   "execution_count": 21,
   "metadata": {},
   "outputs": [],
   "source": [
    "loss = tf.square(Yo - Y_predicted, name='loss')"
   ]
  },
  {
   "cell_type": "code",
   "execution_count": 22,
   "metadata": {},
   "outputs": [],
   "source": [
    "optimizer = tf.train.GradientDescentOptimizer(learning_rate=0.001).minimize(loss)"
   ]
  },
  {
   "cell_type": "code",
   "execution_count": 59,
   "metadata": {},
   "outputs": [
    {
     "name": "stdout",
     "output_type": "stream",
     "text": [
      "Epoch 0: 34.50696586608887\n",
      "count= 100\n",
      "2.9401784 4.039182\n",
      " \n",
      "Epoch 1: 15.628871957063675\n",
      "count= 100\n",
      "2.9401784 4.039182\n",
      " \n",
      "Epoch 2: 7.3890039037168025\n",
      "count= 100\n",
      "2.9401784 4.039182\n",
      " \n",
      "Epoch 3: 3.790927385073155\n",
      "count= 100\n",
      "2.9401784 4.039182\n",
      " \n",
      "Epoch 4: 2.217449272735976\n",
      "count= 100\n",
      "2.9401784 4.039182\n",
      " \n",
      "Epoch 5: 1.5266186907861448\n",
      "count= 100\n",
      "2.9401784 4.039182\n",
      " \n",
      "Epoch 6: 1.2203909572157636\n",
      "count= 100\n",
      "2.9401784 4.039182\n",
      " \n",
      "Epoch 7: 1.0816883671889082\n",
      "count= 100\n",
      "2.9401784 4.039182\n",
      " \n",
      "Epoch 8: 1.0159924734657397\n",
      "count= 100\n",
      "2.9401784 4.039182\n",
      " \n",
      "Epoch 9: 0.98219562241924\n",
      "count= 100\n",
      "2.9401784 4.039182\n",
      " \n",
      "Epoch 10: 0.9624540629527201\n",
      "count= 100\n",
      "2.9401784 4.039182\n",
      " \n",
      "Epoch 11: 0.9490388032395276\n",
      "count= 100\n",
      "2.9401784 4.039182\n",
      " \n",
      "Epoch 12: 0.9386087599269376\n",
      "count= 100\n",
      "2.9401784 4.039182\n",
      " \n",
      "Epoch 13: 0.9297212580893028\n",
      "count= 100\n",
      "2.9401784 4.039182\n",
      " \n",
      "Epoch 14: 0.9217518754351477\n",
      "count= 100\n",
      "2.9401784 4.039182\n",
      " \n",
      "Epoch 15: 0.9144255511620577\n",
      "count= 100\n",
      "2.9401784 4.039182\n",
      " \n",
      "Epoch 16: 0.9076146485067147\n",
      "count= 100\n",
      "2.9401784 4.039182\n",
      " \n",
      "Epoch 17: 0.901254656764213\n",
      "count= 100\n",
      "2.9401784 4.039182\n",
      " \n",
      "Epoch 18: 0.8953060199556058\n",
      "count= 100\n",
      "2.9401784 4.039182\n",
      " \n",
      "Epoch 19: 0.8897402169258567\n",
      "count= 100\n",
      "2.9401784 4.039182\n",
      " \n",
      "Epoch 20: 0.8845332973677636\n",
      "count= 100\n",
      "2.9401784 4.039182\n",
      " \n",
      "Epoch 21: 0.8796624403051464\n",
      "count= 100\n",
      "2.9401784 4.039182\n",
      " \n",
      "Epoch 22: 0.8751080119013204\n",
      "count= 100\n",
      "2.9401784 4.039182\n",
      " \n",
      "Epoch 23: 0.8708498870531912\n",
      "count= 100\n",
      "2.9401784 4.039182\n",
      " \n",
      "Epoch 24: 0.8668698169203708\n",
      "count= 100\n",
      "2.9401784 4.039182\n",
      " \n",
      "Epoch 25: 0.8631496459856862\n",
      "count= 100\n",
      "2.9401784 4.039182\n",
      " \n",
      "Epoch 26: 0.8596727870963514\n",
      "count= 100\n",
      "2.9401784 4.039182\n",
      " \n",
      "Epoch 27: 0.8564233889157186\n",
      "count= 100\n",
      "2.9401784 4.039182\n",
      " \n",
      "Epoch 28: 0.8533868965128204\n",
      "count= 100\n",
      "2.9401784 4.039182\n",
      " \n",
      "Epoch 29: 0.8505494291237846\n",
      "count= 100\n",
      "2.9401784 4.039182\n",
      " \n",
      "Epoch 30: 0.8478982276359602\n",
      "count= 100\n",
      "2.9401784 4.039182\n",
      " \n",
      "Epoch 31: 0.8454207500306439\n",
      "count= 100\n",
      "2.9401784 4.039182\n",
      " \n",
      "Epoch 32: 0.8431056149955839\n",
      "count= 100\n",
      "2.9401784 4.039182\n",
      " \n",
      "Epoch 33: 0.840942417230981\n",
      "count= 100\n",
      "2.9401784 4.039182\n",
      " \n",
      "Epoch 34: 0.8389213905346696\n",
      "count= 100\n",
      "2.9401784 4.039182\n",
      " \n",
      "Epoch 35: 0.8370321342465468\n",
      "count= 100\n",
      "2.9401784 4.039182\n",
      " \n",
      "Epoch 36: 0.8352671415061923\n",
      "count= 100\n",
      "2.9401784 4.039182\n",
      " \n",
      "Epoch 37: 0.8336181124916766\n",
      "count= 100\n",
      "2.9401784 4.039182\n",
      " \n",
      "Epoch 38: 0.8320770143164554\n",
      "count= 100\n",
      "2.9401784 4.039182\n",
      " \n",
      "Epoch 39: 0.8306371709520317\n",
      "count= 100\n",
      "2.9401784 4.039182\n",
      " \n",
      "Epoch 40: 0.8292913904201122\n",
      "count= 100\n",
      "2.9401784 4.039182\n",
      " \n",
      "Epoch 41: 0.8280339076345262\n",
      "count= 100\n",
      "2.9401784 4.039182\n",
      " \n",
      "Epoch 42: 0.8268588778807316\n",
      "count= 100\n",
      "2.9401784 4.039182\n",
      " \n",
      "Epoch 43: 0.8257610480736912\n",
      "count= 100\n",
      "2.9401784 4.039182\n",
      " \n",
      "Epoch 44: 0.8247350710959381\n",
      "count= 100\n",
      "2.9401784 4.039182\n",
      " \n",
      "Epoch 45: 0.8237761988711373\n",
      "count= 100\n",
      "2.9401784 4.039182\n",
      " \n",
      "Epoch 46: 0.8228802177678881\n",
      "count= 100\n",
      "2.9401784 4.039182\n",
      " \n",
      "Epoch 47: 0.8220429601726937\n",
      "count= 100\n",
      "2.9401784 4.039182\n",
      " \n",
      "Epoch 48: 0.8212605844749487\n",
      "count= 100\n",
      "2.9401784 4.039182\n",
      " \n",
      "Epoch 49: 0.82052914784319\n",
      "count= 100\n",
      "2.9401784 4.039182\n",
      " \n"
     ]
    }
   ],
   "source": [
    "with tf.Session() as sess:\n",
    "    sess.run(tf.global_variables_initializer()) \n",
    "    #  train the model for 20 epochs\n",
    "    for i in range(50):\n",
    "        total_loss = 0\n",
    "        count=0\n",
    "        for xq,yq in data:\n",
    "            #print(xq,yq)\n",
    "            _, l = sess.run([optimizer, loss], feed_dict={Xi: xq, Yo:yq})\n",
    "            total_loss += l\n",
    "            count=count+1\n",
    "        print('Epoch {0}: {1}'.format(i, total_loss/n_samples))\n",
    "        print(\"count=\",count)\n",
    "        print(w_out, b_out)\n",
    "        print(\" \")\n",
    "    w_out, b_out = sess.run([w, b]) "
   ]
  },
  {
   "cell_type": "code",
   "execution_count": 32,
   "metadata": {},
   "outputs": [
    {
     "name": "stdout",
     "output_type": "stream",
     "text": [
      "2.9401784 4.039182\n"
     ]
    }
   ],
   "source": [
    "print(w_out, b_out)"
   ]
  },
  {
   "cell_type": "markdown",
   "metadata": {},
   "source": [
    "## sklearn.linear_model.SGDRegressor\n",
    "### Linear model fitted by minimizing a regularized empirical loss with SGD\n",
    "### The loss function to be used. The possible values are ‘squared_loss’, ‘huber’, ‘epsilon_insensitive’, or ‘squared_epsilon_insensitive’"
   ]
  },
  {
   "cell_type": "code",
   "execution_count": 35,
   "metadata": {},
   "outputs": [
    {
     "data": {
      "text/plain": [
       "array([[0.74908024, 6.33428778],\n",
       "       [1.90142861, 9.40527849],\n",
       "       [1.46398788, 8.48372443],\n",
       "       [1.19731697, 5.60438199],\n",
       "       [0.31203728, 4.71643995]])"
      ]
     },
     "execution_count": 35,
     "metadata": {},
     "output_type": "execute_result"
    }
   ],
   "source": [
    "data[:5]"
   ]
  },
  {
   "cell_type": "code",
   "execution_count": 36,
   "metadata": {},
   "outputs": [
    {
     "data": {
      "text/plain": [
       "array([[0.74908024],\n",
       "       [1.90142861],\n",
       "       [1.46398788],\n",
       "       [1.19731697],\n",
       "       [0.31203728]])"
      ]
     },
     "execution_count": 36,
     "metadata": {},
     "output_type": "execute_result"
    }
   ],
   "source": [
    "X[:5]"
   ]
  },
  {
   "cell_type": "code",
   "execution_count": 38,
   "metadata": {},
   "outputs": [
    {
     "data": {
      "text/plain": [
       "array([6.33428778, 9.40527849, 8.48372443, 5.60438199, 4.71643995])"
      ]
     },
     "execution_count": 38,
     "metadata": {},
     "output_type": "execute_result"
    }
   ],
   "source": [
    "y.ravel()[:5]"
   ]
  },
  {
   "cell_type": "code",
   "execution_count": 72,
   "metadata": {},
   "outputs": [
    {
     "data": {
      "text/plain": [
       "SGDRegressor(alpha=0.0001, average=False, early_stopping=False, epsilon=0.1,\n",
       "             eta0=0.001, fit_intercept=True, l1_ratio=0.15,\n",
       "             learning_rate='constant', loss='squared_loss', max_iter=1000,\n",
       "             n_iter_no_change=51, penalty=None, power_t=0.25, random_state=None,\n",
       "             shuffle=False, tol=0.001, validation_fraction=0.1, verbose=0,\n",
       "             warm_start=False)"
      ]
     },
     "execution_count": 72,
     "metadata": {},
     "output_type": "execute_result"
    }
   ],
   "source": [
    "from sklearn.linear_model import SGDRegressor\n",
    "sgd_reg = SGDRegressor(n_iter_no_change=51,learning_rate='constant',penalty=None, eta0=0.001, random_state=None, shuffle=False)\n",
    "sgd_reg.fit(X, y.ravel())"
   ]
  },
  {
   "cell_type": "code",
   "execution_count": 73,
   "metadata": {},
   "outputs": [
    {
     "data": {
      "text/plain": [
       "(array([4.03294199]), array([2.93831877]))"
      ]
     },
     "execution_count": 73,
     "metadata": {},
     "output_type": "execute_result"
    }
   ],
   "source": [
    "sgd_reg.intercept_, sgd_reg.coef_"
   ]
  },
  {
   "cell_type": "code",
   "execution_count": null,
   "metadata": {},
   "outputs": [],
   "source": []
  },
  {
   "cell_type": "code",
   "execution_count": null,
   "metadata": {},
   "outputs": [],
   "source": []
  }
 ],
 "metadata": {
  "kernelspec": {
   "display_name": "Python 3",
   "language": "python",
   "name": "python3"
  },
  "language_info": {
   "codemirror_mode": {
    "name": "ipython",
    "version": 3
   },
   "file_extension": ".py",
   "mimetype": "text/x-python",
   "name": "python",
   "nbconvert_exporter": "python",
   "pygments_lexer": "ipython3",
   "version": "3.6.7"
  }
 },
 "nbformat": 4,
 "nbformat_minor": 2
}
