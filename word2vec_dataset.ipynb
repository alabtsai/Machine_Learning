{
 "cells": [
  {
   "cell_type": "code",
   "execution_count": 1,
   "metadata": {},
   "outputs": [],
   "source": [
    "import tensorflow as tf\n",
    "import os\n",
    "import utils\n",
    "import word2vec_utils\n",
    "import numpy as np"
   ]
  },
  {
   "cell_type": "code",
   "execution_count": 42,
   "metadata": {},
   "outputs": [],
   "source": [
    "BATCH_SIZE = 128\n",
    "VOCAB_SIZE = 50000\n",
    "SKIP_WINDOW = 1 \n",
    "VISUAL_FLD = 'visualization'\n",
    "EMBED_SIZE = 128            # dimension of the word embedding vectors\n",
    "\n",
    "DOWNLOAD_URL = 'http://mattmahoney.net/dc/text8.zip'\n",
    "EXPECTED_BYTES = 31344016\n",
    "NUM_VISUALIZE = 3000        # number of tokens to visualize\n"
   ]
  },
  {
   "cell_type": "code",
   "execution_count": 33,
   "metadata": {},
   "outputs": [],
   "source": [
    "def gen():\n",
    "    yield from word2vec_utils.batch_gen(DOWNLOAD_URL, EXPECTED_BYTES, VOCAB_SIZE, \n",
    "                                        BATCH_SIZE, SKIP_WINDOW, VISUAL_FLD)"
   ]
  },
  {
   "cell_type": "code",
   "execution_count": 18,
   "metadata": {},
   "outputs": [
    {
     "data": {
      "text/plain": [
       "list"
      ]
     },
     "execution_count": 18,
     "metadata": {},
     "output_type": "execute_result"
    }
   ],
   "source": [
    "type([('UNK', -1)])"
   ]
  },
  {
   "cell_type": "code",
   "execution_count": 34,
   "metadata": {},
   "outputs": [],
   "source": [
    "dataset = tf.data.Dataset.from_generator(gen, \n",
    "                                (tf.int32, tf.int32), \n",
    "                                (tf.TensorShape([BATCH_SIZE]), tf.TensorShape([BATCH_SIZE, 1])))"
   ]
  },
  {
   "cell_type": "code",
   "execution_count": 35,
   "metadata": {},
   "outputs": [],
   "source": [
    "iterator = dataset.make_initializable_iterator()\n",
    "center_words, target_words = iterator.get_next()"
   ]
  },
  {
   "cell_type": "code",
   "execution_count": 69,
   "metadata": {},
   "outputs": [
    {
     "data": {
      "text/plain": [
       "[5234, 3081, 12, 6, 195, 2, 3134, 46, 59, 156, 128, 742, 477, 10572, 134]"
      ]
     },
     "execution_count": 69,
     "metadata": {},
     "output_type": "execute_result"
    }
   ],
   "source": [
    "index_words[0:15]"
   ]
  },
  {
   "cell_type": "code",
   "execution_count": 36,
   "metadata": {},
   "outputs": [
    {
     "name": "stdout",
     "output_type": "stream",
     "text": [
      "data/text8.zip already exists\n",
      "[array([ 5234,  3081,  3081,    12,    12,     6,     6,   195,   195,\n",
      "           2,     2,  3134,  3134,    46,    46,    59,    59,   156,\n",
      "         156,   128,   128,   742,   742,   477,   477, 10572, 10572,\n",
      "         134,   134,     1,     1, 27350, 27350,     2,     2,     1,\n",
      "           1,   103,   103,   855,   855,     3,     3,     1,     1,\n",
      "       15068, 15068,     0,     0,     2,     2,     1,     1,   151,\n",
      "         151,   855,   855,  3581,  3581,     1,     1,   195,   195,\n",
      "          11,    11,   191,   191,    59,    59,     5,     5,     6,\n",
      "           6, 10713, 10713,   215,   215,     7,     7,  1325,  1325,\n",
      "         105,   105,   455,   455,    20,    20,    59,    59,  2732,\n",
      "        2732,   363,   363,     7,     7,  3673,  3673,     1,     1,\n",
      "         709,   709,     2,     2,   372,   372,    27,    27,    41,\n",
      "          41,    37,    37,    54,    54,   540,   540,    98,    98,\n",
      "          12,    12,     6,     6,  1424,  1424,  2758,  2758,    19,\n",
      "          19,   568], dtype=int32), array([[ 3081],\n",
      "       [ 5234],\n",
      "       [   12],\n",
      "       [ 3081],\n",
      "       [    6],\n",
      "       [   12],\n",
      "       [  195],\n",
      "       [    6],\n",
      "       [    2],\n",
      "       [  195],\n",
      "       [ 3134],\n",
      "       [    2],\n",
      "       [   46],\n",
      "       [ 3134],\n",
      "       [   59],\n",
      "       [   46],\n",
      "       [  156],\n",
      "       [   59],\n",
      "       [  128],\n",
      "       [  156],\n",
      "       [  742],\n",
      "       [  128],\n",
      "       [  477],\n",
      "       [  742],\n",
      "       [10572],\n",
      "       [  477],\n",
      "       [  134],\n",
      "       [10572],\n",
      "       [    1],\n",
      "       [  134],\n",
      "       [27350],\n",
      "       [    1],\n",
      "       [    2],\n",
      "       [27350],\n",
      "       [    1],\n",
      "       [    2],\n",
      "       [  103],\n",
      "       [    1],\n",
      "       [  855],\n",
      "       [  103],\n",
      "       [    3],\n",
      "       [  855],\n",
      "       [    1],\n",
      "       [    3],\n",
      "       [15068],\n",
      "       [    1],\n",
      "       [    0],\n",
      "       [15068],\n",
      "       [    2],\n",
      "       [    0],\n",
      "       [    1],\n",
      "       [    2],\n",
      "       [  151],\n",
      "       [    1],\n",
      "       [  855],\n",
      "       [  151],\n",
      "       [ 3581],\n",
      "       [  855],\n",
      "       [    1],\n",
      "       [ 3581],\n",
      "       [  195],\n",
      "       [    1],\n",
      "       [   11],\n",
      "       [  195],\n",
      "       [  191],\n",
      "       [   11],\n",
      "       [   59],\n",
      "       [  191],\n",
      "       [    5],\n",
      "       [   59],\n",
      "       [    6],\n",
      "       [    5],\n",
      "       [10713],\n",
      "       [    6],\n",
      "       [  215],\n",
      "       [10713],\n",
      "       [    7],\n",
      "       [  215],\n",
      "       [ 1325],\n",
      "       [    7],\n",
      "       [  105],\n",
      "       [ 1325],\n",
      "       [  455],\n",
      "       [  105],\n",
      "       [   20],\n",
      "       [  455],\n",
      "       [   59],\n",
      "       [   20],\n",
      "       [ 2732],\n",
      "       [   59],\n",
      "       [  363],\n",
      "       [ 2732],\n",
      "       [    7],\n",
      "       [  363],\n",
      "       [ 3673],\n",
      "       [    7],\n",
      "       [    1],\n",
      "       [ 3673],\n",
      "       [  709],\n",
      "       [    1],\n",
      "       [    2],\n",
      "       [  709],\n",
      "       [  372],\n",
      "       [    2],\n",
      "       [   27],\n",
      "       [  372],\n",
      "       [   41],\n",
      "       [   27],\n",
      "       [   37],\n",
      "       [   41],\n",
      "       [   54],\n",
      "       [   37],\n",
      "       [  540],\n",
      "       [   54],\n",
      "       [   98],\n",
      "       [  540],\n",
      "       [   12],\n",
      "       [   98],\n",
      "       [    6],\n",
      "       [   12],\n",
      "       [ 1424],\n",
      "       [    6],\n",
      "       [ 2758],\n",
      "       [ 1424],\n",
      "       [   19],\n",
      "       [ 2758],\n",
      "       [  568],\n",
      "       [   19]], dtype=int32)]\n"
     ]
    }
   ],
   "source": [
    "with tf.Session() as sess:\n",
    "    sess.run(iterator.initializer)   \n",
    "    t1=sess.run([center_words, target_words])\n",
    "    print(t1)"
   ]
  },
  {
   "cell_type": "code",
   "execution_count": 41,
   "metadata": {},
   "outputs": [
    {
     "name": "stdout",
     "output_type": "stream",
     "text": [
      "<class 'numpy.ndarray'>\n",
      "[ 5234  3081  3081    12    12     6     6   195   195     2     2  3134\n",
      "  3134    46    46    59    59   156   156   128   128   742   742   477\n",
      "   477 10572 10572   134   134     1     1 27350 27350     2     2     1\n",
      "     1   103   103   855   855     3     3     1     1 15068 15068     0\n",
      "     0     2     2     1     1   151   151   855   855  3581  3581     1\n",
      "     1   195   195    11    11   191   191    59    59     5     5     6\n",
      "     6 10713 10713   215   215     7     7  1325  1325   105   105   455\n",
      "   455    20    20    59    59  2732  2732   363   363     7     7  3673\n",
      "  3673     1     1   709   709     2     2   372   372    27    27    41\n",
      "    41    37    37    54    54   540   540    98    98    12    12     6\n",
      "     6  1424  1424  2758  2758    19    19   568]\n",
      "128\n"
     ]
    }
   ],
   "source": [
    "print(type(t1[0]))\n",
    "print(t1[0])\n",
    "cw=t1[0]\n",
    "print(cw.size)"
   ]
  },
  {
   "cell_type": "code",
   "execution_count": 44,
   "metadata": {},
   "outputs": [
    {
     "name": "stdout",
     "output_type": "stream",
     "text": [
      "[array([[0.5857949 , 0.39738178, 0.316985  , ..., 0.7479669 , 0.35447657,\n",
      "        0.5607126 ],\n",
      "       [0.8879    , 0.06618071, 0.07745922, ..., 0.665746  , 0.48201287,\n",
      "        0.7440702 ],\n",
      "       [0.7022183 , 0.28129148, 0.6190965 , ..., 0.473724  , 0.4520824 ,\n",
      "        0.72576654],\n",
      "       ...,\n",
      "       [0.8196589 , 0.24916649, 0.58480513, ..., 0.89530635, 0.7686573 ,\n",
      "        0.21347094],\n",
      "       [0.676559  , 0.86022353, 0.48458982, ..., 0.7456356 , 0.59780717,\n",
      "        0.04529643],\n",
      "       [0.3679073 , 0.03261995, 0.39265168, ..., 0.11875618, 0.66920555,\n",
      "        0.45949137]], dtype=float32), array([[0.2895224 , 0.8075273 , 0.6718035 , ..., 0.12125194, 0.780877  ,\n",
      "        0.13041902],\n",
      "       [0.5692445 , 0.9743459 , 0.84972167, ..., 0.3840276 , 0.6603266 ,\n",
      "        0.1316632 ],\n",
      "       [0.5692445 , 0.9743459 , 0.84972167, ..., 0.3840276 , 0.6603266 ,\n",
      "        0.1316632 ],\n",
      "       ...,\n",
      "       [0.06899464, 0.46470976, 0.91744256, ..., 0.4299885 , 0.12206829,\n",
      "        0.42168903],\n",
      "       [0.06899464, 0.46470976, 0.91744256, ..., 0.4299885 , 0.12206829,\n",
      "        0.42168903],\n",
      "       [0.8344841 , 0.55627453, 0.8004556 , ..., 0.4776492 , 0.78020763,\n",
      "        0.78412235]], dtype=float32)]\n"
     ]
    }
   ],
   "source": [
    "matrix = tf.get_variable('embed_matrix',\n",
    "                                        shape=[VOCAB_SIZE, EMBED_SIZE],\n",
    "                                        initializer=tf.random_uniform_initializer())\n",
    "embed = tf.nn.embedding_lookup(matrix, cw, name='embedding')\n",
    "\n",
    "with tf.Session() as sess:\n",
    "    sess.run(tf.global_variables_initializer())\n",
    "    t2=sess.run([matrix, embed])\n",
    "    print(t2)"
   ]
  },
  {
   "cell_type": "code",
   "execution_count": 48,
   "metadata": {},
   "outputs": [
    {
     "data": {
      "text/plain": [
       "(50000, 128)"
      ]
     },
     "execution_count": 48,
     "metadata": {},
     "output_type": "execute_result"
    }
   ],
   "source": [
    "t2[0].shape"
   ]
  },
  {
   "cell_type": "code",
   "execution_count": 55,
   "metadata": {},
   "outputs": [
    {
     "data": {
      "text/plain": [
       "array([0.2895224 , 0.8075273 , 0.6718035 , 0.60945   , 0.44296467,\n",
       "       0.7561674 , 0.42901242, 0.2659247 , 0.12689221, 0.6585249 ,\n",
       "       0.21787298, 0.5546049 , 0.05459678, 0.46345985, 0.58838785,\n",
       "       0.803673  , 0.9992738 , 0.62273324, 0.7765964 , 0.44869983,\n",
       "       0.73483706, 0.75568223, 0.1165688 , 0.4011314 , 0.89357626,\n",
       "       0.6707295 , 0.15336943, 0.07634044, 0.9564272 , 0.754912  ,\n",
       "       0.40156317, 0.79751194, 0.84552276, 0.63211894, 0.9407041 ,\n",
       "       0.6886319 , 0.55444646, 0.11448371, 0.41511536, 0.9803313 ,\n",
       "       0.63140833, 0.5232551 , 0.914178  , 0.6564342 , 0.32039058,\n",
       "       0.30430794, 0.30243134, 0.6423913 , 0.583194  , 0.03740895,\n",
       "       0.3320248 , 0.39419627, 0.62628603, 0.0452466 , 0.4675933 ,\n",
       "       0.98596036, 0.32360983, 0.4048941 , 0.05540204, 0.41336238,\n",
       "       0.11265695, 0.9634161 , 0.7474942 , 0.9315833 , 0.45512235,\n",
       "       0.71983945, 0.33835363, 0.903579  , 0.6039262 , 0.37284696,\n",
       "       0.38838315, 0.57908356, 0.44614422, 0.03583515, 0.03626978,\n",
       "       0.849139  , 0.9964373 , 0.35387325, 0.62274456, 0.6290368 ,\n",
       "       0.43986833, 0.87306523, 0.6924075 , 0.42686963, 0.8582239 ,\n",
       "       0.59621   , 0.02458632, 0.85478103, 0.27378547, 0.34597337,\n",
       "       0.577361  , 0.59689415, 0.21539485, 0.12331712, 0.07888699,\n",
       "       0.7637199 , 0.38275576, 0.38355744, 0.38618374, 0.00520897,\n",
       "       0.83045363, 0.18349338, 0.50796497, 0.93417716, 0.45174563,\n",
       "       0.7047192 , 0.81600094, 0.06847167, 0.7308346 , 0.08988309,\n",
       "       0.94031584, 0.64564   , 0.32267213, 0.5071176 , 0.96633935,\n",
       "       0.9250499 , 0.08751917, 0.85957444, 0.05643332, 0.55051565,\n",
       "       0.77487636, 0.859488  , 0.49478006, 0.13427961, 0.27454376,\n",
       "       0.12125194, 0.780877  , 0.13041902], dtype=float32)"
      ]
     },
     "execution_count": 55,
     "metadata": {},
     "output_type": "execute_result"
    }
   ],
   "source": [
    "t2[0][5234]"
   ]
  },
  {
   "cell_type": "code",
   "execution_count": 58,
   "metadata": {},
   "outputs": [
    {
     "data": {
      "text/plain": [
       "array([[0.2895224 , 0.8075273 , 0.6718035 , ..., 0.12125194, 0.780877  ,\n",
       "        0.13041902],\n",
       "       [0.5692445 , 0.9743459 , 0.84972167, ..., 0.3840276 , 0.6603266 ,\n",
       "        0.1316632 ],\n",
       "       [0.5692445 , 0.9743459 , 0.84972167, ..., 0.3840276 , 0.6603266 ,\n",
       "        0.1316632 ],\n",
       "       ...,\n",
       "       [0.06899464, 0.46470976, 0.91744256, ..., 0.4299885 , 0.12206829,\n",
       "        0.42168903],\n",
       "       [0.06899464, 0.46470976, 0.91744256, ..., 0.4299885 , 0.12206829,\n",
       "        0.42168903],\n",
       "       [0.8344841 , 0.55627453, 0.8004556 , ..., 0.4776492 , 0.78020763,\n",
       "        0.78412235]], dtype=float32)"
      ]
     },
     "execution_count": 58,
     "metadata": {},
     "output_type": "execute_result"
    }
   ],
   "source": [
    "t2[1]"
   ]
  },
  {
   "cell_type": "code",
   "execution_count": 56,
   "metadata": {},
   "outputs": [
    {
     "data": {
      "text/plain": [
       "array([0.5692445 , 0.9743459 , 0.84972167, 0.82206964, 0.6495608 ,\n",
       "       0.40676558, 0.20357656, 0.9944018 , 0.29481363, 0.88150895,\n",
       "       0.71226037, 0.23674381, 0.9166478 , 0.275815  , 0.8601899 ,\n",
       "       0.7308221 , 0.4279498 , 0.3352276 , 0.48107898, 0.2465266 ,\n",
       "       0.86219513, 0.13595045, 0.8949907 , 0.90325975, 0.35435915,\n",
       "       0.8926015 , 0.6031252 , 0.69958127, 0.84553885, 0.58696616,\n",
       "       0.5836046 , 0.9273795 , 0.80726814, 0.06600451, 0.8803251 ,\n",
       "       0.56940293, 0.08036399, 0.39630675, 0.9369793 , 0.9643992 ,\n",
       "       0.33129084, 0.77852356, 0.2033658 , 0.42007113, 0.9959024 ,\n",
       "       0.15478241, 0.30435765, 0.0329361 , 0.02492571, 0.41957188,\n",
       "       0.43303943, 0.21004367, 0.4250661 , 0.41326082, 0.9541336 ,\n",
       "       0.04867554, 0.35299754, 0.17306316, 0.03299594, 0.01911831,\n",
       "       0.22902095, 0.31636047, 0.45968366, 0.37746346, 0.68901694,\n",
       "       0.8428538 , 0.310004  , 0.5848739 , 0.68565667, 0.6073489 ,\n",
       "       0.9709977 , 0.5715388 , 0.6158376 , 0.1366936 , 0.76460946,\n",
       "       0.663146  , 0.5291244 , 0.82902   , 0.49675977, 0.2463119 ,\n",
       "       0.9581908 , 0.02893913, 0.29835212, 0.531458  , 0.7112764 ,\n",
       "       0.3291098 , 0.98785436, 0.02237809, 0.57532275, 0.13771129,\n",
       "       0.27312326, 0.2132107 , 0.11229646, 0.85457504, 0.55238974,\n",
       "       0.8440529 , 0.04773569, 0.06269753, 0.01721013, 0.1971947 ,\n",
       "       0.16211104, 0.8800329 , 0.38879883, 0.8588191 , 0.3607061 ,\n",
       "       0.34026897, 0.8777453 , 0.49104285, 0.8777729 , 0.37225485,\n",
       "       0.37586057, 0.2040515 , 0.2773459 , 0.05250156, 0.338876  ,\n",
       "       0.54193497, 0.06234455, 0.3365687 , 0.77726305, 0.9643748 ,\n",
       "       0.62857056, 0.94709456, 0.55688775, 0.6474711 , 0.935585  ,\n",
       "       0.3840276 , 0.6603266 , 0.1316632 ], dtype=float32)"
      ]
     },
     "execution_count": 56,
     "metadata": {},
     "output_type": "execute_result"
    }
   ],
   "source": [
    "t2[0][3081]"
   ]
  },
  {
   "cell_type": "code",
   "execution_count": null,
   "metadata": {},
   "outputs": [],
   "source": [
    "t2[]"
   ]
  },
  {
   "cell_type": "code",
   "execution_count": 3,
   "metadata": {},
   "outputs": [],
   "source": [
    "import zipfile\n",
    "def read_data(file_path):\n",
    "    \"\"\" Read data into a list of tokens \n",
    "    There should be 17,005,207 tokens\n",
    "    \"\"\"\n",
    "    with zipfile.ZipFile(file_path) as f:\n",
    "        words = tf.compat.as_str(f.read(f.namelist()[0])).split()\n",
    "    return words"
   ]
  },
  {
   "cell_type": "code",
   "execution_count": 4,
   "metadata": {},
   "outputs": [
    {
     "name": "stdout",
     "output_type": "stream",
     "text": [
      "data/text8.zip already exists\n",
      "<class 'list'>\n"
     ]
    }
   ],
   "source": [
    "local_dest = 'data/text8.zip'\n",
    "utils.download_one_file(DOWNLOAD_URL, local_dest, EXPECTED_BYTES)\n",
    "words = read_data(local_dest)\n",
    "print(type(words))"
   ]
  },
  {
   "cell_type": "markdown",
   "metadata": {},
   "source": [
    "### There are 17,005,207 tokens if you count tokens by splitting the text by blank space."
   ]
  },
  {
   "cell_type": "code",
   "execution_count": 5,
   "metadata": {},
   "outputs": [
    {
     "data": {
      "text/plain": [
       "'anarchism'"
      ]
     },
     "execution_count": 5,
     "metadata": {},
     "output_type": "execute_result"
    }
   ],
   "source": [
    "words[0]"
   ]
  },
  {
   "cell_type": "code",
   "execution_count": 6,
   "metadata": {},
   "outputs": [
    {
     "data": {
      "text/plain": [
       "'originated'"
      ]
     },
     "execution_count": 6,
     "metadata": {},
     "output_type": "execute_result"
    }
   ],
   "source": [
    "words[1]"
   ]
  },
  {
   "cell_type": "code",
   "execution_count": 7,
   "metadata": {},
   "outputs": [
    {
     "data": {
      "text/plain": [
       "17005207"
      ]
     },
     "execution_count": 7,
     "metadata": {},
     "output_type": "execute_result"
    }
   ],
   "source": [
    "len(words)"
   ]
  },
  {
   "cell_type": "code",
   "execution_count": 10,
   "metadata": {},
   "outputs": [
    {
     "name": "stdout",
     "output_type": "stream",
     "text": [
      "<class 'list'>\n",
      "50000\n",
      "('UNK', -1)\n",
      "('the', 1061396)\n",
      "('of', 593677)\n",
      "('and', 416629)\n",
      "('one', 411764)\n"
     ]
    }
   ],
   "source": [
    "from collections import Counter\n",
    "utils.safe_mkdir('visualization')\n",
    "file = open(os.path.join('visualization', 'vocab.tsv'), 'w')\n",
    "dictionary = dict()\n",
    "count = [('UNK', -1)]\n",
    "index = 0\n",
    "count.extend(Counter(words).most_common(VOCAB_SIZE - 1))\n",
    "print(type(count))\n",
    "print(len(count))\n",
    "print(count[0])\n",
    "print(count[1])\n",
    "print(count[2])\n",
    "print(count[3])\n",
    "print(count[4])"
   ]
  },
  {
   "cell_type": "code",
   "execution_count": 11,
   "metadata": {},
   "outputs": [],
   "source": [
    "for word, _ in count:\n",
    "        dictionary[word] = index\n",
    "       # print(word)\n",
    "       # print(index)\n",
    "        index += 1"
   ]
  },
  {
   "cell_type": "code",
   "execution_count": 12,
   "metadata": {},
   "outputs": [
    {
     "name": "stdout",
     "output_type": "stream",
     "text": [
      "UNK\n"
     ]
    }
   ],
   "source": [
    "print(list(dictionary.keys())[0])"
   ]
  },
  {
   "cell_type": "code",
   "execution_count": 13,
   "metadata": {},
   "outputs": [
    {
     "name": "stdout",
     "output_type": "stream",
     "text": [
      "0\n"
     ]
    }
   ],
   "source": [
    "print(list(dictionary.values())[0])"
   ]
  },
  {
   "cell_type": "code",
   "execution_count": 24,
   "metadata": {},
   "outputs": [
    {
     "name": "stdout",
     "output_type": "stream",
     "text": [
      "the\n"
     ]
    }
   ],
   "source": [
    "print(list(dictionary.keys())[1])"
   ]
  },
  {
   "cell_type": "code",
   "execution_count": 26,
   "metadata": {},
   "outputs": [
    {
     "name": "stdout",
     "output_type": "stream",
     "text": [
      "1\n"
     ]
    }
   ],
   "source": [
    "print(list(dictionary.values())[1])"
   ]
  },
  {
   "cell_type": "code",
   "execution_count": 14,
   "metadata": {},
   "outputs": [
    {
     "data": {
      "text/plain": [
       "50000"
      ]
     },
     "execution_count": 14,
     "metadata": {},
     "output_type": "execute_result"
    }
   ],
   "source": [
    "len(dictionary)"
   ]
  },
  {
   "cell_type": "code",
   "execution_count": 15,
   "metadata": {},
   "outputs": [
    {
     "data": {
      "text/plain": [
       "17005207"
      ]
     },
     "execution_count": 15,
     "metadata": {},
     "output_type": "execute_result"
    }
   ],
   "source": [
    "len(words)"
   ]
  },
  {
   "cell_type": "code",
   "execution_count": 16,
   "metadata": {},
   "outputs": [],
   "source": [
    "def convert_words_to_index(words, dictionary):\n",
    "    \"\"\" Replace each word in the dataset with its index in the dictionary \"\"\"\n",
    "    return [dictionary[word] if word in dictionary else 0 for word in words]"
   ]
  },
  {
   "cell_type": "code",
   "execution_count": 17,
   "metadata": {},
   "outputs": [
    {
     "name": "stdout",
     "output_type": "stream",
     "text": [
      "anarchism originated\n"
     ]
    }
   ],
   "source": [
    "print(words[0],words[1])"
   ]
  },
  {
   "cell_type": "markdown",
   "metadata": {},
   "source": [
    "### if 'anarchism' in dictionary ?"
   ]
  },
  {
   "cell_type": "code",
   "execution_count": 27,
   "metadata": {},
   "outputs": [
    {
     "data": {
      "text/plain": [
       "True"
      ]
     },
     "execution_count": 27,
     "metadata": {},
     "output_type": "execute_result"
    }
   ],
   "source": [
    "'anarchism' in dictionary"
   ]
  },
  {
   "cell_type": "code",
   "execution_count": 28,
   "metadata": {},
   "outputs": [
    {
     "data": {
      "text/plain": [
       "5234"
      ]
     },
     "execution_count": 28,
     "metadata": {},
     "output_type": "execute_result"
    }
   ],
   "source": [
    "dictionary['anarchism']"
   ]
  },
  {
   "cell_type": "code",
   "execution_count": 29,
   "metadata": {},
   "outputs": [
    {
     "data": {
      "text/plain": [
       "True"
      ]
     },
     "execution_count": 29,
     "metadata": {},
     "output_type": "execute_result"
    }
   ],
   "source": [
    "'originated' in dictionary"
   ]
  },
  {
   "cell_type": "code",
   "execution_count": 30,
   "metadata": {},
   "outputs": [
    {
     "data": {
      "text/plain": [
       "3081"
      ]
     },
     "execution_count": 30,
     "metadata": {},
     "output_type": "execute_result"
    }
   ],
   "source": [
    "dictionary['originated']"
   ]
  },
  {
   "cell_type": "code",
   "execution_count": 31,
   "metadata": {},
   "outputs": [],
   "source": [
    "index_words = convert_words_to_index(words, dictionary)"
   ]
  },
  {
   "cell_type": "code",
   "execution_count": 32,
   "metadata": {},
   "outputs": [
    {
     "name": "stdout",
     "output_type": "stream",
     "text": [
      "[5234, 3081]\n"
     ]
    }
   ],
   "source": [
    "print(index_words[0:2])"
   ]
  },
  {
   "cell_type": "code",
   "execution_count": null,
   "metadata": {},
   "outputs": [],
   "source": []
  },
  {
   "cell_type": "code",
   "execution_count": 25,
   "metadata": {},
   "outputs": [
    {
     "data": {
      "text/plain": [
       "list"
      ]
     },
     "execution_count": 25,
     "metadata": {},
     "output_type": "execute_result"
    }
   ],
   "source": [
    " type(index_words)"
   ]
  },
  {
   "cell_type": "code",
   "execution_count": 50,
   "metadata": {},
   "outputs": [],
   "source": [
    "import random\n",
    "def generate_sample():\n",
    "    for index,center in enumerate(index_words):\n",
    "        context = random.randint(1, SKIP_WINDOW)\n",
    "        print(index,center)\n",
    "        print(context)\n",
    "        for target in index_words[max(0, index - context): index]:\n",
    "            yield center,target"
   ]
  },
  {
   "cell_type": "code",
   "execution_count": 57,
   "metadata": {},
   "outputs": [],
   "source": [
    "single_gen = generate_sample()"
   ]
  },
  {
   "cell_type": "code",
   "execution_count": 58,
   "metadata": {},
   "outputs": [
    {
     "name": "stdout",
     "output_type": "stream",
     "text": [
      "0 5234\n",
      "1\n",
      "1 3081\n",
      "1\n"
     ]
    },
    {
     "data": {
      "text/plain": [
       "(3081, 5234)"
      ]
     },
     "execution_count": 58,
     "metadata": {},
     "output_type": "execute_result"
    }
   ],
   "source": [
    "next(single_gen)"
   ]
  },
  {
   "cell_type": "code",
   "execution_count": 59,
   "metadata": {},
   "outputs": [
    {
     "name": "stdout",
     "output_type": "stream",
     "text": [
      "2 12\n",
      "1\n"
     ]
    },
    {
     "data": {
      "text/plain": [
       "(12, 3081)"
      ]
     },
     "execution_count": 59,
     "metadata": {},
     "output_type": "execute_result"
    }
   ],
   "source": [
    "next(single_gen)"
   ]
  },
  {
   "cell_type": "code",
   "execution_count": 62,
   "metadata": {},
   "outputs": [
    {
     "name": "stdout",
     "output_type": "stream",
     "text": [
      "3 6\n",
      "1\n"
     ]
    },
    {
     "data": {
      "text/plain": [
       "(6, 12)"
      ]
     },
     "execution_count": 62,
     "metadata": {},
     "output_type": "execute_result"
    }
   ],
   "source": [
    "next(single_gen)"
   ]
  },
  {
   "cell_type": "code",
   "execution_count": 44,
   "metadata": {},
   "outputs": [],
   "source": [
    "def   yield5():\n",
    "    yield 5\n",
    "    yield 6"
   ]
  },
  {
   "cell_type": "code",
   "execution_count": 45,
   "metadata": {},
   "outputs": [],
   "source": []
  },
  {
   "cell_type": "code",
   "execution_count": 46,
   "metadata": {},
   "outputs": [
    {
     "data": {
      "text/plain": [
       "<generator object yield5 at 0x7fdce6fb2ba0>"
      ]
     },
     "execution_count": 46,
     "metadata": {},
     "output_type": "execute_result"
    }
   ],
   "source": [
    "a"
   ]
  },
  {
   "cell_type": "code",
   "execution_count": 47,
   "metadata": {},
   "outputs": [
    {
     "data": {
      "text/plain": [
       "5"
      ]
     },
     "execution_count": 47,
     "metadata": {},
     "output_type": "execute_result"
    }
   ],
   "source": [
    "next(a)"
   ]
  },
  {
   "cell_type": "code",
   "execution_count": 48,
   "metadata": {},
   "outputs": [
    {
     "data": {
      "text/plain": [
       "6"
      ]
     },
     "execution_count": 48,
     "metadata": {},
     "output_type": "execute_result"
    }
   ],
   "source": [
    "next(a)"
   ]
  },
  {
   "cell_type": "code",
   "execution_count": 49,
   "metadata": {},
   "outputs": [
    {
     "ename": "StopIteration",
     "evalue": "",
     "output_type": "error",
     "traceback": [
      "\u001b[0;31m---------------------------------------------------------------------------\u001b[0m",
      "\u001b[0;31mStopIteration\u001b[0m                             Traceback (most recent call last)",
      "\u001b[0;32m<ipython-input-49-15841f3f11d4>\u001b[0m in \u001b[0;36m<module>\u001b[0;34m\u001b[0m\n\u001b[0;32m----> 1\u001b[0;31m \u001b[0mnext\u001b[0m\u001b[0;34m(\u001b[0m\u001b[0ma\u001b[0m\u001b[0;34m)\u001b[0m\u001b[0;34m\u001b[0m\u001b[0;34m\u001b[0m\u001b[0m\n\u001b[0m",
      "\u001b[0;31mStopIteration\u001b[0m: "
     ]
    }
   ],
   "source": [
    "next(a)"
   ]
  },
  {
   "cell_type": "code",
   "execution_count": 51,
   "metadata": {},
   "outputs": [],
   "source": [
    "def   yield5():\n",
    "    yield 5"
   ]
  },
  {
   "cell_type": "code",
   "execution_count": 52,
   "metadata": {},
   "outputs": [],
   "source": [
    "a=yield5()"
   ]
  },
  {
   "cell_type": "code",
   "execution_count": 53,
   "metadata": {},
   "outputs": [
    {
     "data": {
      "text/plain": [
       "5"
      ]
     },
     "execution_count": 53,
     "metadata": {},
     "output_type": "execute_result"
    }
   ],
   "source": [
    "next(a)"
   ]
  },
  {
   "cell_type": "code",
   "execution_count": 54,
   "metadata": {},
   "outputs": [
    {
     "ename": "StopIteration",
     "evalue": "",
     "output_type": "error",
     "traceback": [
      "\u001b[0;31m---------------------------------------------------------------------------\u001b[0m",
      "\u001b[0;31mStopIteration\u001b[0m                             Traceback (most recent call last)",
      "\u001b[0;32m<ipython-input-54-15841f3f11d4>\u001b[0m in \u001b[0;36m<module>\u001b[0;34m\u001b[0m\n\u001b[0;32m----> 1\u001b[0;31m \u001b[0mnext\u001b[0m\u001b[0;34m(\u001b[0m\u001b[0ma\u001b[0m\u001b[0;34m)\u001b[0m\u001b[0;34m\u001b[0m\u001b[0;34m\u001b[0m\u001b[0m\n\u001b[0m",
      "\u001b[0;31mStopIteration\u001b[0m: "
     ]
    }
   ],
   "source": [
    "next(a)"
   ]
  },
  {
   "cell_type": "code",
   "execution_count": 54,
   "metadata": {},
   "outputs": [],
   "source": [
    "import random\n",
    "def generate_sample():\n",
    "    for index,center in enumerate(index_words):\n",
    "        context = random.randint(1, SKIP_WINDOW)\n",
    "        #print(index,center)\n",
    "        #print(context)\n",
    "        for target in index_words[max(0, index - context): index]:\n",
    "            yield center,target\n",
    "        for target in index_words[index + 1: index + context + 1]:\n",
    "            yield center, target"
   ]
  },
  {
   "cell_type": "code",
   "execution_count": 56,
   "metadata": {},
   "outputs": [],
   "source": [
    "single_gen = generate_sample()"
   ]
  },
  {
   "cell_type": "code",
   "execution_count": 53,
   "metadata": {},
   "outputs": [
    {
     "data": {
      "text/plain": [
       "[5234, 3081, 12, 6, 195, 2, 3134, 46, 59, 156, 128, 742, 477, 10572, 134]"
      ]
     },
     "execution_count": 53,
     "metadata": {},
     "output_type": "execute_result"
    }
   ],
   "source": [
    "index_words[:15]"
   ]
  },
  {
   "cell_type": "code",
   "execution_count": 36,
   "metadata": {},
   "outputs": [
    {
     "name": "stdout",
     "output_type": "stream",
     "text": [
      "0 5234\n",
      "1\n"
     ]
    },
    {
     "data": {
      "text/plain": [
       "(5234, 3081)"
      ]
     },
     "execution_count": 36,
     "metadata": {},
     "output_type": "execute_result"
    }
   ],
   "source": [
    "next(single_gen)"
   ]
  },
  {
   "cell_type": "code",
   "execution_count": 37,
   "metadata": {},
   "outputs": [
    {
     "name": "stdout",
     "output_type": "stream",
     "text": [
      "1 3081\n",
      "1\n"
     ]
    },
    {
     "data": {
      "text/plain": [
       "(3081, 5234)"
      ]
     },
     "execution_count": 37,
     "metadata": {},
     "output_type": "execute_result"
    }
   ],
   "source": [
    "next(single_gen)"
   ]
  },
  {
   "cell_type": "code",
   "execution_count": 38,
   "metadata": {},
   "outputs": [
    {
     "data": {
      "text/plain": [
       "(3081, 12)"
      ]
     },
     "execution_count": 38,
     "metadata": {},
     "output_type": "execute_result"
    }
   ],
   "source": [
    "next(single_gen)"
   ]
  },
  {
   "cell_type": "code",
   "execution_count": 39,
   "metadata": {},
   "outputs": [
    {
     "name": "stdout",
     "output_type": "stream",
     "text": [
      "2 12\n",
      "1\n"
     ]
    },
    {
     "data": {
      "text/plain": [
       "(12, 3081)"
      ]
     },
     "execution_count": 39,
     "metadata": {},
     "output_type": "execute_result"
    }
   ],
   "source": [
    "next(single_gen)"
   ]
  },
  {
   "cell_type": "code",
   "execution_count": 71,
   "metadata": {},
   "outputs": [
    {
     "data": {
      "text/plain": [
       "(12, 6)"
      ]
     },
     "execution_count": 71,
     "metadata": {},
     "output_type": "execute_result"
    }
   ],
   "source": [
    "next(single_gen)"
   ]
  },
  {
   "cell_type": "code",
   "execution_count": 30,
   "metadata": {},
   "outputs": [],
   "source": [
    "a=[0,1,2,3,4,5]"
   ]
  },
  {
   "cell_type": "code",
   "execution_count": 32,
   "metadata": {},
   "outputs": [
    {
     "data": {
      "text/plain": [
       "4"
      ]
     },
     "execution_count": 32,
     "metadata": {},
     "output_type": "execute_result"
    }
   ],
   "source": [
    "max(0,4)"
   ]
  },
  {
   "cell_type": "code",
   "execution_count": 33,
   "metadata": {},
   "outputs": [
    {
     "data": {
      "text/plain": [
       "[3]"
      ]
     },
     "execution_count": 33,
     "metadata": {},
     "output_type": "execute_result"
    }
   ],
   "source": [
    "a[3:4]"
   ]
  },
  {
   "cell_type": "code",
   "execution_count": 42,
   "metadata": {},
   "outputs": [],
   "source": [
    "center_batch = np.zeros(BATCH_SIZE , dtype=np.int32)"
   ]
  },
  {
   "cell_type": "code",
   "execution_count": 43,
   "metadata": {},
   "outputs": [
    {
     "data": {
      "text/plain": [
       "array([0, 0, 0, 0, 0, 0, 0, 0, 0, 0, 0, 0, 0, 0, 0, 0, 0, 0, 0, 0, 0, 0,\n",
       "       0, 0, 0, 0, 0, 0, 0, 0, 0, 0, 0, 0, 0, 0, 0, 0, 0, 0, 0, 0, 0, 0,\n",
       "       0, 0, 0, 0, 0, 0, 0, 0, 0, 0, 0, 0, 0, 0, 0, 0, 0, 0, 0, 0, 0, 0,\n",
       "       0, 0, 0, 0, 0, 0, 0, 0, 0, 0, 0, 0, 0, 0, 0, 0, 0, 0, 0, 0, 0, 0,\n",
       "       0, 0, 0, 0, 0, 0, 0, 0, 0, 0, 0, 0, 0, 0, 0, 0, 0, 0, 0, 0, 0, 0,\n",
       "       0, 0, 0, 0, 0, 0, 0, 0, 0, 0, 0, 0, 0, 0, 0, 0, 0, 0], dtype=int32)"
      ]
     },
     "execution_count": 43,
     "metadata": {},
     "output_type": "execute_result"
    }
   ],
   "source": [
    "center_batch"
   ]
  },
  {
   "cell_type": "code",
   "execution_count": 45,
   "metadata": {},
   "outputs": [],
   "source": [
    "target_batch = np.zeros([BATCH_SIZE,1])"
   ]
  },
  {
   "cell_type": "code",
   "execution_count": 48,
   "metadata": {},
   "outputs": [
    {
     "data": {
      "text/plain": [
       "array([0.])"
      ]
     },
     "execution_count": 48,
     "metadata": {},
     "output_type": "execute_result"
    }
   ],
   "source": [
    "target_batch[1]"
   ]
  },
  {
   "cell_type": "code",
   "execution_count": 50,
   "metadata": {},
   "outputs": [],
   "source": [
    "target_batch[1]=5"
   ]
  },
  {
   "cell_type": "code",
   "execution_count": 51,
   "metadata": {},
   "outputs": [
    {
     "data": {
      "text/plain": [
       "array([5.])"
      ]
     },
     "execution_count": 51,
     "metadata": {},
     "output_type": "execute_result"
    }
   ],
   "source": [
    "target_batch[1]"
   ]
  },
  {
   "cell_type": "code",
   "execution_count": 49,
   "metadata": {},
   "outputs": [
    {
     "data": {
      "text/plain": [
       "0"
      ]
     },
     "execution_count": 49,
     "metadata": {},
     "output_type": "execute_result"
    }
   ],
   "source": [
    "center_batch[1]"
   ]
  },
  {
   "cell_type": "code",
   "execution_count": 59,
   "metadata": {},
   "outputs": [
    {
     "name": "stdout",
     "output_type": "stream",
     "text": [
      "90 [27.]\n",
      "27 [90.]\n",
      "27 [271.]\n",
      "271 [27.]\n",
      "271 [38.]\n",
      "38 [271.]\n",
      "38 [5949.]\n",
      "5949 [38.]\n",
      "5949 [4862.]\n",
      "4862 [5949.]\n",
      "4862 [20300.]\n",
      "20300 [4862.]\n",
      "20300 [29.]\n",
      "29 [20300.]\n",
      "29 [0.]\n",
      "0 [29.]\n",
      "0 [42.]\n",
      "42 [0.]\n",
      "42 [318.]\n",
      "318 [42.]\n",
      "318 [6.]\n",
      "6 [318.]\n",
      "6 [25637.]\n",
      "25637 [6.]\n",
      "25637 [528.]\n",
      "528 [25637.]\n",
      "528 [7574.]\n",
      "7574 [528.]\n",
      "7574 [372.]\n",
      "372 [7574.]\n",
      "372 [5.]\n",
      "5 [372.]\n",
      "5 [259.]\n",
      "259 [5.]\n",
      "259 [2.]\n",
      "2 [259.]\n",
      "2 [154.]\n",
      "154 [2.]\n",
      "154 [26.]\n",
      "26 [154.]\n",
      "26 [1207.]\n",
      "1207 [26.]\n",
      "1207 [12.]\n",
      "12 [1207.]\n",
      "12 [7574.]\n",
      "7574 [12.]\n",
      "7574 [201.]\n",
      "201 [7574.]\n",
      "201 [1577.]\n",
      "1577 [201.]\n",
      "1577 [3.]\n",
      "3 [1577.]\n",
      "3 [15201.]\n",
      "15201 [3.]\n",
      "15201 [333.]\n",
      "333 [15201.]\n",
      "333 [1775.]\n",
      "1775 [333.]\n",
      "1775 [7089.]\n",
      "7089 [1775.]\n",
      "7089 [4861.]\n",
      "4861 [7089.]\n",
      "4861 [345.]\n",
      "345 [4861.]\n",
      "345 [765.]\n",
      "765 [345.]\n",
      "765 [161.]\n",
      "161 [765.]\n",
      "161 [407.]\n",
      "407 [161.]\n",
      "407 [5691.]\n",
      "5691 [407.]\n",
      "5691 [756.]\n",
      "756 [5691.]\n",
      "756 [2.]\n",
      "2 [756.]\n",
      "2 [4106.]\n",
      "4106 [2.]\n",
      "4106 [1132.]\n",
      "1132 [4106.]\n",
      "1132 [4332.]\n",
      "4332 [1132.]\n",
      "4332 [1537.]\n",
      "1537 [4332.]\n",
      "1537 [3.]\n",
      "3 [1537.]\n",
      "3 [568.]\n",
      "568 [3.]\n",
      "568 [8118.]\n",
      "8118 [568.]\n",
      "8118 [99.]\n",
      "99 [8118.]\n",
      "99 [5234.]\n",
      "5234 [99.]\n",
      "5234 [11.]\n",
      "11 [5234.]\n",
      "11 [52.]\n",
      "52 [11.]\n",
      "52 [1408.]\n",
      "1408 [52.]\n",
      "1408 [687.]\n",
      "687 [1408.]\n",
      "687 [19.]\n",
      "19 [687.]\n",
      "19 [154.]\n",
      "154 [19.]\n",
      "154 [27.]\n",
      "27 [154.]\n",
      "27 [11.]\n",
      "11 [27.]\n",
      "11 [156.]\n",
      "156 [11.]\n",
      "156 [7089.]\n",
      "7089 [156.]\n",
      "7089 [37.]\n",
      "37 [7089.]\n",
      "37 [2034.]\n",
      "2034 [37.]\n",
      "2034 [1424.]\n",
      "1424 [2034.]\n",
      "1424 [8175.]\n",
      "8175 [1424.]\n",
      "8175 [2.]\n",
      "2 [8175.]\n",
      "2 [154.]\n",
      "154 [2.]\n",
      "154 [47.]\n",
      "47 [154.]\n"
     ]
    }
   ],
   "source": [
    "for index in range(BATCH_SIZE):\n",
    "    center_batch[index],target_batch[index]=next(single_gen)\n",
    "    print(center_batch[index],target_batch[index])"
   ]
  },
  {
   "cell_type": "code",
   "execution_count": 61,
   "metadata": {},
   "outputs": [
    {
     "data": {
      "text/plain": [
       "128"
      ]
     },
     "execution_count": 61,
     "metadata": {},
     "output_type": "execute_result"
    }
   ],
   "source": [
    "center_batch.size"
   ]
  },
  {
   "cell_type": "code",
   "execution_count": null,
   "metadata": {},
   "outputs": [],
   "source": []
  }
 ],
 "metadata": {
  "kernelspec": {
   "display_name": "Python 3",
   "language": "python",
   "name": "python3"
  },
  "language_info": {
   "codemirror_mode": {
    "name": "ipython",
    "version": 3
   },
   "file_extension": ".py",
   "mimetype": "text/x-python",
   "name": "python",
   "nbconvert_exporter": "python",
   "pygments_lexer": "ipython3",
   "version": "3.6.6"
  }
 },
 "nbformat": 4,
 "nbformat_minor": 2
}
