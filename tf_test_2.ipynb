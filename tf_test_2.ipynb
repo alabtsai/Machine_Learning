{
 "cells": [
  {
   "cell_type": "code",
   "execution_count": 2,
   "metadata": {
    "scrolled": true
   },
   "outputs": [],
   "source": [
    "import tensorflow as tf"
   ]
  },
  {
   "cell_type": "code",
   "execution_count": 8,
   "metadata": {},
   "outputs": [],
   "source": [
    "a=tf.constant(10)\n",
    "b=tf.constant(5)\n",
    "c=tf.Variable(b+3)\n",
    "add=tf.add(a,b)\n",
    "sub=tf.subtract(a,b)\n",
    "mul=tf.multiply(a,b)\n",
    "div=tf.div(a,b)"
   ]
  },
  {
   "cell_type": "code",
   "execution_count": 9,
   "metadata": {},
   "outputs": [
    {
     "name": "stdout",
     "output_type": "stream",
     "text": [
      "a: 10\n",
      "b: 5\n",
      "c: 8\n",
      "a+b: 15\n",
      "a-b: 5\n",
      "a*b: 50\n",
      "a/b: 2\n"
     ]
    }
   ],
   "source": [
    "sess=tf.Session()\n",
    "sess.run(tf.global_variables_initializer())\n",
    "print(\"a:\",sess.run(a))\n",
    "print(\"b:\",sess.run(b))\n",
    "print(\"c:\",sess.run(c))\n",
    "print(\"a+b:\",sess.run(add))\n",
    "print(\"a-b:\",sess.run(sub))\n",
    "print(\"a*b:\",sess.run(mul))\n",
    "print(\"a/b:\",sess.run(div))\n",
    "sess.close()"
   ]
  },
  {
   "cell_type": "code",
   "execution_count": 10,
   "metadata": {},
   "outputs": [
    {
     "name": "stdout",
     "output_type": "stream",
     "text": [
      "10\n",
      "5\n",
      "8\n"
     ]
    }
   ],
   "source": [
    "with tf.Session() as sess:\n",
    "    sess.run(tf.global_variables_initializer())\n",
    "    print(sess.run(a))\n",
    "    print(sess.run(b))\n",
    "    print(sess.run(c))\n",
    "    \n",
    "    writer = tf.summary.FileWriter(\"log/\",graph=sess.graph)"
   ]
  },
  {
   "cell_type": "code",
   "execution_count": 11,
   "metadata": {
    "scrolled": true
   },
   "outputs": [
    {
     "name": "stdout",
     "output_type": "stream",
     "text": [
      "TensorBoard 1.5.1 at http://howard-System-Product-Name:6006 (Press CTRL+C to quit)\n",
      "\u001b[33mW0907 14:48:21.687528 Thread-3 application.py:273] path /[[_dataImageSrc]] not found, sending 404\n",
      "\u001b[0m^C\n"
     ]
    }
   ],
   "source": [
    "!tensorboard --logdir=log"
   ]
  },
  {
   "cell_type": "code",
   "execution_count": 3,
   "metadata": {},
   "outputs": [],
   "source": [
    "x=tf.placeholder(tf.int32)\n",
    "y=tf.placeholder(tf.int32)"
   ]
  },
  {
   "cell_type": "code",
   "execution_count": 6,
   "metadata": {},
   "outputs": [],
   "source": [
    "add=tf.add(x,y)\n",
    "sub=tf.subtract(x,y)\n",
    "mul=tf.multiply(x,y)\n",
    "div=tf.div(x,y)"
   ]
  },
  {
   "cell_type": "code",
   "execution_count": 8,
   "metadata": {},
   "outputs": [
    {
     "name": "stdout",
     "output_type": "stream",
     "text": [
      "x+y: 12\n",
      "x-y: 8\n",
      "x*y: 20\n",
      "x/y: 5\n"
     ]
    }
   ],
   "source": [
    "with tf.Session() as sess:\n",
    "    print(\"x+y:\",sess.run(add,  feed_dict={x:10, y:2}))\n",
    "    print(\"x-y:\",sess.run(sub,  feed_dict={x:10, y:2}))\n",
    "    print(\"x*y:\",sess.run(mul,  feed_dict={x:10, y:2}))\n",
    "    print(\"x/y:\",sess.run(div,  feed_dict={x:10, y:2}))"
   ]
  },
  {
   "cell_type": "markdown",
   "metadata": {},
   "source": [
    "## create matrix by tensorflow !! "
   ]
  },
  {
   "cell_type": "code",
   "execution_count": 9,
   "metadata": {},
   "outputs": [
    {
     "data": {
      "text/plain": [
       "<tf.Tensor 'Const:0' shape=(3, 2) dtype=float32>"
      ]
     },
     "execution_count": 9,
     "metadata": {},
     "output_type": "execute_result"
    }
   ],
   "source": [
    "matrix1=tf.constant([ [3.,3.],[4.,4.],[5.,5.]  ])\n",
    "matrix1"
   ]
  },
  {
   "cell_type": "code",
   "execution_count": 11,
   "metadata": {},
   "outputs": [
    {
     "data": {
      "text/plain": [
       "<tf.Tensor 'Const_2:0' shape=(2, 1) dtype=float32>"
      ]
     },
     "execution_count": 11,
     "metadata": {},
     "output_type": "execute_result"
    }
   ],
   "source": [
    "matrix2 = tf.constant([ [2.],[1.] ])\n",
    "matrix2"
   ]
  },
  {
   "cell_type": "code",
   "execution_count": 12,
   "metadata": {},
   "outputs": [],
   "source": [
    "product=tf.matmul(matrix1, matrix2)"
   ]
  },
  {
   "cell_type": "code",
   "execution_count": 13,
   "metadata": {},
   "outputs": [
    {
     "name": "stdout",
     "output_type": "stream",
     "text": [
      "matrix1\n",
      " [[3. 3.]\n",
      " [4. 4.]\n",
      " [5. 5.]]\n",
      "matrix2\n",
      " [[2.]\n",
      " [1.]]\n",
      "product\n",
      " [[ 9.]\n",
      " [12.]\n",
      " [15.]]\n"
     ]
    }
   ],
   "source": [
    "with tf.Session() as sess:\n",
    "    print(\"matrix1\\n\",sess.run(matrix1))\n",
    "    print(\"matrix2\\n\",sess.run(matrix2))\n",
    "    print(\"product\\n\",sess.run(product))"
   ]
  },
  {
   "cell_type": "code",
   "execution_count": null,
   "metadata": {},
   "outputs": [],
   "source": []
  }
 ],
 "metadata": {
  "kernelspec": {
   "display_name": "Python 3",
   "language": "python",
   "name": "python3"
  },
  "language_info": {
   "codemirror_mode": {
    "name": "ipython",
    "version": 3
   },
   "file_extension": ".py",
   "mimetype": "text/x-python",
   "name": "python",
   "nbconvert_exporter": "python",
   "pygments_lexer": "ipython3",
   "version": "3.6.6"
  }
 },
 "nbformat": 4,
 "nbformat_minor": 2
}
