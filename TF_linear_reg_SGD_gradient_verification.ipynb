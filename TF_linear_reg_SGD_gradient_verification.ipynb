{
 "cells": [
  {
   "cell_type": "markdown",
   "metadata": {},
   "source": [
    "## Linear regresion stochastistic gradient descent verification"
   ]
  },
  {
   "cell_type": "code",
   "execution_count": 1,
   "metadata": {},
   "outputs": [],
   "source": [
    "# To plot pretty figures\n",
    "%matplotlib inline\n",
    "import matplotlib\n",
    "import matplotlib.pyplot as plt\n",
    "plt.rcParams['axes.labelsize'] = 14\n",
    "plt.rcParams['xtick.labelsize'] = 12\n",
    "plt.rcParams['ytick.labelsize'] = 12"
   ]
  },
  {
   "cell_type": "code",
   "execution_count": 2,
   "metadata": {},
   "outputs": [],
   "source": [
    "# to make this notebook's output stable across runs\n",
    "import numpy as np\n",
    "np.random.seed(42)"
   ]
  },
  {
   "cell_type": "markdown",
   "metadata": {},
   "source": [
    "## the ideal  model is y=4+3x"
   ]
  },
  {
   "cell_type": "code",
   "execution_count": 3,
   "metadata": {},
   "outputs": [
    {
     "name": "stdout",
     "output_type": "stream",
     "text": [
      "(100, 1)\n",
      "(100, 1)\n"
     ]
    }
   ],
   "source": [
    "X=2*np.random.rand(100,1)\n",
    "y=4 + 3*X + np.random.randn(100,1)\n",
    "print(X.shape)\n",
    "print(y.shape)"
   ]
  },
  {
   "cell_type": "code",
   "execution_count": 4,
   "metadata": {},
   "outputs": [
    {
     "data": {
      "text/plain": [
       "2"
      ]
     },
     "execution_count": 4,
     "metadata": {},
     "output_type": "execute_result"
    }
   ],
   "source": [
    "X.ndim"
   ]
  },
  {
   "cell_type": "code",
   "execution_count": 5,
   "metadata": {},
   "outputs": [
    {
     "data": {
      "text/plain": [
       "2"
      ]
     },
     "execution_count": 5,
     "metadata": {},
     "output_type": "execute_result"
    }
   ],
   "source": [
    "y.ndim"
   ]
  },
  {
   "cell_type": "code",
   "execution_count": 6,
   "metadata": {},
   "outputs": [
    {
     "data": {
      "text/plain": [
       "numpy.ndarray"
      ]
     },
     "execution_count": 6,
     "metadata": {},
     "output_type": "execute_result"
    }
   ],
   "source": [
    "type(X)"
   ]
  },
  {
   "cell_type": "code",
   "execution_count": 7,
   "metadata": {},
   "outputs": [
    {
     "data": {
      "text/plain": [
       "numpy.ndarray"
      ]
     },
     "execution_count": 7,
     "metadata": {},
     "output_type": "execute_result"
    }
   ],
   "source": [
    "type(y)"
   ]
  },
  {
   "cell_type": "markdown",
   "metadata": {},
   "source": [
    "### X , y : column vector"
   ]
  },
  {
   "cell_type": "code",
   "execution_count": 8,
   "metadata": {},
   "outputs": [
    {
     "data": {
      "text/plain": [
       "array([[0.74908024],\n",
       "       [1.90142861],\n",
       "       [1.46398788],\n",
       "       [1.19731697],\n",
       "       [0.31203728]])"
      ]
     },
     "execution_count": 8,
     "metadata": {},
     "output_type": "execute_result"
    }
   ],
   "source": [
    "X[:5]"
   ]
  },
  {
   "cell_type": "code",
   "execution_count": 9,
   "metadata": {},
   "outputs": [
    {
     "data": {
      "text/plain": [
       "array([[6.33428778],\n",
       "       [9.40527849],\n",
       "       [8.48372443],\n",
       "       [5.60438199],\n",
       "       [4.71643995]])"
      ]
     },
     "execution_count": 9,
     "metadata": {},
     "output_type": "execute_result"
    }
   ],
   "source": [
    "y[:5]"
   ]
  },
  {
   "cell_type": "code",
   "execution_count": 10,
   "metadata": {},
   "outputs": [],
   "source": [
    "data=np.hstack((X,y))"
   ]
  },
  {
   "cell_type": "code",
   "execution_count": 11,
   "metadata": {},
   "outputs": [
    {
     "name": "stdout",
     "output_type": "stream",
     "text": [
      "<class 'numpy.ndarray'>\n"
     ]
    }
   ],
   "source": [
    "print(type(data))"
   ]
  },
  {
   "cell_type": "code",
   "execution_count": 12,
   "metadata": {},
   "outputs": [
    {
     "data": {
      "text/plain": [
       "2"
      ]
     },
     "execution_count": 12,
     "metadata": {},
     "output_type": "execute_result"
    }
   ],
   "source": [
    "data.ndim"
   ]
  },
  {
   "cell_type": "code",
   "execution_count": 13,
   "metadata": {},
   "outputs": [
    {
     "name": "stdout",
     "output_type": "stream",
     "text": [
      "[[0.74908024 6.33428778]\n",
      " [1.90142861 9.40527849]\n",
      " [1.46398788 8.48372443]\n",
      " [1.19731697 5.60438199]\n",
      " [0.31203728 4.71643995]]\n"
     ]
    }
   ],
   "source": [
    "print(data[:5])"
   ]
  },
  {
   "cell_type": "markdown",
   "metadata": {},
   "source": [
    "## Let's see the input versus output"
   ]
  },
  {
   "cell_type": "code",
   "execution_count": 14,
   "metadata": {},
   "outputs": [
    {
     "data": {
      "image/png": "[encoded data removed]",
      "text/plain": [
       "<Figure size 432x288 with 1 Axes>"
      ]
     },
     "metadata": {
      "needs_background": "light"
     },
     "output_type": "display_data"
    }
   ],
   "source": [
    "plt.plot(X, y, \"b.\")\n",
    "plt.xlabel(\"$x_1$\", fontsize=18)\n",
    "plt.ylabel(\"$y$\", rotation=0, fontsize=18)\n",
    "plt.axis([0, 2, 0, 15])\n",
    "plt.show()"
   ]
  },
  {
   "cell_type": "code",
   "execution_count": 15,
   "metadata": {},
   "outputs": [
    {
     "name": "stdout",
     "output_type": "stream",
     "text": [
      "[[0.74908024 6.33428778]\n",
      " [1.90142861 9.40527849]\n",
      " [1.46398788 8.48372443]\n",
      " [1.19731697 5.60438199]\n",
      " [0.31203728 4.71643995]]\n"
     ]
    }
   ],
   "source": [
    "print(data[:5])"
   ]
  },
  {
   "cell_type": "code",
   "execution_count": 16,
   "metadata": {},
   "outputs": [
    {
     "data": {
      "text/plain": [
       "200"
      ]
     },
     "execution_count": 16,
     "metadata": {},
     "output_type": "execute_result"
    }
   ],
   "source": [
    "np.size(data)"
   ]
  },
  {
   "cell_type": "code",
   "execution_count": 17,
   "metadata": {},
   "outputs": [
    {
     "name": "stdout",
     "output_type": "stream",
     "text": [
      "100\n"
     ]
    }
   ],
   "source": [
    "n_samples=np.size(data,0)\n",
    "print(n_samples)"
   ]
  },
  {
   "cell_type": "code",
   "execution_count": 18,
   "metadata": {},
   "outputs": [
    {
     "data": {
      "text/plain": [
       "2"
      ]
     },
     "execution_count": 18,
     "metadata": {},
     "output_type": "execute_result"
    }
   ],
   "source": [
    "np.size(data,1)"
   ]
  },
  {
   "cell_type": "markdown",
   "metadata": {},
   "source": [
    "###  Step 1: create placeholders for X (birth rate) and Y (life expectancy)"
   ]
  },
  {
   "cell_type": "code",
   "execution_count": 19,
   "metadata": {},
   "outputs": [],
   "source": [
    "import tensorflow as tf\n",
    "Xi = tf.placeholder(tf.float32, name='X')\n",
    "Yo = tf.placeholder(tf.float32, name='Y')"
   ]
  },
  {
   "cell_type": "markdown",
   "metadata": {},
   "source": [
    "### Step 2: create weight and bias, initialized to 0"
   ]
  },
  {
   "cell_type": "code",
   "execution_count": 20,
   "metadata": {},
   "outputs": [
    {
     "name": "stdout",
     "output_type": "stream",
     "text": [
      "WARNING:tensorflow:From /home/larry/tensorflow_prac/env/lib/python3.6/site-packages/tensorflow/python/framework/op_def_library.py:263: colocate_with (from tensorflow.python.framework.ops) is deprecated and will be removed in a future version.\n",
      "Instructions for updating:\n",
      "Colocations handled automatically by placer.\n"
     ]
    }
   ],
   "source": [
    "w = tf.get_variable('weights', initializer=tf.constant(0.0))\n",
    "b = tf.get_variable('bias', initializer=tf.constant(0.0))"
   ]
  },
  {
   "cell_type": "code",
   "execution_count": 21,
   "metadata": {},
   "outputs": [],
   "source": [
    "Y_predicted = w * Xi + b "
   ]
  },
  {
   "cell_type": "markdown",
   "metadata": {},
   "source": [
    "### note the 0.5 in the loss term"
   ]
  },
  {
   "cell_type": "code",
   "execution_count": 22,
   "metadata": {},
   "outputs": [],
   "source": [
    "loss = 0.5*tf.square(Yo - Y_predicted, name='loss')"
   ]
  },
  {
   "cell_type": "code",
   "execution_count": 23,
   "metadata": {},
   "outputs": [],
   "source": [
    "optimizer = tf.train.GradientDescentOptimizer(learning_rate=0.001).minimize(loss)"
   ]
  },
  {
   "cell_type": "code",
   "execution_count": 24,
   "metadata": {},
   "outputs": [],
   "source": [
    "db=(Y_predicted - Yo)*1"
   ]
  },
  {
   "cell_type": "code",
   "execution_count": 25,
   "metadata": {},
   "outputs": [],
   "source": [
    "dw=(Y_predicted - Yo)*Xi"
   ]
  },
  {
   "cell_type": "code",
   "execution_count": 26,
   "metadata": {},
   "outputs": [
    {
     "name": "stdout",
     "output_type": "stream",
     "text": [
      "0.749080237694725 6.334287781322345\n",
      "[w,b]= 0.0 0.0\n",
      "[dw,db]= -4.7448897 -6.3342876\n",
      "[w-alpha*dw,b+alpha*db]= 0.004744889736175538 0.006334287643432617\n",
      "loss= 20.0616\n",
      " \n",
      "1.9014286128198323 9.40527848799363\n",
      "[w,b]= 0.00474489 0.006334288\n",
      "[dw,db]= -17.854267 -9.389922\n",
      "[w-alpha*dw,b+alpha*db]= 0.0225991572663188 0.015724210187792777\n",
      "loss= 44.08532\n",
      " \n",
      "1.4639878836228102 8.483724427403931\n",
      "[w,b]= 0.022599157 0.015724212\n",
      "[dw,db]= -12.348614 -8.434916\n",
      "[w-alpha*dw,b+alpha*db]= 0.0349477706849575 0.024159127473831178\n",
      "loss= 35.5739\n",
      " \n",
      "1.1973169683940732 5.604381990581327\n",
      "[w,b]= 0.03494777 0.024159128\n",
      "[dw,db]= -6.6311955 -5.538379\n",
      "[w-alpha*dw,b+alpha*db]= 0.04157896712422371 0.029697507038712503\n",
      "loss= 15.3368225\n",
      " \n",
      "0.31203728088487304 4.716439954817107\n",
      "[w,b]= 0.041578967 0.029697508\n",
      "[dw,db]= -1.4583899 -4.673768\n",
      "[w-alpha*dw,b+alpha*db]= 0.043037357002496716 0.034371275663375854\n",
      "loss= 10.922054\n",
      " \n",
      "0.3119890406724053 5.293079693528962\n",
      "[w,b]= 0.04303736 0.034371275\n",
      "[dw,db]= -1.6364702 -5.245281\n",
      "[w-alpha*dw,b+alpha*db]= 0.04467382887005806 0.03961655667424202\n",
      "loss= 13.756488\n",
      " \n",
      "0.11616722433639892 5.826395717750713\n",
      "[w,b]= 0.04467383 0.039616555\n",
      "[dw,db]= -0.6716312 -5.7815895\n",
      "[w-alpha*dw,b+alpha*db]= 0.04534546148777008 0.045398144483566286\n",
      "loss= 16.713388\n",
      " \n",
      "1.7323522915498704 8.678786656375964\n",
      "[w,b]= 0.045345463 0.045398146\n",
      "[dw,db]= -14.819985 -8.554833\n",
      "[w-alpha*dw,b+alpha*db]= 0.060165448248386384 0.053952979326248166\n",
      "loss= 36.592587\n",
      " \n",
      "1.2022300234864176 6.798196467566066\n",
      "[w,b]= 0.06016545 0.05395298\n",
      "[dw,db]= -8.021172 -6.671911\n",
      "[w-alpha*dw,b+alpha*db]= 0.0681866215467453 0.06062489154934883\n",
      "loss= 22.257196\n",
      " \n",
      "1.416145155592091 7.746678423191737\n",
      "[w,b]= 0.068186626 0.06062489\n",
      "[dw,db]= -10.747822 -7.5894914\n",
      "[w-alpha*dw,b+alpha*db]= 0.07893444764614105 0.06821438139677048\n",
      "loss= 28.80019\n",
      " \n",
      "0.041168988591604894 5.038909083476889\n",
      "[w,b]= 0.078934446 0.06821438\n",
      "[dw,db]= -0.20450468 -4.967445\n",
      "[w-alpha*dw,b+alpha*db]= 0.07913895066082477 0.07318182414770126\n",
      "loss= 12.337754\n",
      " \n",
      "1.9398197043239886 10.14821022263165\n",
      "[w,b]= 0.07913895 0.07318182\n",
      "[dw,db]= -19.245947 -9.921514\n",
      "[w-alpha*dw,b+alpha*db]= 0.09838489639759064 0.0831033364534378\n",
      "loss= 49.218216\n",
      " \n",
      "1.6648852816008435 8.464895641035492\n",
      "[w,b]= 0.0983849 0.08310334\n",
      "[dw,db]= -13.682015 -8.217993\n",
      "[w-alpha*dw,b+alpha*db]= 0.1120669173002243 0.09132132917642594\n",
      "loss= 33.767704\n",
      " \n",
      "0.4246782213565523 5.787302097183012\n",
      "[w,b]= 0.11206692 0.09132133\n",
      "[dw,db]= -2.3987477 -5.6483884\n",
      "[w-alpha*dw,b+alpha*db]= 0.11446566480398178 0.09696971517801285\n",
      "loss= 15.952146\n",
      " \n",
      "0.36364993441420124 5.188027352590644\n",
      "[w,b]= 0.11446566 0.096969716\n",
      "[dw,db]= -1.8362257 -5.0494323\n",
      "[w-alpha*dw,b+alpha*db]= 0.11630188709497452 0.1020191485285759\n",
      "loss= 12.7483835\n",
      " \n",
      "0.36680901970686763 6.069072049653492\n",
      "[w,b]= 0.11630189 0.102019146\n",
      "[dw,db]= -2.1731207 -5.9243927\n",
      "[w-alpha*dw,b+alpha*db]= 0.11847500747442245 0.10794353878498078\n",
      "loss= 17.549215\n",
      " \n",
      "0.6084844859190754 5.123400363879874\n",
      "[w,b]= 0.118475005 0.10794354\n",
      "[dw,db]= -3.007962 -4.9433665\n",
      "[w-alpha*dw,b+alpha*db]= 0.12148296701908112 0.11288690882921219\n",
      "loss= 12.218436\n",
      " \n",
      "1.0495128632644757 6.820876443195659\n",
      "[w,b]= 0.12148297 0.112886906\n",
      "[dw,db]= -6.9063106 -6.5804915\n",
      "[w-alpha*dw,b+alpha*db]= 0.12838927888870239 0.11946739721298218\n",
      "loss= 21.651434\n",
      " \n",
      "0.8638900372842315 6.199561958720537\n",
      "[w,b]= 0.12838928 0.1194674\n",
      "[dw,db]= -5.156716 -5.9691806\n",
      "[w-alpha*dw,b+alpha*db]= 0.13354599988460542 0.12543658059835433\n",
      "loss= 17.815557\n",
      " \n",
      "0.5824582803960838 4.283859893056133\n",
      "[w,b]= 0.133546 0.12543657\n",
      "[dw,db]= -2.3768015 -4.0806384\n",
      "[w-alpha*dw,b+alpha*db]= 0.13592279624938966 0.12951721262931823\n",
      "loss= 8.325805\n",
      " \n",
      "1.223705789444759 7.9672376453988525\n",
      "[w,b]= 0.13592279 0.12951721\n",
      "[dw,db]= -9.387525 -7.6713905\n",
      "[w-alpha*dw,b+alpha*db]= 0.1453103141784668 0.1371886030435562\n",
      "loss= 29.425116\n",
      " \n",
      "0.27898772130408367 5.09801843609214\n",
      "[w,b]= 0.14531031 0.1371886\n",
      "[dw,db]= -1.3727007 -4.9202905\n",
      "[w-alpha*dw,b+alpha*db]= 0.14668301320075988 0.1421088889837265\n",
      "loss= 12.1046295\n",
      " \n",
      "0.5842892970704363 5.757981347853771\n",
      "[w,b]= 0.14668301 0.14210889\n",
      "[dw,db]= -3.2312176 -5.530167\n",
      "[w-alpha*dw,b+alpha*db]= 0.14991422510147095 0.14763905453681947\n",
      "loss= 15.291374\n",
      " \n",
      "0.7327236865873834 5.963583926387003\n",
      "[w,b]= 0.14991422 0.14763905\n",
      "[dw,db]= -4.180994 -5.706099\n",
      "[w-alpha*dw,b+alpha*db]= 0.15409521400928497 0.1533451501131058\n",
      "loss= 16.279783\n",
      " \n",
      "0.9121399684340719 5.321049163251801\n",
      "[w,b]= 0.15409522 0.15334515\n",
      "[dw,db]= -4.585462 -5.027148\n",
      "[w-alpha*dw,b+alpha*db]= 0.15868067967891694 0.15837230050563814\n",
      "loss= 12.636107\n",
      " \n",
      "1.5703519227860272 8.290410445592721\n",
      "[w,b]= 0.15868068 0.1583723\n",
      "[dw,db]= -12.378854 -7.882853\n",
      "[w-alpha*dw,b+alpha*db]= 0.17105953121185302 0.1662551509141922\n",
      "loss= 31.069687\n",
      " \n",
      "0.39934756431671947 4.855328176423389\n",
      "[w,b]= 0.17105953 0.16625515\n",
      "[dw,db]= -1.8452897 -4.620761\n",
      "[w-alpha*dw,b+alpha*db]= 0.17290482366085053 0.1708759071826935\n",
      "loss= 10.675715\n",
      " \n",
      "1.0284688768272232 6.28312936126005\n",
      "[w,b]= 0.17290482 0.1708759\n",
      "[dw,db]= -6.1033726 -5.9344263\n",
      "[w-alpha*dw,b+alpha*db]= 0.17900819182395936 0.1768103332519531\n",
      "loss= 17.608707\n",
      " \n",
      "1.184829137724085 7.3932017015062454\n",
      "[w,b]= 0.17900819 0.17681034\n",
      "[dw,db]= -8.298895 -7.0042973\n",
      "[w-alpha*dw,b+alpha*db]= 0.18730708074569702 0.18381463634967804\n",
      "loss= 24.53009\n",
      " \n",
      "0.09290082543999545 4.682753333134524\n",
      "[w,b]= 0.18730707 0.18381463\n",
      "[dw,db]= -0.41633856 -4.481538\n",
      "[w-alpha*dw,b+alpha*db]= 0.18772341322898864 0.1882961677312851\n",
      "loss= 10.04209\n",
      " \n",
      "1.2150897038028767 9.53145501261916\n",
      "[w,b]= 0.18772341 0.18829617\n",
      "[dw,db]= -11.075613 -9.115058\n",
      "[w-alpha*dw,b+alpha*db]= 0.19879902613162995 0.19741122698783875\n",
      "loss= 41.54214\n",
      " \n",
      "0.34104824737458306 5.197722554955589\n",
      "[w,b]= 0.19879903 0.19741122\n",
      "[dw,db]= -1.6822243 -4.9325113\n",
      "[w-alpha*dw,b+alpha*db]= 0.20048125326633454 0.20234373557567598\n",
      "loss= 12.164834\n",
      " \n",
      "0.13010318597055903 4.647859948634442\n",
      "[w,b]= 0.20048125 0.20234373\n",
      "[dw,db]= -0.57498235 -4.419433\n",
      "[w-alpha*dw,b+alpha*db]= 0.20105623322725297 0.2067631652355194\n",
      "loss= 9.765695\n",
      " \n",
      "1.8977710745066665 9.618867307753833\n",
      "[w,b]= 0.20105623 0.20676316\n",
      "[dw,db]= -17.137907 -9.030545\n",
      "[w-alpha*dw,b+alpha*db]= 0.21819413411617278 0.21579370844364165\n",
      "loss= 40.775375\n",
      " \n",
      "1.9312640661491187 7.875020983148315\n",
      "[w,b]= 0.21819413 0.21579371\n",
      "[dw,db]= -13.978174 -7.237837\n",
      "[w-alpha*dw,b+alpha*db]= 0.23217230129241945 0.22303155076503753\n",
      "loss= 26.193142\n",
      " \n",
      "1.6167946962329223 8.82387021324955\n",
      "[w,b]= 0.2321723 0.22303155\n",
      "[dw,db]= -13.298886 -8.225464\n",
      "[w-alpha*dw,b+alpha*db]= 0.24547118175029756 0.23125701451301575\n",
      "loss= 33.82913\n",
      " \n",
      "0.6092275383467414 5.8879128249812505\n",
      "[w,b]= 0.24547118 0.23125702\n",
      "[dw,db]= -3.3550818 -5.5071077\n",
      "[w-alpha*dw,b+alpha*db]= 0.24882626128196716 0.23676412916183473\n",
      "loss= 15.164118\n",
      " \n",
      "0.19534422801276774 7.049274796523589\n",
      "[w,b]= 0.24882627 0.23676413\n",
      "[dw,db]= -1.3212897 -6.763904\n",
      "[w-alpha*dw,b+alpha*db]= 0.25014755499362945 0.24352803707122803\n",
      "loss= 22.875198\n",
      " \n",
      "1.3684660530243138 7.913037194291818\n",
      "[w,b]= 0.25014755 0.24352804\n",
      "[dw,db]= -10.027012 -7.327191\n",
      "[w-alpha*dw,b+alpha*db]= 0.26017456316947934 0.250855229139328\n",
      "loss= 26.843863\n",
      " \n",
      "0.8803049874792026 6.94246230477122\n",
      "[w,b]= 0.26017457 0.25085524\n",
      "[dw,db]= -5.6890364 -6.462574\n",
      "[w-alpha*dw,b+alpha*db]= 0.2658636088371277 0.25731781125068665\n",
      "loss= 20.882431\n",
      " \n",
      "0.24407646968955765 4.697517639363429\n",
      "[w,b]= 0.2658636 0.2573178\n",
      "[dw,db]= -1.06791 -4.375309\n",
      "[w-alpha*dw,b+alpha*db]= 0.2669315073490143 0.26169312024116514\n",
      "loss= 9.571665\n",
      " \n",
      "0.9903538202225404 5.802383423048089\n",
      "[w,b]= 0.2669315 0.26169312\n",
      "[dw,db]= -5.225437 -5.276334\n",
      "[w-alpha*dw,b+alpha*db]= 0.2721569411754608 0.2669694538116455\n",
      "loss= 13.919849\n",
      " \n",
      "0.06877704223043679 5.349153941206331\n",
      "[w,b]= 0.27215695 0.26696944\n",
      "[dw,db]= -0.34825024 -5.0634665\n",
      "[w-alpha*dw,b+alpha*db]= 0.272505204051733 0.2720329089164734\n",
      "loss= 12.819346\n",
      " \n",
      "1.8186408041575641 10.207855445159465\n",
      "[w,b]= 0.2725052 0.27203292\n",
      "[dw,db]= -17.168394 -9.440233\n",
      "[w-alpha*dw,b+alpha*db]= 0.2896735880374908 0.28147314977645876\n",
      "loss= 44.559002\n",
      " \n",
      "0.5175599632000338 6.343711836643148\n",
      "[w,b]= 0.2896736 0.28147316\n",
      "[dw,db]= -3.0599775 -5.9123154\n",
      "[w-alpha*dw,b+alpha*db]= 0.2927335741519928 0.2873854751586914\n",
      "loss= 17.477737\n",
      " \n",
      "1.325044568707964 7.065746251329152\n",
      "[w,b]= 0.29273358 0.28738546\n",
      "[dw,db]= -8.467665 -6.3904757\n",
      "[w-alpha*dw,b+alpha*db]= 0.3012012445926666 0.2937759394645691\n",
      "loss= 20.41909\n",
      " \n",
      "0.6234221521788219 7.273060767472565\n",
      "[w,b]= 0.30120125 0.29377595\n",
      "[dw,db]= -4.2339773 -6.791509\n",
      "[w-alpha*dw,b+alpha*db]= 0.30543523144721985 0.3005674550533295\n",
      "loss= 23.062298\n",
      " \n",
      "1.0401360423556216 5.718557064274584\n",
      "[w,b]= 0.30543524 0.30056745\n",
      "[dw,db]= -5.305001 -5.100295\n",
      "[w-alpha*dw,b+alpha*db]= 0.31074024105072023 0.3056677432060242\n",
      "loss= 13.006505\n",
      " \n",
      "1.0934205586865593 7.867118769859948\n",
      "[w,b]= 0.31074023 0.30566776\n",
      "[dw,db]= -7.8963346 -7.2216816\n",
      "[w-alpha*dw,b+alpha*db]= 0.3186365671157837 0.3128894395828247\n",
      "loss= 26.076342\n",
      " \n",
      "0.3697089110510541 7.299582358963141\n",
      "[w,b]= 0.31863657 0.31288943\n",
      "[dw,db]= -2.53949 -6.8688903\n",
      "[w-alpha*dw,b+alpha*db]= 0.32117605638504026 0.31975831723213194\n",
      "loss= 23.590826\n",
      " \n",
      "1.9391692555291171 8.826971441456662\n",
      "[w,b]= 0.32117605 0.31975833\n",
      "[dw,db]= -15.289183 -7.884398\n",
      "[w-alpha*dw,b+alpha*db]= 0.3364652347564697 0.3276427237987518\n",
      "loss= 31.081865\n",
      " \n",
      "1.550265646722229 8.084499210563916\n",
      "[w,b]= 0.33646524 0.32764274\n",
      "[dw,db]= -11.216554 -7.235246\n",
      "[w-alpha*dw,b+alpha*db]= 0.3476817932128906 0.33487798500061033\n",
      "loss= 26.174393\n",
      " \n",
      "1.8789978831283782 9.736645014472776\n",
      "[w,b]= 0.3476818 0.334878\n",
      "[dw,db]= -16.438362 -8.748473\n",
      "[w-alpha*dw,b+alpha*db]= 0.36412015271186826 0.3436264708042145\n",
      "loss= 38.26789\n",
      " \n",
      "1.7896547008552977 8.865488448449694\n",
      "[w,b]= 0.36412016 0.34362647\n",
      "[dw,db]= -14.084962 -7.870212\n",
      "[w-alpha*dw,b+alpha*db]= 0.37820511746406554 0.35149668145179747\n",
      "loss= 30.97012\n",
      " \n",
      "1.1957999576221703 6.036736441800379\n",
      "[w,b]= 0.37820512 0.3514967\n",
      "[dw,db]= -6.2576 -5.232982\n",
      "[w-alpha*dw,b+alpha*db]= 0.38446272039413454 0.3567296786308289\n",
      "loss= 13.692051\n",
      " \n",
      "1.8437484700462337 9.59980838494473\n",
      "[w,b]= 0.3844627 0.3567297\n",
      "[dw,db]= -15.734966 -8.534226\n",
      "[w-alpha*dw,b+alpha*db]= 0.40019768047332765 0.36526391267776487\n",
      "loss= 36.41651\n",
      " \n",
      "0.176985004103839 3.468651298585412\n",
      "[w,b]= 0.40019768 0.3652639\n",
      "[dw,db]= -0.5367174 -3.0325584\n",
      "[w-alpha*dw,b+alpha*db]= 0.400734402179718 0.36829646754264833\n",
      "loss= 4.5982056\n",
      " \n",
      "0.3919657248382904 5.649489605150053\n",
      "[w,b]= 0.4007344 0.36829647\n",
      "[dw,db]= -2.0084789 -5.124119\n",
      "[w-alpha*dw,b+alpha*db]= 0.4027428736686707 0.37342059302330016\n",
      "loss= 13.128297\n",
      " \n",
      "0.09045457782107613 3.3519394992294256\n",
      "[w,b]= 0.40274286 0.3734206\n",
      "[dw,db]= -0.2661254 -2.9420888\n",
      "[w-alpha*dw,b+alpha*db]= 0.40300898811221125 0.37636268496513364\n",
      "loss= 4.3279433\n",
      " \n",
      "0.6506606615265287 7.501916389597126\n",
      "[w,b]= 0.403009 0.37636268\n",
      "[dw,db]= -4.4656997 -6.863332\n",
      "[w-alpha*dw,b+alpha*db]= 0.40747469711303713 0.38322601318359373\n",
      "loss= 23.552662\n",
      " \n",
      "0.777354579378964 5.548810445800655\n",
      "[w,b]= 0.4074747 0.383226\n",
      "[dw,db]= -3.7692618 -4.848832\n",
      "[w-alpha*dw,b+alpha*db]= 0.41124395847320555 0.3880748393535614\n",
      "loss= 11.755587\n",
      " \n",
      "0.5426980635477918 5.3060326744377\n",
      "[w,b]= 0.41124395 0.38807485\n",
      "[dw,db]= -2.5478463 -4.6947765\n",
      "[w-alpha*dw,b+alpha*db]= 0.413791791677475 0.3927696216106415\n",
      "loss= 11.020463\n",
      " \n",
      "1.6574750183038587 9.785942272281245\n",
      "[w,b]= 0.4137918 0.39276963\n",
      "[dw,db]= -14.43217 -8.707323\n",
      "[w-alpha*dw,b+alpha*db]= 0.4282239754199982 0.40147695779800413\n",
      "loss= 37.908737\n",
      " \n",
      "0.7135066533871786 4.9096556437275805\n",
      "[w,b]= 0.42822397 0.40147695\n",
      "[dw,db]= -2.9986103 -4.202638\n",
      "[w-alpha*dw,b+alpha*db]= 0.4312225778102875 0.40567958760261535\n",
      "loss= 8.831083\n",
      " \n",
      "0.5618690193747615 5.913066992728415\n",
      "[w,b]= 0.4312226 0.40567958\n",
      "[dw,db]= -2.9582946 -5.2650967\n",
      "[w-alpha*dw,b+alpha*db]= 0.43418088245391845 0.4109446802139282\n",
      "loss= 13.860621\n",
      " \n",
      "1.085392166316497 8.563319253231919\n",
      "[w,b]= 0.4341809 0.41094467\n",
      "[dw,db]= -8.337025 -7.681118\n",
      "[w-alpha*dw,b+alpha*db]= 0.4425179102420807 0.41862578845024107\n",
      "loss= 29.499786\n",
      " \n",
      "0.2818484499495253 3.2380621152873488\n",
      "[w,b]= 0.4425179 0.4186258\n",
      "[dw,db]= -0.7595008 -2.6947134\n",
      "[w-alpha*dw,b+alpha*db]= 0.4432774072289467 0.4213205151557922\n",
      "loss= 3.63074\n",
      " \n",
      "1.6043939615080793 8.997815743056542\n",
      "[w,b]= 0.44327742 0.42132053\n",
      "[dw,db]= -12.619046 -7.865304\n",
      "[w-alpha*dw,b+alpha*db]= 0.4558964648246765 0.42918583178520203\n",
      "loss= 30.931503\n",
      " \n",
      "0.14910128735954165 4.707186656327049\n",
      "[w,b]= 0.45589647 0.42918584\n",
      "[dw,db]= -0.62772036 -4.2100263\n",
      "[w-alpha*dw,b+alpha*db]= 0.4565241873264313 0.43339586377143857\n",
      "loss= 8.862161\n",
      " \n",
      "1.9737738732010346 10.703144491380414\n",
      "[w,b]= 0.4565242 0.43339586\n",
      "[dw,db]= -18.49164 -9.368672\n",
      "[w-alpha*dw,b+alpha*db]= 0.47501583337783815 0.44276453495025636\n",
      "loss= 43.88601\n",
      " \n",
      "1.5444895385933148 7.396517904901863\n",
      "[w,b]= 0.47501582 0.44276452\n",
      "[dw,db]= -9.6068735 -6.2200966\n",
      "[w-alpha*dw,b+alpha*db]= 0.48462269258499147 0.4489846172332764\n",
      "loss= 19.3448\n",
      " \n",
      "0.3974313630683448 3.8718374761207586\n",
      "[w,b]= 0.4846227 0.44898462\n",
      "[dw,db]= -1.283802 -3.2302485\n",
      "[w-alpha*dw,b+alpha*db]= 0.48590648913383483 0.4522148714065552\n",
      "loss= 5.2172527\n",
      " \n",
      "0.011044234247204798 4.555074268358512\n",
      "[w,b]= 0.48590648 0.45221487\n",
      "[dw,db]= -0.045253668 -4.0974927\n",
      "[w-alpha*dw,b+alpha*db]= 0.4859517354108393 0.4563123595714569\n",
      "loss= 8.394723\n",
      " \n",
      "1.6309228569096683 9.18975324396219\n",
      "[w,b]= 0.48595172 0.45631236\n",
      "[dw,db]= -12.950981 -7.9408913\n",
      "[w-alpha*dw,b+alpha*db]= 0.4989027028083801 0.4642532496452332\n",
      "loss= 31.528877\n",
      " \n",
      "1.4137146876952342 8.491636913431579\n",
      "[w,b]= 0.4989027 0.46425325\n",
      "[dw,db]= -10.351329 -7.3220778\n",
      "[w-alpha*dw,b+alpha*db]= 0.5092540371418 0.4715753245353699\n",
      "loss= 26.806412\n",
      " \n",
      "1.4580143360819746 8.720491217742898\n",
      "[w,b]= 0.50925404 0.47157532\n",
      "[dw,db]= -10.944463 -7.5064163\n",
      "[w-alpha*dw,b+alpha*db]= 0.5201985011100769 0.4790817360877991\n",
      "loss= 28.173143\n",
      " \n",
      "1.5425406933718915 7.947597358537184\n",
      "[w,b]= 0.5201985 0.47908175\n",
      "[dw,db]= -10.282712 -6.666088\n",
      "[w-alpha*dw,b+alpha*db]= 0.5304812359809875 0.48574783802032473\n",
      "loss= 22.218365\n",
      " \n",
      "0.14808930346818072 4.676521607565546\n",
      "[w,b]= 0.5304812 0.48574784\n",
      "[dw,db]= -0.6089751 -4.1122155\n",
      "[w-alpha*dw,b+alpha*db]= 0.5310901944041252 0.4898600594997406\n",
      "loss= 8.455158\n",
      " \n",
      "0.7169314570885452 6.443866844564317\n",
      "[w,b]= 0.5310902 0.48986006\n",
      "[dw,db]= -3.995639 -5.5732512\n",
      "[w-alpha*dw,b+alpha*db]= 0.5350858390331268 0.49543330907821653\n",
      "loss= 15.530564\n",
      " \n",
      "0.23173811905025943 3.9808629391244104\n",
      "[w,b]= 0.53508586 0.4954333\n",
      "[dw,db]= -0.7789714 -3.3614297\n",
      "[w-alpha*dw,b+alpha*db]= 0.5358648282885552 0.498794730424881\n",
      "loss= 5.649605\n",
      " \n",
      "1.726206851751187 11.044395066398318\n"
     ]
    },
    {
     "name": "stdout",
     "output_type": "stream",
     "text": [
      "[w,b]= 0.53586483 0.49879473\n",
      "[dw,db]= -16.607124 -9.620587\n",
      "[w-alpha*dw,b+alpha*db]= 0.5524719543457032 0.5084153218269348\n",
      "loss= 46.27785\n",
      " \n",
      "1.2465962536551158 8.213621681877136\n",
      "[w,b]= 0.55247194 0.50841534\n",
      "[dw,db]= -8.746739 -7.0164976\n",
      "[w-alpha*dw,b+alpha*db]= 0.5612186751365662 0.5154318389892578\n",
      "loss= 24.61562\n",
      " \n",
      "0.6617960497052984 4.794084651913247\n",
      "[w,b]= 0.5612187 0.5154318\n",
      "[dw,db]= -2.585796 -3.9072404\n",
      "[w-alpha*dw,b+alpha*db]= 0.5638044750690461 0.5193390617370606\n",
      "loss= 7.6332636\n",
      " \n",
      "0.12711670057204727 5.037903710349971\n",
      "[w,b]= 0.56380445 0.5193391\n",
      "[dw,db]= -0.56527466 -4.4468956\n",
      "[w-alpha*dw,b+alpha*db]= 0.5643697223067283 0.5237859802246094\n",
      "loss= 9.887441\n",
      " \n",
      "0.6219646434313244 4.891212260066652\n",
      "[w,b]= 0.56436974 0.523786\n",
      "[dw,db]= -2.498064 -4.0164084\n",
      "[w-alpha*dw,b+alpha*db]= 0.566867802143097 0.5278024168014527\n",
      "loss= 8.065768\n",
      " \n",
      "0.6503666440534941 6.738184535902934\n",
      "[w,b]= 0.5668678 0.5278024\n",
      "[dw,db]= -3.7992535 -5.84171\n",
      "[w-alpha*dw,b+alpha*db]= 0.5706670818328857 0.5336441178321838\n",
      "loss= 17.062788\n",
      " \n",
      "1.4592123566761281 9.536232649035789\n",
      "[w,b]= 0.5706671 0.53364414\n",
      "[dw,db]= -11.921567 -8.169865\n",
      "[w-alpha*dw,b+alpha*db]= 0.5825886549949646 0.5418140044212342\n",
      "loss= 33.373344\n",
      " \n",
      "1.2751149427104262 7.004662509779568\n",
      "[w,b]= 0.5825887 0.541814\n",
      "[dw,db]= -7.293633 -5.719981\n",
      "[w-alpha*dw,b+alpha*db]= 0.5898823056221009 0.5475340104103088\n",
      "loss= 16.359093\n",
      " \n",
      "1.774425485152653 10.286652584702281\n",
      "[w,b]= 0.5898823 0.547534\n",
      "[dw,db]= -15.424045 -8.692416\n",
      "[w-alpha*dw,b+alpha*db]= 0.6053063588142396 0.5562264051437378\n",
      "loss= 37.77905\n",
      " \n",
      "0.9444298503238986 7.2460704779081935\n",
      "[w,b]= 0.6053064 0.55622643\n",
      "[dw,db]= -5.778187 -6.1181746\n",
      "[w-alpha*dw,b+alpha*db]= 0.6110845737457276 0.5623446068763733\n",
      "loss= 18.71603\n",
      " \n",
      "0.2391884918766034 5.5396256356243\n",
      "[w,b]= 0.6110846 0.5623446\n",
      "[dw,db]= -1.1555475 -4.8311167\n",
      "[w-alpha*dw,b+alpha*db]= 0.6122401279211044 0.5671757273674011\n",
      "loss= 11.669845\n",
      " \n",
      "1.42648957444599 10.176261705991918\n",
      "[w,b]= 0.61224014 0.56717575\n",
      "[dw,db]= -12.461431 -8.735732\n",
      "[w-alpha*dw,b+alpha*db]= 0.6247015662193298 0.5759114780426026\n",
      "loss= 38.156506\n",
      " \n",
      "1.5215700972337949 8.319322175698515\n",
      "[w,b]= 0.62470156 0.57591146\n",
      "[dw,db]= -10.335849 -6.792884\n",
      "[w-alpha*dw,b+alpha*db]= 0.6350374083518981 0.5827043461799621\n",
      "loss= 23.071636\n",
      " \n",
      "1.1225543951389925 6.613927021059488\n",
      "[w,b]= 0.6350374 0.58270437\n",
      "[dw,db]= -5.9701467 -5.3183584\n",
      "[w-alpha*dw,b+alpha*db]= 0.6410075688362121 0.5880227236747742\n",
      "loss= 14.142468\n",
      " \n",
      "1.541934359909122 7.736288650101843\n",
      "[w,b]= 0.64100754 0.5880227\n",
      "[dw,db]= -9.498121 -6.159874\n",
      "[w-alpha*dw,b+alpha*db]= 0.6505056638717651 0.5941825828552246\n",
      "loss= 18.972023\n",
      " \n",
      "0.9875911927287815 6.146963293220907\n",
      "[w,b]= 0.65050566 0.5941826\n",
      "[dw,db]= -4.8494153 -4.910347\n",
      "[w-alpha*dw,b+alpha*db]= 0.6553550772666931 0.599092957496643\n",
      "loss= 12.055754\n",
      " \n",
      "1.0454656587639881 7.05929526687786\n",
      "[w,b]= 0.6553551 0.59909296\n",
      "[dw,db]= -6.0376177 -5.775051\n",
      "[w-alpha*dw,b+alpha*db]= 0.6613927135467529 0.6048680114746093\n",
      "loss= 16.675608\n",
      " \n",
      "0.8550820367170993 6.906398084967942\n",
      "[w,b]= 0.6613927 0.604868\n",
      "[dw,db]= -4.904738 -5.7359853\n",
      "[w-alpha*dw,b+alpha*db]= 0.666297426700592 0.6106039800643921\n",
      "loss= 16.450764\n",
      " \n",
      "0.05083825348819038 4.429205559794591\n",
      "[w,b]= 0.66629744 0.610604\n",
      "[dw,db]= -0.19240896 -3.784728\n",
      "[w-alpha*dw,b+alpha*db]= 0.666489844724536 0.6143887162208557\n",
      "loss= 7.162083\n",
      " \n",
      "0.2157828539866089 5.474531810995851\n",
      "[w,b]= 0.66648984 0.6143887\n",
      "[dw,db]= -1.0177022 -4.7163258\n",
      "[w-alpha*dw,b+alpha*db]= 0.6675075417757035 0.6191050300598144\n",
      "loss= 11.121864\n",
      " \n",
      "count= 100\n",
      " \n"
     ]
    }
   ],
   "source": [
    "with tf.Session() as sess:\n",
    "    sess.run(tf.global_variables_initializer()) \n",
    "    #  train the model for 20 epochs\n",
    "    for i in range(1):\n",
    "        total_loss = 0\n",
    "        count=0\n",
    "        for xq,yq in data:\n",
    "            print(xq,yq)\n",
    "            w_,b_=sess.run([w, b])\n",
    "            print('[w,b]=',w_,b_)\n",
    "            dw_,db_=sess.run([dw,db], feed_dict={Xi: xq, Yo:yq})\n",
    "            print('[dw,db]=',dw_,db_)\n",
    "            print('[w-alpha*dw,b+alpha*db]=',w_-0.001*dw_,b_-0.001*db_)\n",
    "            _, l = sess.run([optimizer, loss], feed_dict={Xi: xq, Yo:yq})\n",
    "            print('loss=',l)\n",
    "            total_loss += l\n",
    "            count=count+1\n",
    "            print(' ')\n",
    "        w_out, b_out = sess.run([w, b])\n",
    "        #print('Epoch {0}: {1}'.format(i, total_loss/n_samples))\n",
    "        print(\"count=\",count)\n",
    "        #print(w_out, b_out)\n",
    "        print(\" \")"
   ]
  },
  {
   "cell_type": "code",
   "execution_count": 28,
   "metadata": {},
   "outputs": [
    {
     "data": {
      "text/plain": [
       "array([[0.74908024, 6.33428778],\n",
       "       [1.90142861, 9.40527849],\n",
       "       [1.46398788, 8.48372443],\n",
       "       [1.19731697, 5.60438199],\n",
       "       [0.31203728, 4.71643995],\n",
       "       [0.31198904, 5.29307969],\n",
       "       [0.11616722, 5.82639572],\n",
       "       [1.73235229, 8.67878666],\n",
       "       [1.20223002, 6.79819647],\n",
       "       [1.41614516, 7.74667842]])"
      ]
     },
     "execution_count": 28,
     "metadata": {},
     "output_type": "execute_result"
    }
   ],
   "source": [
    "data[:10]"
   ]
  },
  {
   "cell_type": "code",
   "execution_count": null,
   "metadata": {},
   "outputs": [],
   "source": []
  },
  {
   "cell_type": "code",
   "execution_count": null,
   "metadata": {},
   "outputs": [],
   "source": []
  }
 ],
 "metadata": {
  "kernelspec": {
   "display_name": "Python 3",
   "language": "python",
   "name": "python3"
  },
  "language_info": {
   "codemirror_mode": {
    "name": "ipython",
    "version": 3
   },
   "file_extension": ".py",
   "mimetype": "text/x-python",
   "name": "python",
   "nbconvert_exporter": "python",
   "pygments_lexer": "ipython3",
   "version": "3.6.7"
  }
 },
 "nbformat": 4,
 "nbformat_minor": 2
}
