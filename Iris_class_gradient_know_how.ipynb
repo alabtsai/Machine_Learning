{
 "cells": [
  {
   "cell_type": "code",
   "execution_count": 1,
   "metadata": {},
   "outputs": [],
   "source": [
    "import numpy as np\n",
    "import tensorflow as tf\n",
    "np.random.seed(2042)"
   ]
  },
  {
   "cell_type": "code",
   "execution_count": 2,
   "metadata": {},
   "outputs": [
    {
     "data": {
      "text/plain": [
       "['data', 'target', 'target_names', 'DESCR', 'feature_names', 'filename']"
      ]
     },
     "execution_count": 2,
     "metadata": {},
     "output_type": "execute_result"
    }
   ],
   "source": [
    "from sklearn import datasets\n",
    "iris=datasets.load_iris()\n",
    "list(iris.keys())"
   ]
  },
  {
   "cell_type": "code",
   "execution_count": 3,
   "metadata": {},
   "outputs": [
    {
     "name": "stdout",
     "output_type": "stream",
     "text": [
      "150\n"
     ]
    }
   ],
   "source": [
    "X = iris[\"data\"][:, (2, 3)]  # petal length, petal width\n",
    "y = iris[\"target\"]\n",
    "print(len(X))"
   ]
  },
  {
   "cell_type": "markdown",
   "metadata": {},
   "source": [
    "### total 150 samples"
   ]
  },
  {
   "cell_type": "code",
   "execution_count": 4,
   "metadata": {},
   "outputs": [
    {
     "name": "stdout",
     "output_type": "stream",
     "text": [
      "float32\n",
      "(150, 2)\n"
     ]
    }
   ],
   "source": [
    "X=X.astype('float32')\n",
    "print(X.dtype)\n",
    "print(X.shape)"
   ]
  },
  {
   "cell_type": "code",
   "execution_count": 5,
   "metadata": {},
   "outputs": [],
   "source": [
    "X_with_bias = np.c_[np.ones([len(X), 1]), X]"
   ]
  },
  {
   "cell_type": "code",
   "execution_count": 6,
   "metadata": {},
   "outputs": [
    {
     "data": {
      "text/plain": [
       "array([[1.        , 1.39999998, 0.2       ],\n",
       "       [1.        , 1.39999998, 0.2       ],\n",
       "       [1.        , 1.29999995, 0.2       ],\n",
       "       [1.        , 1.5       , 0.2       ],\n",
       "       [1.        , 1.39999998, 0.2       ]])"
      ]
     },
     "execution_count": 6,
     "metadata": {},
     "output_type": "execute_result"
    }
   ],
   "source": [
    "X_with_bias[:5]"
   ]
  },
  {
   "cell_type": "code",
   "execution_count": 8,
   "metadata": {},
   "outputs": [
    {
     "data": {
      "text/plain": [
       "array([[1.4, 0.2],\n",
       "       [1.4, 0.2],\n",
       "       [1.3, 0.2],\n",
       "       [1.5, 0.2],\n",
       "       [1.4, 0.2]], dtype=float32)"
      ]
     },
     "execution_count": 8,
     "metadata": {},
     "output_type": "execute_result"
    }
   ],
   "source": [
    "X[:5]"
   ]
  },
  {
   "cell_type": "code",
   "execution_count": 9,
   "metadata": {},
   "outputs": [],
   "source": [
    "test_ratio = 0.2\n",
    "validation_ratio = 0.2\n",
    "total_size = len(X_with_bias)\n",
    "\n",
    "test_size = int(total_size * test_ratio)\n",
    "validation_size = int(total_size * validation_ratio)\n",
    "train_size = total_size - test_size - validation_size\n",
    "\n",
    "rnd_indices = np.random.permutation(total_size)"
   ]
  },
  {
   "cell_type": "markdown",
   "metadata": {},
   "source": [
    "### total=150, train=90, test=30"
   ]
  },
  {
   "cell_type": "code",
   "execution_count": 10,
   "metadata": {},
   "outputs": [
    {
     "name": "stdout",
     "output_type": "stream",
     "text": [
      "90\n",
      "30\n"
     ]
    }
   ],
   "source": [
    "print(train_size)\n",
    "print(test_size)"
   ]
  },
  {
   "cell_type": "code",
   "execution_count": 11,
   "metadata": {},
   "outputs": [],
   "source": [
    "X_train = X_with_bias[rnd_indices[:train_size]]\n",
    "y_train = y[rnd_indices[:train_size]]\n",
    "X_valid = X_with_bias[rnd_indices[train_size:-test_size]]\n",
    "y_valid = y[rnd_indices[train_size:-test_size]]\n",
    "X_test = X_with_bias[rnd_indices[-test_size:]]\n",
    "y_test = y[rnd_indices[-test_size:]]"
   ]
  },
  {
   "cell_type": "code",
   "execution_count": 12,
   "metadata": {},
   "outputs": [],
   "source": [
    "X_train_wo_bias = X[rnd_indices[:train_size]]"
   ]
  },
  {
   "cell_type": "code",
   "execution_count": 13,
   "metadata": {},
   "outputs": [
    {
     "data": {
      "text/plain": [
       "array([[1.4, 0.2],\n",
       "       [4.1, 1.3],\n",
       "       [5.2, 2. ],\n",
       "       [4. , 1.3],\n",
       "       [4.1, 1.3]], dtype=float32)"
      ]
     },
     "execution_count": 13,
     "metadata": {},
     "output_type": "execute_result"
    }
   ],
   "source": [
    "X_train_wo_bias[:5]"
   ]
  },
  {
   "cell_type": "code",
   "execution_count": 14,
   "metadata": {},
   "outputs": [
    {
     "data": {
      "text/plain": [
       "array([[1.        , 1.39999998, 0.2       ],\n",
       "       [1.        , 4.0999999 , 1.29999995],\n",
       "       [1.        , 5.19999981, 2.        ],\n",
       "       [1.        , 4.        , 1.29999995],\n",
       "       [1.        , 4.0999999 , 1.29999995]])"
      ]
     },
     "execution_count": 14,
     "metadata": {},
     "output_type": "execute_result"
    }
   ],
   "source": [
    "X_train[:5]"
   ]
  },
  {
   "cell_type": "code",
   "execution_count": 15,
   "metadata": {},
   "outputs": [
    {
     "data": {
      "text/plain": [
       "(90, 3)"
      ]
     },
     "execution_count": 15,
     "metadata": {},
     "output_type": "execute_result"
    }
   ],
   "source": [
    "X_train.shape"
   ]
  },
  {
   "cell_type": "code",
   "execution_count": 16,
   "metadata": {},
   "outputs": [
    {
     "data": {
      "text/plain": [
       "array([0, 1, 2])"
      ]
     },
     "execution_count": 16,
     "metadata": {},
     "output_type": "execute_result"
    }
   ],
   "source": [
    "np.unique(y_train)"
   ]
  },
  {
   "cell_type": "code",
   "execution_count": 17,
   "metadata": {},
   "outputs": [],
   "source": [
    "def to_one_hot(y):\n",
    "    n_classes = y.max() + 1\n",
    "    m = len(y)\n",
    "    Y_one_hot = np.zeros((m, n_classes))\n",
    "    Y_one_hot[np.arange(m), y] = 1\n",
    "    return Y_one_hot"
   ]
  },
  {
   "cell_type": "code",
   "execution_count": 18,
   "metadata": {},
   "outputs": [
    {
     "data": {
      "text/plain": [
       "array([0, 1, 2, 1, 1, 0, 1, 1, 1, 0])"
      ]
     },
     "execution_count": 18,
     "metadata": {},
     "output_type": "execute_result"
    }
   ],
   "source": [
    "y_train[:10]"
   ]
  },
  {
   "cell_type": "code",
   "execution_count": 19,
   "metadata": {},
   "outputs": [
    {
     "data": {
      "text/plain": [
       "array([[1., 0., 0.],\n",
       "       [0., 1., 0.],\n",
       "       [0., 0., 1.],\n",
       "       [0., 1., 0.],\n",
       "       [0., 1., 0.],\n",
       "       [1., 0., 0.],\n",
       "       [0., 1., 0.]])"
      ]
     },
     "execution_count": 19,
     "metadata": {},
     "output_type": "execute_result"
    }
   ],
   "source": [
    "to_one_hot(y_train[:7])"
   ]
  },
  {
   "cell_type": "code",
   "execution_count": 20,
   "metadata": {},
   "outputs": [],
   "source": [
    "Y_train_one_hot = to_one_hot(y_train)\n",
    "Y_valid_one_hot = to_one_hot(y_valid)\n",
    "Y_test_one_hot = to_one_hot(y_test)"
   ]
  },
  {
   "cell_type": "code",
   "execution_count": 21,
   "metadata": {},
   "outputs": [
    {
     "data": {
      "text/plain": [
       "(90, 3)"
      ]
     },
     "execution_count": 21,
     "metadata": {},
     "output_type": "execute_result"
    }
   ],
   "source": [
    "Y_train_one_hot.shape"
   ]
  },
  {
   "cell_type": "code",
   "execution_count": 22,
   "metadata": {},
   "outputs": [
    {
     "data": {
      "text/plain": [
       "array([[1., 0., 0.],\n",
       "       [0., 1., 0.],\n",
       "       [0., 0., 1.],\n",
       "       [0., 1., 0.],\n",
       "       [0., 1., 0.]])"
      ]
     },
     "execution_count": 22,
     "metadata": {},
     "output_type": "execute_result"
    }
   ],
   "source": [
    "Y_train_one_hot[:5]"
   ]
  },
  {
   "cell_type": "code",
   "execution_count": 23,
   "metadata": {},
   "outputs": [],
   "source": [
    "def softmax(logits):\n",
    "    exps = np.exp(logits)\n",
    "    exp_sums = np.sum(exps, axis=1, keepdims=True)\n",
    "    return exps / exp_sums"
   ]
  },
  {
   "cell_type": "code",
   "execution_count": 24,
   "metadata": {},
   "outputs": [],
   "source": [
    "n_inputs = X_train.shape[1] # == 3 (2 features plus the bias term)\n",
    "n_outputs = len(np.unique(y_train))   # == 3 (3 iris classes)"
   ]
  },
  {
   "cell_type": "code",
   "execution_count": 39,
   "metadata": {},
   "outputs": [
    {
     "name": "stdout",
     "output_type": "stream",
     "text": [
      "0 6.101695306378934\n",
      "0 [[ 0.62218423 -0.30549306 -0.31669117]\n",
      " [ 3.2235978  -1.37633498 -1.84726282]\n",
      " [ 1.10899029 -0.43684904 -0.67214126]]\n",
      "500 0.7495956023769575\n",
      "500 [[-0.12787783  0.0406489   0.08722893]\n",
      " [ 0.01993732 -0.01230197 -0.00763535]\n",
      " [ 0.04558461 -0.00280025 -0.04278436]]\n",
      "1000 0.6335867657621506\n",
      "1000 [[-0.09639016  0.02726899  0.06912117]\n",
      " [ 0.01709969 -0.01066787 -0.00643182]\n",
      " [ 0.03428076  0.00079905 -0.03507981]]\n",
      "1500 0.5627810020111176\n",
      "1500 [[-0.07570861  0.01789321  0.0578154 ]\n",
      " [ 0.01439991 -0.00899943 -0.00540048]\n",
      " [ 0.02679658  0.00314605 -0.02994263]]\n",
      "2000 0.5154218466212835\n",
      "2000 [[-0.06195896  0.01155791  0.05040105]\n",
      " [ 0.0122263  -0.00759661 -0.00462969]\n",
      " [ 0.02180504  0.00449721 -0.02630225]]\n",
      "2500 0.4811610196484237\n",
      "2500 [[-0.05244436  0.00720676  0.0452376 ]\n",
      " [ 0.01053729 -0.00646217 -0.00407512]\n",
      " [ 0.01834933  0.00521195 -0.02356128]]\n",
      "3000 0.4548332562566568\n",
      "3000 [[-0.04558076  0.00413705  0.04144371]\n",
      " [ 0.00922135 -0.00554356 -0.00367779]\n",
      " [ 0.01585887  0.00553701 -0.02139587]]\n",
      "3500 0.43366179274969086\n",
      "3500 [[-0.04044396  0.00191444  0.03852953]\n",
      " [ 0.00818197 -0.0047909  -0.00339107]\n",
      " [ 0.01399821  0.0056245  -0.01962271]]\n",
      "4000 0.4160434181804301\n",
      "4000 [[-0.03647729  0.00026882  0.03620847]\n",
      " [ 0.00734776 -0.00416585 -0.00318191]\n",
      " [ 0.01256451  0.00556719 -0.0181317 ]]\n",
      "4500 0.4009931072080364\n",
      "4500 [[-0.03333202 -0.00097223  0.03430425]\n",
      " [ 0.0066677  -0.00364021 -0.00302749]\n",
      " [ 0.01143045  0.00542233 -0.01685278]]\n",
      "5000 0.3878728879050138\n",
      "5000 [[-0.03078131 -0.00192213  0.03270345]\n",
      " [ 0.00610534 -0.00319329 -0.00291205]\n",
      " [ 0.01051311  0.00522592 -0.01573903]]\n"
     ]
    }
   ],
   "source": [
    "eta = 0.01\n",
    "n_iterations = 5001\n",
    "m = len(X_train)\n",
    "epsilon = 1e-7\n",
    "\n",
    "Theta = np.random.randn(n_inputs, n_outputs)\n",
    "old_Theta=Theta\n",
    "for iteration in range(n_iterations):\n",
    "    logits = X_train.dot(Theta)\n",
    "    Y_proba = softmax(logits)\n",
    "    loss = -np.mean(np.sum(Y_train_one_hot * np.log(Y_proba + epsilon), axis=1))\n",
    "    error = Y_proba - Y_train_one_hot\n",
    "    if iteration % 500 == 0:\n",
    "        print(iteration, loss)\n",
    "    gradients = 1/m * X_train.T.dot(error)\n",
    "    if iteration % 500 == 0:\n",
    "        print(iteration, gradients)\n",
    "    Theta = Theta - eta * gradients"
   ]
  },
  {
   "cell_type": "markdown",
   "metadata": {},
   "source": [
    "### Now let's use tensorflow to check gradient "
   ]
  },
  {
   "cell_type": "code",
   "execution_count": 40,
   "metadata": {},
   "outputs": [
    {
     "data": {
      "text/plain": [
       "dtype('float64')"
      ]
     },
     "execution_count": 40,
     "metadata": {},
     "output_type": "execute_result"
    }
   ],
   "source": [
    "old_Theta.dtype"
   ]
  },
  {
   "cell_type": "code",
   "execution_count": 41,
   "metadata": {},
   "outputs": [
    {
     "data": {
      "text/plain": [
       "array([[ 0.63844637,  0.61608862,  0.53739165],\n",
       "       [ 2.16968434,  0.08167019, -0.04731371],\n",
       "       [ 0.72490157,  1.06711956,  2.04506174]])"
      ]
     },
     "execution_count": 41,
     "metadata": {},
     "output_type": "execute_result"
    }
   ],
   "source": [
    "old_Theta"
   ]
  },
  {
   "cell_type": "code",
   "execution_count": 42,
   "metadata": {},
   "outputs": [],
   "source": [
    "row1=old_Theta[1,:].astype('float32')\n",
    "row2=old_Theta[2,:].astype('float32')\n",
    "row0=old_Theta[0,:].astype('float32')\n",
    "bias=np.array([row0])\n",
    "matrix=np.array([row1,row2])"
   ]
  },
  {
   "cell_type": "code",
   "execution_count": 43,
   "metadata": {},
   "outputs": [
    {
     "data": {
      "text/plain": [
       "array([[0.6384464 , 0.6160886 , 0.53739166]], dtype=float32)"
      ]
     },
     "execution_count": 43,
     "metadata": {},
     "output_type": "execute_result"
    }
   ],
   "source": [
    "bias"
   ]
  },
  {
   "cell_type": "code",
   "execution_count": 44,
   "metadata": {},
   "outputs": [
    {
     "data": {
      "text/plain": [
       "array([[ 2.1696844 ,  0.08167019, -0.04731371],\n",
       "       [ 0.72490156,  1.0671196 ,  2.0450618 ]], dtype=float32)"
      ]
     },
     "execution_count": 44,
     "metadata": {},
     "output_type": "execute_result"
    }
   ],
   "source": [
    "matrix"
   ]
  },
  {
   "cell_type": "code",
   "execution_count": 45,
   "metadata": {},
   "outputs": [],
   "source": [
    "w2=tf.get_variable( \"weight0\" , initializer = tf.constant(matrix) )\n",
    "b = tf.get_variable(name='bias0', initializer=tf.constant(bias) )\n",
    "logit = tf.matmul(X_train_wo_bias, w2) + b"
   ]
  },
  {
   "cell_type": "code",
   "execution_count": 46,
   "metadata": {},
   "outputs": [],
   "source": [
    "entropyy = tf.nn.softmax_cross_entropy_with_logits(logits=logit, labels=Y_train_one_hot, name='entropy')\n",
    "losss = tf.reduce_mean(entropyy, name='loss') # computes the mean over all the examples in the batch\n",
    "optimizer = tf.train.GradientDescentOptimizer(learning_rate=0.01)"
   ]
  },
  {
   "cell_type": "code",
   "execution_count": 47,
   "metadata": {},
   "outputs": [],
   "source": [
    "grads=optimizer.compute_gradients(losss,var_list=[b,w2])\n",
    "training_op = optimizer.minimize(losss)"
   ]
  },
  {
   "cell_type": "code",
   "execution_count": 48,
   "metadata": {},
   "outputs": [
    {
     "name": "stdout",
     "output_type": "stream",
     "text": [
      "0 6.103397\n",
      "0 [(array([[ 0.62218446, -0.30549312, -0.31669122]], dtype=float32), array([[0.6384464 , 0.6160886 , 0.53739166]], dtype=float32)), (array([[ 3.2235985, -1.3763347, -1.8472627],\n",
      "       [ 1.1089904, -0.4368491, -0.6721413]], dtype=float32), array([[ 2.1696844 ,  0.08167019, -0.04731371],\n",
      "       [ 0.72490156,  1.0671196 ,  2.0450618 ]], dtype=float32))]\n",
      "2000 0.515422\n",
      "2000 [(array([[-0.06195899,  0.01155792,  0.05040106]], dtype=float32), array([[ 2.4165616 ,  0.18589571, -0.8105329 ]], dtype=float32)), (array([[ 0.0122263 , -0.0075966 , -0.00462967],\n",
      "       [ 0.02180503,  0.0044972 , -0.02630224]], dtype=float32), array([[ 0.59397566,  0.9629732 ,  0.6470912 ],\n",
      "       [-0.414544  ,  1.2808546 ,  2.9707763 ]], dtype=float32))]\n",
      "4000 0.4160437\n",
      "4000 [(array([[-0.03647733,  0.00026889,  0.03620844]], dtype=float32), array([[ 3.3518915,  0.0915499, -1.6515211]], dtype=float32)), (array([[ 0.00734784, -0.00416588, -0.00318202],\n",
      "       [ 0.01256456,  0.00556715, -0.01813171]], dtype=float32), array([[ 0.4057954 ,  1.0760909 ,  0.7221477 ],\n",
      "       [-0.74036944,  1.1733743 ,  3.4040759 ]], dtype=float32))]\n"
     ]
    }
   ],
   "source": [
    "with tf.Session() as sess:\n",
    "    sess.run(tf.global_variables_initializer())\n",
    "    for iteration in range(n_iterations):\n",
    "        loss_result=sess.run(losss)\n",
    "        if iteration %2000 == 0:\n",
    "            print(iteration, loss_result)\n",
    "        grads_out=sess.run(grads)\n",
    "        if iteration %2000 == 0:\n",
    "            print(iteration, grads_out)\n",
    "        sess.run(training_op)"
   ]
  },
  {
   "cell_type": "code",
   "execution_count": null,
   "metadata": {},
   "outputs": [],
   "source": [
    "[[ 0.62218423 -0.30549306 -0.31669117]\n",
    " [ 3.2235978  -1.37633498 -1.84726282]\n",
    " [ 1.10899029 -0.43684904 -0.67214126]]\n",
    "\n",
    "[[-0.06195896  0.01155791  0.05040105]\n",
    " [ 0.0122263  -0.00759661 -0.00462969]\n",
    " [ 0.02180504  0.00449721 -0.02630225]]"
   ]
  }
 ],
 "metadata": {
  "kernelspec": {
   "display_name": "Python 3",
   "language": "python",
   "name": "python3"
  },
  "language_info": {
   "codemirror_mode": {
    "name": "ipython",
    "version": 3
   },
   "file_extension": ".py",
   "mimetype": "text/x-python",
   "name": "python",
   "nbconvert_exporter": "python",
   "pygments_lexer": "ipython3",
   "version": "3.6.7"
  }
 },
 "nbformat": 4,
 "nbformat_minor": 2
}
