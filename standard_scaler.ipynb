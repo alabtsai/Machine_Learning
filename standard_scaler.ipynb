{
 "cells": [
  {
   "cell_type": "code",
   "execution_count": 47,
   "metadata": {},
   "outputs": [],
   "source": [
    "import pandas as pd\n",
    "import numpy as np\n",
    "import matplotlib.pyplot as plt"
   ]
  },
  {
   "cell_type": "markdown",
   "metadata": {},
   "source": [
    "## numpy.random.normal\n",
    "## numpy.random.normal(loc=0.0, scale=1.0, size=None)\n",
    "## Draw random samples from a normal (Gaussian) distribution."
   ]
  },
  {
   "cell_type": "code",
   "execution_count": 24,
   "metadata": {},
   "outputs": [
    {
     "name": "stdout",
     "output_type": "stream",
     "text": [
      "<class 'numpy.ndarray'>\n",
      "[1.04594332 0.98192379 1.03198122 0.86241747 0.94545904 0.90196741\n",
      " 0.96496062 1.10528552 1.08350943 1.0627379  0.98769131 0.86090566\n",
      " 0.96713912 0.79731971 0.89154148 1.05089627 0.85211973 0.98547224\n",
      " 0.89818719 0.8883485  0.83653779 1.01531874 1.06180631 0.79421507\n",
      " 0.93126494 1.1667065  1.03560366 0.85738104 1.17914564 1.04526427\n",
      " 0.93134735 1.07889448 1.08039602 0.86433791 1.04202021 0.97687054\n",
      " 0.96812139 0.92949596 0.93493312 1.11193617 0.90248873 0.85493685\n",
      " 0.96684454 1.12887607 0.90099373 1.15174472 1.06579495 0.79463051\n",
      " 1.02920308 1.10355602 0.98672316 1.1485007  0.96414904 1.00146295\n",
      " 1.07767996 0.99781454 1.00203921 0.94219526 0.75557089 1.07835083\n",
      " 1.12274288 1.01636067 1.08048087 1.21441393 1.08309181 1.17935968\n",
      " 1.01127543 0.84568474 1.06315412 1.09728327 0.87602467 0.87061482\n",
      " 1.01919559 0.90447025 1.03910872 0.86791605 1.0152223  0.98528021\n",
      " 1.07588629 0.83431082 0.9569931  1.06047914 0.94988111 0.9700972\n",
      " 1.20178207 1.19520691 0.88043773 1.12081971 0.9132722  1.10303597\n",
      " 1.16241873 1.11428226 1.07003199 1.02338792 0.98621917 0.87233684\n",
      " 1.0425869  0.80581104 0.8731923  0.91660664]\n"
     ]
    }
   ],
   "source": [
    "x1=np.random.normal(1, 0.1, 100)\n",
    "print(type(x1))\n",
    "print(x1)"
   ]
  },
  {
   "cell_type": "code",
   "execution_count": 25,
   "metadata": {},
   "outputs": [
    {
     "name": "stdout",
     "output_type": "stream",
     "text": [
      "0     1.045943\n",
      "1     0.981924\n",
      "2     1.031981\n",
      "3     0.862417\n",
      "4     0.945459\n",
      "5     0.901967\n",
      "6     0.964961\n",
      "7     1.105286\n",
      "8     1.083509\n",
      "9     1.062738\n",
      "10    0.987691\n",
      "11    0.860906\n",
      "12    0.967139\n",
      "13    0.797320\n",
      "14    0.891541\n",
      "15    1.050896\n",
      "16    0.852120\n",
      "17    0.985472\n",
      "18    0.898187\n",
      "19    0.888349\n",
      "20    0.836538\n",
      "21    1.015319\n",
      "22    1.061806\n",
      "23    0.794215\n",
      "24    0.931265\n",
      "25    1.166707\n",
      "26    1.035604\n",
      "27    0.857381\n",
      "28    1.179146\n",
      "29    1.045264\n",
      "        ...   \n",
      "70    0.876025\n",
      "71    0.870615\n",
      "72    1.019196\n",
      "73    0.904470\n",
      "74    1.039109\n",
      "75    0.867916\n",
      "76    1.015222\n",
      "77    0.985280\n",
      "78    1.075886\n",
      "79    0.834311\n",
      "80    0.956993\n",
      "81    1.060479\n",
      "82    0.949881\n",
      "83    0.970097\n",
      "84    1.201782\n",
      "85    1.195207\n",
      "86    0.880438\n",
      "87    1.120820\n",
      "88    0.913272\n",
      "89    1.103036\n",
      "90    1.162419\n",
      "91    1.114282\n",
      "92    1.070032\n",
      "93    1.023388\n",
      "94    0.986219\n",
      "95    0.872337\n",
      "96    1.042587\n",
      "97    0.805811\n",
      "98    0.873192\n",
      "99    0.916607\n",
      "Length: 100, dtype: float64\n",
      "<class 'pandas.core.series.Series'>\n"
     ]
    }
   ],
   "source": [
    "xdata1=pd.Series(x1)\n",
    "print(xdata1)\n",
    "print(type(xdata1))"
   ]
  },
  {
   "cell_type": "code",
   "execution_count": 26,
   "metadata": {},
   "outputs": [
    {
     "name": "stdout",
     "output_type": "stream",
     "text": [
      "        data\n",
      "0   1.045943\n",
      "1   0.981924\n",
      "2   1.031981\n",
      "3   0.862417\n",
      "4   0.945459\n",
      "5   0.901967\n",
      "6   0.964961\n",
      "7   1.105286\n",
      "8   1.083509\n",
      "9   1.062738\n",
      "10  0.987691\n",
      "11  0.860906\n",
      "12  0.967139\n",
      "13  0.797320\n",
      "14  0.891541\n",
      "15  1.050896\n",
      "16  0.852120\n",
      "17  0.985472\n",
      "18  0.898187\n",
      "19  0.888349\n",
      "20  0.836538\n",
      "21  1.015319\n",
      "22  1.061806\n",
      "23  0.794215\n",
      "24  0.931265\n",
      "25  1.166707\n",
      "26  1.035604\n",
      "27  0.857381\n",
      "28  1.179146\n",
      "29  1.045264\n",
      "..       ...\n",
      "70  0.876025\n",
      "71  0.870615\n",
      "72  1.019196\n",
      "73  0.904470\n",
      "74  1.039109\n",
      "75  0.867916\n",
      "76  1.015222\n",
      "77  0.985280\n",
      "78  1.075886\n",
      "79  0.834311\n",
      "80  0.956993\n",
      "81  1.060479\n",
      "82  0.949881\n",
      "83  0.970097\n",
      "84  1.201782\n",
      "85  1.195207\n",
      "86  0.880438\n",
      "87  1.120820\n",
      "88  0.913272\n",
      "89  1.103036\n",
      "90  1.162419\n",
      "91  1.114282\n",
      "92  1.070032\n",
      "93  1.023388\n",
      "94  0.986219\n",
      "95  0.872337\n",
      "96  1.042587\n",
      "97  0.805811\n",
      "98  0.873192\n",
      "99  0.916607\n",
      "\n",
      "[100 rows x 1 columns]\n",
      "<class 'pandas.core.frame.DataFrame'>\n"
     ]
    }
   ],
   "source": [
    "xdata2=pd.DataFrame({'data':xdata1})\n",
    "print(xdata2)\n",
    "print(type(xdata2))"
   ]
  },
  {
   "cell_type": "code",
   "execution_count": 43,
   "metadata": {},
   "outputs": [
    {
     "data": {
      "text/plain": [
       "0.9166066435572635"
      ]
     },
     "execution_count": 43,
     "metadata": {},
     "output_type": "execute_result"
    }
   ],
   "source": [
    "xx=xdata2.values\n",
    "xx[1,0]\n",
    "xx[99,0]\n"
   ]
  },
  {
   "cell_type": "markdown",
   "metadata": {},
   "source": [
    "##  method fit :  Compute the mean and std to be used for later scaling."
   ]
  },
  {
   "cell_type": "code",
   "execution_count": 27,
   "metadata": {},
   "outputs": [
    {
     "data": {
      "text/plain": [
       "StandardScaler(copy=True, with_mean=True, with_std=True)"
      ]
     },
     "execution_count": 27,
     "metadata": {},
     "output_type": "execute_result"
    }
   ],
   "source": [
    "from sklearn.preprocessing import StandardScaler\n",
    "sc = StandardScaler()\n",
    "sc.fit(xdata2)"
   ]
  },
  {
   "cell_type": "code",
   "execution_count": 28,
   "metadata": {},
   "outputs": [
    {
     "name": "stdout",
     "output_type": "stream",
     "text": [
      "[0.99281716]\n"
     ]
    }
   ],
   "source": [
    "m=sc.mean_\n",
    "print(sc.mean_)"
   ]
  },
  {
   "cell_type": "code",
   "execution_count": 29,
   "metadata": {},
   "outputs": [
    {
     "name": "stdout",
     "output_type": "stream",
     "text": [
      "0.10636518317291127\n"
     ]
    }
   ],
   "source": [
    "import math\n",
    "std=math.sqrt(sc.var_)\n",
    "print(std)"
   ]
  },
  {
   "cell_type": "code",
   "execution_count": 44,
   "metadata": {},
   "outputs": [
    {
     "data": {
      "text/plain": [
       "array([-0.71649869])"
      ]
     },
     "execution_count": 44,
     "metadata": {},
     "output_type": "execute_result"
    }
   ],
   "source": [
    "(xx[99,0]-m)/std"
   ]
  },
  {
   "cell_type": "code",
   "execution_count": 48,
   "metadata": {},
   "outputs": [
    {
     "data": {
      "text/plain": [
       "array([1.59452146])"
      ]
     },
     "execution_count": 48,
     "metadata": {},
     "output_type": "execute_result"
    }
   ],
   "source": [
    "(xx[90,0]-m)/std"
   ]
  },
  {
   "cell_type": "code",
   "execution_count": 49,
   "metadata": {},
   "outputs": [
    {
     "name": "stdout",
     "output_type": "stream",
     "text": [
      "<class 'numpy.ndarray'>\n"
     ]
    },
    {
     "data": {
      "text/plain": [
       "-0.7164986919855925"
      ]
     },
     "execution_count": 49,
     "metadata": {},
     "output_type": "execute_result"
    }
   ],
   "source": [
    "X_nor = sc.transform(xdata2)\n",
    "print(type(X_nor))\n",
    "X_nor[99,0]"
   ]
  },
  {
   "cell_type": "code",
   "execution_count": 50,
   "metadata": {},
   "outputs": [
    {
     "data": {
      "text/plain": [
       "1.594521463008302"
      ]
     },
     "execution_count": 50,
     "metadata": {},
     "output_type": "execute_result"
    }
   ],
   "source": [
    "X_nor[90,0]"
   ]
  },
  {
   "cell_type": "code",
   "execution_count": null,
   "metadata": {},
   "outputs": [],
   "source": []
  }
 ],
 "metadata": {
  "anaconda-cloud": {},
  "kernelspec": {
   "display_name": "Python 3",
   "language": "python",
   "name": "python3"
  },
  "language_info": {
   "codemirror_mode": {
    "name": "ipython",
    "version": 3
   },
   "file_extension": ".py",
   "mimetype": "text/x-python",
   "name": "python",
   "nbconvert_exporter": "python",
   "pygments_lexer": "ipython3",
   "version": "3.6.5"
  }
 },
 "nbformat": 4,
 "nbformat_minor": 1
}
