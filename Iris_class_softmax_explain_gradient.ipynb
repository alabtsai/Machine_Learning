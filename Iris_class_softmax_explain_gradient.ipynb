{
 "cells": [
  {
   "cell_type": "code",
   "execution_count": 1,
   "metadata": {},
   "outputs": [],
   "source": [
    "import numpy as np\n"
   ]
  },
  {
   "cell_type": "code",
   "execution_count": 2,
   "metadata": {},
   "outputs": [],
   "source": [
    "import tensorflow as tf"
   ]
  },
  {
   "cell_type": "code",
   "execution_count": 3,
   "metadata": {},
   "outputs": [
    {
     "data": {
      "text/plain": [
       "['data', 'target', 'target_names', 'DESCR', 'feature_names', 'filename']"
      ]
     },
     "execution_count": 3,
     "metadata": {},
     "output_type": "execute_result"
    }
   ],
   "source": [
    "from sklearn import datasets\n",
    "iris=datasets.load_iris()\n",
    "list(iris.keys())"
   ]
  },
  {
   "cell_type": "code",
   "execution_count": 4,
   "metadata": {},
   "outputs": [
    {
     "name": "stdout",
     "output_type": "stream",
     "text": [
      "150\n"
     ]
    }
   ],
   "source": [
    "X = iris[\"data\"][:, (2, 3)]  # petal length, petal width\n",
    "y = iris[\"target\"]\n",
    "print(len(X))"
   ]
  },
  {
   "cell_type": "code",
   "execution_count": 5,
   "metadata": {},
   "outputs": [
    {
     "name": "stdout",
     "output_type": "stream",
     "text": [
      "<class 'numpy.ndarray'>\n",
      "(150, 4)\n",
      "2\n"
     ]
    }
   ],
   "source": [
    "print(type(iris.data))\n",
    "print(iris.data.shape)\n",
    "print((iris.data.ndim))"
   ]
  },
  {
   "cell_type": "code",
   "execution_count": 6,
   "metadata": {},
   "outputs": [],
   "source": [
    "X = iris[\"data\"][:, (2, 3)]  # petal length, petal width"
   ]
  },
  {
   "cell_type": "code",
   "execution_count": 7,
   "metadata": {},
   "outputs": [
    {
     "data": {
      "text/plain": [
       "array([[1.4, 0.2],\n",
       "       [1.4, 0.2],\n",
       "       [1.3, 0.2],\n",
       "       [1.5, 0.2],\n",
       "       [1.4, 0.2]])"
      ]
     },
     "execution_count": 7,
     "metadata": {},
     "output_type": "execute_result"
    }
   ],
   "source": [
    "X[:5]"
   ]
  },
  {
   "cell_type": "code",
   "execution_count": 8,
   "metadata": {},
   "outputs": [
    {
     "name": "stdout",
     "output_type": "stream",
     "text": [
      "float32\n",
      "(150, 2)\n"
     ]
    }
   ],
   "source": [
    "X=X.astype('float32')\n",
    "print(X.dtype)\n",
    "print(X.shape)"
   ]
  },
  {
   "cell_type": "code",
   "execution_count": 9,
   "metadata": {},
   "outputs": [],
   "source": [
    "X_with_bias = np.c_[np.ones([len(X), 1]), X]"
   ]
  },
  {
   "cell_type": "code",
   "execution_count": 10,
   "metadata": {},
   "outputs": [],
   "source": [
    "np.random.seed(2042)"
   ]
  },
  {
   "cell_type": "code",
   "execution_count": 11,
   "metadata": {},
   "outputs": [
    {
     "data": {
      "text/plain": [
       "array([[1.        , 1.39999998, 0.2       ],\n",
       "       [1.        , 1.39999998, 0.2       ],\n",
       "       [1.        , 1.29999995, 0.2       ],\n",
       "       [1.        , 1.5       , 0.2       ],\n",
       "       [1.        , 1.39999998, 0.2       ]])"
      ]
     },
     "execution_count": 11,
     "metadata": {},
     "output_type": "execute_result"
    }
   ],
   "source": [
    "X_with_bias[:5]"
   ]
  },
  {
   "cell_type": "code",
   "execution_count": 12,
   "metadata": {},
   "outputs": [],
   "source": [
    "test_ratio = 0.2\n",
    "validation_ratio = 0.2\n",
    "total_size = len(X_with_bias)\n",
    "\n",
    "test_size = int(total_size * test_ratio)\n",
    "validation_size = int(total_size * validation_ratio)\n",
    "train_size = total_size - test_size - validation_size\n",
    "\n",
    "rnd_indices = np.random.permutation(total_size)"
   ]
  },
  {
   "cell_type": "code",
   "execution_count": 13,
   "metadata": {},
   "outputs": [
    {
     "name": "stdout",
     "output_type": "stream",
     "text": [
      "90\n",
      "30\n"
     ]
    }
   ],
   "source": [
    "print(train_size)\n",
    "print(test_size)"
   ]
  },
  {
   "cell_type": "code",
   "execution_count": 14,
   "metadata": {},
   "outputs": [],
   "source": [
    "X_train = X_with_bias[rnd_indices[:train_size]]\n",
    "y_train = y[rnd_indices[:train_size]]\n",
    "X_valid = X_with_bias[rnd_indices[train_size:-test_size]]\n",
    "y_valid = y[rnd_indices[train_size:-test_size]]\n",
    "X_test = X_with_bias[rnd_indices[-test_size:]]\n",
    "y_test = y[rnd_indices[-test_size:]]"
   ]
  },
  {
   "cell_type": "code",
   "execution_count": 15,
   "metadata": {},
   "outputs": [],
   "source": [
    "#X_train_wo_bias = X[rnd_indices[:train_size]]"
   ]
  },
  {
   "cell_type": "code",
   "execution_count": 16,
   "metadata": {},
   "outputs": [],
   "source": [
    "#X_train_wo_bias[:5]"
   ]
  },
  {
   "cell_type": "code",
   "execution_count": 15,
   "metadata": {},
   "outputs": [
    {
     "data": {
      "text/plain": [
       "array([[1.        , 1.39999998, 0.2       ],\n",
       "       [1.        , 4.0999999 , 1.29999995],\n",
       "       [1.        , 5.19999981, 2.        ],\n",
       "       [1.        , 4.        , 1.29999995],\n",
       "       [1.        , 4.0999999 , 1.29999995]])"
      ]
     },
     "execution_count": 15,
     "metadata": {},
     "output_type": "execute_result"
    }
   ],
   "source": [
    "X_train[:5]"
   ]
  },
  {
   "cell_type": "code",
   "execution_count": 16,
   "metadata": {},
   "outputs": [
    {
     "data": {
      "text/plain": [
       "(90, 3)"
      ]
     },
     "execution_count": 16,
     "metadata": {},
     "output_type": "execute_result"
    }
   ],
   "source": [
    "X_train.shape"
   ]
  },
  {
   "cell_type": "code",
   "execution_count": 17,
   "metadata": {},
   "outputs": [
    {
     "data": {
      "text/plain": [
       "array([0, 1, 2])"
      ]
     },
     "execution_count": 17,
     "metadata": {},
     "output_type": "execute_result"
    }
   ],
   "source": [
    "np.unique(y_train)"
   ]
  },
  {
   "cell_type": "code",
   "execution_count": 18,
   "metadata": {},
   "outputs": [],
   "source": [
    "def to_one_hot(y):\n",
    "    n_classes = y.max() + 1\n",
    "    m = len(y)\n",
    "    Y_one_hot = np.zeros((m, n_classes))\n",
    "    Y_one_hot[np.arange(m), y] = 1\n",
    "    return Y_one_hot"
   ]
  },
  {
   "cell_type": "code",
   "execution_count": 19,
   "metadata": {},
   "outputs": [
    {
     "data": {
      "text/plain": [
       "array([0, 1, 2, 1, 1, 0, 1, 1, 1, 0])"
      ]
     },
     "execution_count": 19,
     "metadata": {},
     "output_type": "execute_result"
    }
   ],
   "source": [
    "y_train[:10]"
   ]
  },
  {
   "cell_type": "code",
   "execution_count": 20,
   "metadata": {},
   "outputs": [
    {
     "data": {
      "text/plain": [
       "array([[1., 0., 0.],\n",
       "       [0., 1., 0.],\n",
       "       [0., 0., 1.],\n",
       "       [0., 1., 0.],\n",
       "       [0., 1., 0.],\n",
       "       [1., 0., 0.],\n",
       "       [0., 1., 0.]])"
      ]
     },
     "execution_count": 20,
     "metadata": {},
     "output_type": "execute_result"
    }
   ],
   "source": [
    "to_one_hot(y_train[:7])"
   ]
  },
  {
   "cell_type": "code",
   "execution_count": 21,
   "metadata": {},
   "outputs": [],
   "source": [
    "Y_train_one_hot = to_one_hot(y_train)\n",
    "Y_valid_one_hot = to_one_hot(y_valid)\n",
    "Y_test_one_hot = to_one_hot(y_test)"
   ]
  },
  {
   "cell_type": "code",
   "execution_count": 22,
   "metadata": {},
   "outputs": [
    {
     "data": {
      "text/plain": [
       "(90, 3)"
      ]
     },
     "execution_count": 22,
     "metadata": {},
     "output_type": "execute_result"
    }
   ],
   "source": [
    "Y_train_one_hot.shape"
   ]
  },
  {
   "cell_type": "code",
   "execution_count": 23,
   "metadata": {},
   "outputs": [
    {
     "data": {
      "text/plain": [
       "array([[1., 0., 0.],\n",
       "       [0., 1., 0.],\n",
       "       [0., 0., 1.],\n",
       "       [0., 1., 0.],\n",
       "       [0., 1., 0.]])"
      ]
     },
     "execution_count": 23,
     "metadata": {},
     "output_type": "execute_result"
    }
   ],
   "source": [
    "Y_train_one_hot[:5]"
   ]
  },
  {
   "cell_type": "code",
   "execution_count": 24,
   "metadata": {},
   "outputs": [],
   "source": [
    "def softmax(logits):\n",
    "    exps = np.exp(logits)\n",
    "    exp_sums = np.sum(exps, axis=1, keepdims=True)\n",
    "    return exps / exp_sums"
   ]
  },
  {
   "cell_type": "code",
   "execution_count": 25,
   "metadata": {},
   "outputs": [],
   "source": [
    "n_inputs = X_train.shape[1] # == 3 (2 features plus the bias term)\n",
    "n_outputs = len(np.unique(y_train))   # == 3 (3 iris classes)"
   ]
  },
  {
   "cell_type": "code",
   "execution_count": 26,
   "metadata": {},
   "outputs": [
    {
     "name": "stdout",
     "output_type": "stream",
     "text": [
      "0 5.446205779299409\n",
      "0 [[ 0.59406399 -0.28615298 -0.30791101]\n",
      " [ 3.17973972 -1.34526175 -1.83447798]\n",
      " [ 1.10140275 -0.43091503 -0.67048771]]\n",
      "0 [[ 0.10736297 -0.23166202 -0.20466374]\n",
      " [ 0.40253506 -0.65301865 -0.69922576]\n",
      " [ 1.00783577  0.41676141 -0.74347951]]\n",
      "500 0.8350062644113228\n",
      "1000 0.6878801462436703\n",
      "1500 0.6012379159284251\n",
      "2000 0.5444496888309313\n",
      "2500 0.5038530211914799\n",
      "3000 0.4729229006455079\n",
      "3500 0.4482424456589629\n",
      "4000 0.4278651134705443\n",
      "4500 0.410600718643495\n",
      "5000 0.39567804213167\n"
     ]
    }
   ],
   "source": [
    "eta = 0.01\n",
    "n_iterations = 5001\n",
    "m = len(X_train)\n",
    "epsilon = 1e-7\n",
    "\n",
    "Theta = np.random.randn(n_inputs, n_outputs)\n",
    "old_Theta=Theta\n",
    "for iteration in range(n_iterations):\n",
    "    logits = X_train.dot(Theta)\n",
    "    Y_proba = softmax(logits)\n",
    "    loss = -np.mean(np.sum(Y_train_one_hot * np.log(Y_proba + epsilon), axis=1))\n",
    "    error = Y_proba - Y_train_one_hot\n",
    "    if iteration % 500 == 0:\n",
    "        print(iteration, loss)\n",
    "    gradients = 1/m * X_train.T.dot(error)\n",
    "    Theta = Theta - eta * gradients\n",
    "    if iteration ==0:\n",
    "        print(iteration,gradients)\n",
    "        print(iteration,Theta)"
   ]
  },
  {
   "cell_type": "code",
   "execution_count": 27,
   "metadata": {},
   "outputs": [
    {
     "name": "stdout",
     "output_type": "stream",
     "text": [
      "WARNING:tensorflow:From /home/larry/tensorflow_prac/env/lib/python3.6/site-packages/tensorflow/python/framework/op_def_library.py:263: colocate_with (from tensorflow.python.framework.ops) is deprecated and will be removed in a future version.\n",
      "Instructions for updating:\n",
      "Colocations handled automatically by placer.\n"
     ]
    }
   ],
   "source": [
    "Thetaa = tf.get_variable( \"weightt\" , initializer = tf.constant(old_Theta) )"
   ]
  },
  {
   "cell_type": "code",
   "execution_count": 28,
   "metadata": {},
   "outputs": [
    {
     "name": "stdout",
     "output_type": "stream",
     "text": [
      "WARNING:tensorflow:From <ipython-input-28-c6c47c6aaca7>:3: softmax_cross_entropy_with_logits (from tensorflow.python.ops.nn_ops) is deprecated and will be removed in a future version.\n",
      "Instructions for updating:\n",
      "\n",
      "Future major versions of TensorFlow will allow gradients to flow\n",
      "into the labels input on backprop by default.\n",
      "\n",
      "See `tf.nn.softmax_cross_entropy_with_logits_v2`.\n",
      "\n"
     ]
    }
   ],
   "source": [
    "logitts = tf.matmul(X_train, Thetaa)\n",
    "y=tf.nn.softmax(logitts)\n",
    "entropy = tf.nn.softmax_cross_entropy_with_logits(logits=logitts, labels=Y_train_one_hot, name='entropy')\n",
    "loss = tf.reduce_mean(entropy, name='loss') # computes the mean over all the examples in the batch\n",
    "optimizer = tf.train.GradientDescentOptimizer(learning_rate=0.01)\n",
    "grads=optimizer.compute_gradients(loss)\n",
    "training_op = optimizer.minimize(loss)"
   ]
  },
  {
   "cell_type": "code",
   "execution_count": 33,
   "metadata": {},
   "outputs": [
    {
     "name": "stdout",
     "output_type": "stream",
     "text": [
      "5.447902419971495\n",
      "0 5.2714679707861904\n",
      "grads= [[ 0.59406399 -0.28615298 -0.30791101]\n",
      " [ 3.17973972 -1.34526175 -1.83447798]\n",
      " [ 1.10140275 -0.43091503 -0.67048771]]\n",
      "var= [[ 0.11330361 -0.23452355 -0.20774285]\n",
      " [ 0.43433246 -0.66647126 -0.71757054]\n",
      " [ 1.0188498   0.41245226 -0.75018439]]\n",
      "after train:\n",
      "[[ 0.10736297 -0.23166202 -0.20466374]\n",
      " [ 0.40253506 -0.65301865 -0.69922576]\n",
      " [ 1.00783577  0.41676141 -0.74347951]]\n",
      " \n",
      "500 0.8346161590281729\n",
      "grads= [[-0.13595679  0.02841431  0.10754248]\n",
      " [ 0.01794235 -0.01436509 -0.00357726]\n",
      " [ 0.05473265  0.01235083 -0.06708348]]\n",
      "var= [[ 0.66543331 -0.31522188 -0.67917422]\n",
      " [-0.7176651  -0.28252865  0.0504844 ]\n",
      " [ 0.34684639  0.45492834 -0.12065707]]\n",
      "after train:\n",
      "[[ 0.66679287 -0.31550602 -0.68024965]\n",
      " [-0.71784452 -0.282385    0.05052017]\n",
      " [ 0.34629907  0.45480483 -0.11998623]]\n",
      " \n",
      "1000 0.6876613366847472\n",
      "grads= [[-0.10042224  0.02081562  0.07960662]\n",
      " [ 0.01573514 -0.01335253 -0.00238261]\n",
      " [ 0.04034822  0.01283161 -0.05317983]]\n",
      "var= [[ 1.25032975 -0.43868013 -1.14061241]\n",
      " [-0.80225327 -0.2126855   0.06522942]\n",
      " [ 0.11147054  0.39234841  0.17729872]]\n",
      "after train:\n",
      "[[ 1.25133397 -0.43888829 -1.14140848]\n",
      " [-0.80241062 -0.21255198  0.06525324]\n",
      " [ 0.11106706  0.39222009  0.17783052]]\n",
      " \n",
      "1500 0.6011011733660011\n",
      "grads= [[-0.07766894  0.01412547  0.06354348]\n",
      " [ 0.01331931 -0.01173709 -0.00158222]\n",
      " [ 0.03100568  0.01336514 -0.04437082]]\n",
      "var= [[ 1.69138725 -0.52528703 -1.49506301]\n",
      " [-0.87478246 -0.14991563  0.07498874]\n",
      " [-0.06523297  0.32667216  0.41967848]]\n",
      "after train:\n",
      "[[ 1.69216394 -0.52542829 -1.49569844]\n",
      " [-0.87491566 -0.14979826  0.07500456]\n",
      " [-0.06554303  0.32653851  0.42012219]]\n",
      " \n",
      "2000 0.5443554847533256\n",
      "grads= [[-0.06296144  0.00926182  0.05369963]\n",
      " [ 0.01131264 -0.01020736 -0.00110528]\n",
      " [ 0.02493899  0.0134161  -0.03835509]]\n",
      "var= [[ 2.04050689 -0.58308513 -1.78638455]\n",
      " [-0.93617798 -0.09512933  0.08159796]\n",
      " [-0.20408498  0.25952923  0.62567341]]\n",
      "after train:\n",
      "[[ 2.04113651 -0.58317775 -1.78692155]\n",
      " [-0.9362911  -0.09502726  0.08160901]\n",
      " [-0.20433437  0.25939507  0.62605697]]\n",
      " \n",
      "2500 0.5037831859913987\n",
      "grads= [[-0.05300457  0.00581147  0.0471931 ]\n",
      " [ 0.00974229 -0.00889482 -0.00084747]\n",
      " [ 0.0208332   0.01309477 -0.03392797]]\n",
      "var= [[ 2.32896317 -0.62029884 -2.03762712]\n",
      " [-0.98865836 -0.04745973  0.08640874]\n",
      " [-0.31791074  0.19313031  0.8058981 ]]\n",
      "after train:\n",
      "[[ 2.32949322 -0.62035696 -2.03809905]\n",
      " [-0.98875579 -0.04737078  0.08641721]\n",
      " [-0.31811907  0.19299936  0.80623738]]\n",
      " \n",
      "3000 0.47286829752392734\n",
      "grads= [[-0.04593355  0.00333114  0.04260241]\n",
      " [ 0.00851861 -0.00778969 -0.00072892]\n",
      " [ 0.01792546  0.0125549  -0.03048037]]\n",
      "var= [[ 2.57540422 -0.64283813 -2.26152888]\n",
      " [-1.03419199 -0.00582243  0.09030507]\n",
      " [-0.41443126  0.12893853  0.9666104 ]]\n",
      "after train:\n",
      "[[ 2.57586355 -0.64287144 -2.2619549 ]\n",
      " [-1.03427718 -0.00574453  0.09031236]\n",
      " [-0.41461051  0.12881298  0.9669152 ]]\n",
      " \n",
      "3500 0.4481980523840728\n",
      "grads= [[-0.0406981   0.00151004  0.03918806]\n",
      " [ 0.00755405 -0.00685737 -0.00069668]\n",
      " [ 0.01578123  0.01190431 -0.02768554]]\n",
      "var= [[ 2.79139644 -0.65472455 -2.46563468]\n",
      " [-1.07428598  0.03073515  0.09384148]\n",
      " [-0.49845366  0.06775757  1.11181376]]\n",
      "after train:\n",
      "[[ 2.79180342 -0.65473965 -2.46602657]\n",
      " [-1.07436152  0.03080373  0.09384844]\n",
      " [-0.49861147  0.06763852  1.11209062]]\n",
      " \n",
      "4000 0.42782795013280395\n",
      "grads= [[-0.03668376  0.0001447   0.03653906]\n",
      " [ 0.00678192 -0.00606503 -0.00071689]\n",
      " [ 0.01414481  0.01120964 -0.02535445]]\n",
      "var= [[ 2.984454   -0.65871027 -2.65470653]\n",
      " [-1.11006083  0.06299284  0.09735865]\n",
      " [-0.57310357  0.00996067  1.24426057]]\n",
      "after train:\n",
      "[[ 2.98482084 -0.65871171 -2.65507192]\n",
      " [-1.11012865  0.06305349  0.09736582]\n",
      " [-0.57324502  0.00984857  1.24451411]]\n",
      " \n",
      "4500 0.41056890175831434\n",
      "grads= [[-0.03351452 -0.00089805  0.03441257]\n",
      " [ 0.00615411 -0.00538605 -0.00076806]\n",
      " [ 0.01285932  0.01051031 -0.02336962]]\n",
      "var= [[ 3.1596712  -0.65671882 -2.83191516]\n",
      " [-1.14235197  0.09158144  0.10106118]\n",
      " [-0.64049823 -0.04433896  1.36595485]]\n",
      "after train:\n",
      "[[ 3.16000634 -0.65670984 -2.83225929]\n",
      " [-1.14241351  0.0916353   0.10106886]\n",
      " [-0.64062682 -0.04444406  1.36618855]]\n",
      " \n",
      "5000 0.3956503179243806\n",
      "grads= [[-0.03095039 -0.00170694  0.03265733]\n",
      " [ 0.00563611 -0.00479963 -0.00083647]\n",
      " [ 0.0118245   0.00982887 -0.02165337]]\n",
      "var= [[ 3.32063204 -0.65012727 -2.99946756]\n",
      " [-1.17179015  0.1170137   0.10506709]\n",
      " [-0.70212431 -0.09517968  1.47842166]]\n",
      "after train:\n",
      "[[ 3.32094154 -0.6501102  -2.99979414]\n",
      " [-1.17184651  0.1170617   0.10507546]\n",
      " [-0.70224256 -0.09527797  1.4786382 ]]\n",
      " \n"
     ]
    }
   ],
   "source": [
    "with tf.Session() as sess:\n",
    "    sess.run(tf.global_variables_initializer())\n",
    "    print(sess.run(loss) )\n",
    "    for iteration in range(n_iterations):\n",
    "        gradss=sess.run(grads)\n",
    "        sess.run(training_op)\n",
    "        if iteration % 500 ==0:\n",
    "            print(iteration, sess.run(loss))\n",
    "            print('grads=',gradss[0][0])\n",
    "            print('var=',gradss[0][1])\n",
    "            print(\"after train:\")\n",
    "            print(Thetaa.eval())\n",
    "            print(\" \")"
   ]
  },
  {
   "cell_type": "code",
   "execution_count": null,
   "metadata": {},
   "outputs": [],
   "source": []
  }
 ],
 "metadata": {
  "kernelspec": {
   "display_name": "Python 3",
   "language": "python",
   "name": "python3"
  },
  "language_info": {
   "codemirror_mode": {
    "name": "ipython",
    "version": 3
   },
   "file_extension": ".py",
   "mimetype": "text/x-python",
   "name": "python",
   "nbconvert_exporter": "python",
   "pygments_lexer": "ipython3",
   "version": "3.6.7"
  }
 },
 "nbformat": 4,
 "nbformat_minor": 2
}
