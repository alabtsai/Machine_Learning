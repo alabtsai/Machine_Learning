{
 "cells": [
  {
   "cell_type": "markdown",
   "metadata": {},
   "source": [
    "## Linear regresion using normal equation and gradient descent"
   ]
  },
  {
   "cell_type": "code",
   "execution_count": 1,
   "metadata": {},
   "outputs": [],
   "source": [
    "# To plot pretty figures\n",
    "%matplotlib inline\n",
    "import matplotlib\n",
    "import matplotlib.pyplot as plt\n",
    "plt.rcParams['axes.labelsize'] = 14\n",
    "plt.rcParams['xtick.labelsize'] = 12\n",
    "plt.rcParams['ytick.labelsize'] = 12"
   ]
  },
  {
   "cell_type": "code",
   "execution_count": 2,
   "metadata": {},
   "outputs": [],
   "source": [
    "# to make this notebook's output stable across runs\n",
    "import numpy as np\n",
    "np.random.seed(42)"
   ]
  },
  {
   "cell_type": "markdown",
   "metadata": {},
   "source": [
    "## the ideal  model is y=4+3x"
   ]
  },
  {
   "cell_type": "code",
   "execution_count": 3,
   "metadata": {},
   "outputs": [
    {
     "name": "stdout",
     "output_type": "stream",
     "text": [
      "(100, 1)\n",
      "(100, 1)\n"
     ]
    }
   ],
   "source": [
    "X=2*np.random.rand(100,1)\n",
    "y=4 + 3*X + np.random.randn(100,1)\n",
    "print(X.shape)\n",
    "print(y.shape)"
   ]
  },
  {
   "cell_type": "code",
   "execution_count": 4,
   "metadata": {},
   "outputs": [
    {
     "data": {
      "text/plain": [
       "2"
      ]
     },
     "execution_count": 4,
     "metadata": {},
     "output_type": "execute_result"
    }
   ],
   "source": [
    "X.ndim"
   ]
  },
  {
   "cell_type": "code",
   "execution_count": 5,
   "metadata": {},
   "outputs": [
    {
     "data": {
      "text/plain": [
       "2"
      ]
     },
     "execution_count": 5,
     "metadata": {},
     "output_type": "execute_result"
    }
   ],
   "source": [
    "y.ndim"
   ]
  },
  {
   "cell_type": "code",
   "execution_count": 6,
   "metadata": {},
   "outputs": [
    {
     "data": {
      "text/plain": [
       "numpy.ndarray"
      ]
     },
     "execution_count": 6,
     "metadata": {},
     "output_type": "execute_result"
    }
   ],
   "source": [
    "type(X)"
   ]
  },
  {
   "cell_type": "code",
   "execution_count": 7,
   "metadata": {},
   "outputs": [
    {
     "data": {
      "text/plain": [
       "numpy.ndarray"
      ]
     },
     "execution_count": 7,
     "metadata": {},
     "output_type": "execute_result"
    }
   ],
   "source": [
    "type(y)"
   ]
  },
  {
   "cell_type": "markdown",
   "metadata": {},
   "source": [
    "### X , y : column vector"
   ]
  },
  {
   "cell_type": "code",
   "execution_count": 8,
   "metadata": {},
   "outputs": [
    {
     "data": {
      "text/plain": [
       "array([[0.74908024],\n",
       "       [1.90142861],\n",
       "       [1.46398788],\n",
       "       [1.19731697],\n",
       "       [0.31203728]])"
      ]
     },
     "execution_count": 8,
     "metadata": {},
     "output_type": "execute_result"
    }
   ],
   "source": [
    "X[:5]"
   ]
  },
  {
   "cell_type": "code",
   "execution_count": 9,
   "metadata": {},
   "outputs": [
    {
     "data": {
      "text/plain": [
       "array([[6.33428778],\n",
       "       [9.40527849],\n",
       "       [8.48372443],\n",
       "       [5.60438199],\n",
       "       [4.71643995]])"
      ]
     },
     "execution_count": 9,
     "metadata": {},
     "output_type": "execute_result"
    }
   ],
   "source": [
    "y[:5]"
   ]
  },
  {
   "cell_type": "code",
   "execution_count": 10,
   "metadata": {},
   "outputs": [],
   "source": [
    "data=np.hstack((X,y))"
   ]
  },
  {
   "cell_type": "code",
   "execution_count": 11,
   "metadata": {},
   "outputs": [
    {
     "name": "stdout",
     "output_type": "stream",
     "text": [
      "<class 'numpy.ndarray'>\n"
     ]
    }
   ],
   "source": [
    "print(type(data))"
   ]
  },
  {
   "cell_type": "code",
   "execution_count": 12,
   "metadata": {},
   "outputs": [
    {
     "data": {
      "text/plain": [
       "2"
      ]
     },
     "execution_count": 12,
     "metadata": {},
     "output_type": "execute_result"
    }
   ],
   "source": [
    "data.ndim"
   ]
  },
  {
   "cell_type": "code",
   "execution_count": 13,
   "metadata": {},
   "outputs": [
    {
     "name": "stdout",
     "output_type": "stream",
     "text": [
      "[[0.74908024 6.33428778]\n",
      " [1.90142861 9.40527849]\n",
      " [1.46398788 8.48372443]\n",
      " [1.19731697 5.60438199]\n",
      " [0.31203728 4.71643995]]\n"
     ]
    }
   ],
   "source": [
    "print(data[:5])"
   ]
  },
  {
   "cell_type": "markdown",
   "metadata": {},
   "source": [
    "## Let's see the input versus output"
   ]
  },
  {
   "cell_type": "code",
   "execution_count": 14,
   "metadata": {},
   "outputs": [
    {
     "data": {
      "image/png": "[encoded data removed]",
      "text/plain": [
       "<Figure size 432x288 with 1 Axes>"
      ]
     },
     "metadata": {
      "needs_background": "light"
     },
     "output_type": "display_data"
    }
   ],
   "source": [
    "plt.plot(X, y, \"b.\")\n",
    "plt.xlabel(\"$x_1$\", fontsize=18)\n",
    "plt.ylabel(\"$y$\", rotation=0, fontsize=18)\n",
    "plt.axis([0, 2, 0, 15])\n",
    "plt.show()"
   ]
  },
  {
   "cell_type": "markdown",
   "metadata": {},
   "source": [
    "### using stochastic gradient "
   ]
  },
  {
   "cell_type": "code",
   "execution_count": 23,
   "metadata": {},
   "outputs": [
    {
     "name": "stdout",
     "output_type": "stream",
     "text": [
      "[[0.74908024 6.33428778]\n",
      " [1.90142861 9.40527849]\n",
      " [1.46398788 8.48372443]\n",
      " [1.19731697 5.60438199]\n",
      " [0.31203728 4.71643995]]\n"
     ]
    }
   ],
   "source": [
    "print(data[:5])"
   ]
  },
  {
   "cell_type": "code",
   "execution_count": 24,
   "metadata": {},
   "outputs": [
    {
     "name": "stdout",
     "output_type": "stream",
     "text": [
      "100\n"
     ]
    }
   ],
   "source": [
    "n_samples=np.size(data,0)\n",
    "print(n_samples)"
   ]
  },
  {
   "cell_type": "code",
   "execution_count": 25,
   "metadata": {},
   "outputs": [
    {
     "data": {
      "text/plain": [
       "2"
      ]
     },
     "execution_count": 25,
     "metadata": {},
     "output_type": "execute_result"
    }
   ],
   "source": [
    "np.size(data,1)"
   ]
  },
  {
   "cell_type": "markdown",
   "metadata": {},
   "source": [
    "###  Step 1: create placeholders for X (birth rate) and Y (life expectancy)"
   ]
  },
  {
   "cell_type": "code",
   "execution_count": 16,
   "metadata": {},
   "outputs": [],
   "source": [
    "import tensorflow as tf\n",
    "Xi = tf.placeholder(tf.float32, name='X')\n",
    "Yo = tf.placeholder(tf.float32, name='Y')"
   ]
  },
  {
   "cell_type": "markdown",
   "metadata": {},
   "source": [
    "### Step 2: create weight and bias, initialized to 0"
   ]
  },
  {
   "cell_type": "code",
   "execution_count": 17,
   "metadata": {},
   "outputs": [],
   "source": [
    "w = tf.get_variable('weights', initializer=tf.constant(0.0))\n",
    "b = tf.get_variable('bias', initializer=tf.constant(0.0))"
   ]
  },
  {
   "cell_type": "code",
   "execution_count": 19,
   "metadata": {},
   "outputs": [],
   "source": [
    "Y_predicted = w * Xi + b "
   ]
  },
  {
   "cell_type": "code",
   "execution_count": 20,
   "metadata": {},
   "outputs": [],
   "source": [
    "loss = tf.square(Yo - Y_predicted, name='loss')"
   ]
  },
  {
   "cell_type": "code",
   "execution_count": 21,
   "metadata": {},
   "outputs": [],
   "source": [
    "optimizer = tf.train.GradientDescentOptimizer(learning_rate=0.001).minimize(loss)"
   ]
  },
  {
   "cell_type": "code",
   "execution_count": 33,
   "metadata": {},
   "outputs": [],
   "source": [
    "from datetime  import datetime\n",
    "now = datetime.utcnow().strftime(\"%Y%m%d%H%M%S\")\n",
    "root_logdir = \"tf_logs\"\n",
    "logdir = \"{}/run-{}/\".format(root_logdir, now)"
   ]
  },
  {
   "cell_type": "code",
   "execution_count": 39,
   "metadata": {},
   "outputs": [],
   "source": [
    "writer = tf.summary.FileWriter(logdir, sess.graph )\n",
    "mse_summary = tf.summary.scalar('loss', loss)"
   ]
  },
  {
   "cell_type": "code",
   "execution_count": 45,
   "metadata": {},
   "outputs": [
    {
     "name": "stdout",
     "output_type": "stream",
     "text": [
      "16.76075\n",
      "Epoch 0: 34.506965522766116\n",
      "count= 100\n",
      "1.2106451 1.1278752\n",
      " \n",
      "10.022531\n",
      "Epoch 1: 15.62887258052826\n",
      "count= 100\n",
      "2.0017478 1.8833773\n",
      " \n",
      "6.47454\n",
      "Epoch 2: 7.3890040801465515\n",
      "count= 100\n",
      "2.5158954 2.392459\n",
      " \n",
      "4.5208025\n",
      "Epoch 3: 3.790927385073155\n",
      "count= 100\n",
      "2.8473065 2.7383645\n",
      " \n",
      "3.394266\n",
      "Epoch 4: 2.217449272735976\n",
      "count= 100\n",
      "3.0582364 2.9761198\n",
      " \n",
      "2.7145092\n",
      "Epoch 5: 1.5266186907861448\n",
      "count= 100\n",
      "3.1898153 3.142096\n",
      " \n",
      "2.2858818\n",
      "Epoch 6: 1.2203909572157636\n",
      "count= 100\n",
      "3.2692192 3.2603416\n",
      " \n",
      "2.0037715\n",
      "Epoch 7: 1.0816883671889082\n",
      "count= 100\n",
      "3.314395 3.3467586\n",
      " \n",
      "1.8100289\n",
      "Epoch 8: 1.0159924734657397\n",
      "count= 100\n",
      "3.337193 3.4118655\n",
      " \n",
      "1.6711394\n",
      "Epoch 9: 0.98219562241924\n",
      "count= 100\n",
      "3.34544 3.4626234\n",
      " \n",
      "1.5671848\n",
      "Epoch 10: 0.9624540629527201\n",
      "count= 100\n",
      "3.3442996 3.503637\n",
      " \n",
      "1.4859979\n",
      "Epoch 11: 0.9490388032395276\n",
      "count= 100\n",
      "3.337175 3.5379632\n",
      " \n",
      "1.4199989\n",
      "Epoch 12: 0.9386087599269376\n",
      "count= 100\n",
      "3.3263092 3.5676284\n",
      " \n",
      "1.3643838\n",
      "Epoch 13: 0.9297212580893028\n",
      "count= 100\n",
      "3.3131769 3.5939813\n",
      " \n",
      "1.3160735\n",
      "Epoch 14: 0.9217518754351477\n",
      "count= 100\n",
      "3.2987454 3.6179175\n",
      " \n",
      "1.273058\n",
      "Epoch 15: 0.9144255511620577\n",
      "count= 100\n",
      "3.283647 3.64004\n",
      " \n",
      "1.234017\n",
      "Epoch 16: 0.9076146485067147\n",
      "count= 100\n",
      "3.268296 3.6607513\n",
      " \n",
      "1.198064\n",
      "Epoch 17: 0.901254656764213\n",
      "count= 100\n",
      "3.2529557 3.6803293\n",
      " \n",
      "1.1646074\n",
      "Epoch 18: 0.8953060199556058\n",
      "count= 100\n",
      "3.2377965 3.6989596\n",
      " \n",
      "1.133234\n",
      "Epoch 19: 0.8897402169258567\n",
      "count= 100\n",
      "3.2229264 3.7167728\n",
      " \n",
      "1.1036522\n",
      "Epoch 20: 0.8845332973677636\n",
      "count= 100\n",
      "3.2084074 3.7338629\n",
      " \n",
      "1.0756453\n",
      "Epoch 21: 0.8796624403051464\n",
      "count= 100\n",
      "3.1942787 3.7502985\n",
      " \n",
      "1.0490597\n",
      "Epoch 22: 0.8751080119013204\n",
      "count= 100\n",
      "3.1805592 3.766129\n",
      " \n",
      "1.0237765\n",
      "Epoch 23: 0.8708498870531912\n",
      "count= 100\n",
      "3.1672573 3.7813911\n",
      " \n",
      "0.99969196\n",
      "Epoch 24: 0.8668698169203708\n",
      "count= 100\n",
      "3.1543725 3.796119\n",
      " \n",
      "0.9767243\n",
      "Epoch 25: 0.8631496459856862\n",
      "count= 100\n",
      "3.1418993 3.8103387\n",
      " \n",
      "0.9548034\n",
      "Epoch 26: 0.8596727870963514\n",
      "count= 100\n",
      "3.129831 3.8240728\n",
      " \n",
      "0.9338684\n",
      "Epoch 27: 0.8564233889157186\n",
      "count= 100\n",
      "3.1181583 3.8373406\n",
      " \n",
      "0.9138646\n",
      "Epoch 28: 0.8533868965128204\n",
      "count= 100\n",
      "3.106871 3.8501606\n",
      " \n",
      "0.8947421\n",
      "Epoch 29: 0.8505494676980015\n",
      "count= 100\n",
      "3.0959575 3.8625488\n",
      " \n",
      "0.8764582\n",
      "Epoch 30: 0.8478982395662024\n",
      "count= 100\n",
      "3.0854073 3.8745198\n",
      " \n",
      "0.85896754\n",
      "Epoch 31: 0.8454208903802737\n",
      "count= 100\n",
      "3.0752068 3.8860896\n",
      " \n",
      "0.84222984\n",
      "Epoch 32: 0.8431057048030197\n",
      "count= 100\n",
      "3.0653472 3.897272\n",
      " \n",
      "0.8262106\n",
      "Epoch 33: 0.8409424916215358\n",
      "count= 100\n",
      "3.055817 3.9080799\n",
      " \n",
      "0.810875\n",
      "Epoch 34: 0.8389213336192188\n",
      "count= 100\n",
      "3.046603 3.9185257\n",
      " \n",
      "0.7961859\n",
      "Epoch 35: 0.8370321466066525\n",
      "count= 100\n",
      "3.0376978 3.928624\n",
      " \n",
      "0.78211844\n",
      "Epoch 36: 0.8352671312331222\n",
      "count= 100\n",
      "3.0290916 3.9383824\n",
      " \n",
      "0.76864123\n",
      "Epoch 37: 0.8336181020422373\n",
      "count= 100\n",
      "3.0207717 3.947814\n",
      " \n",
      "0.7557238\n",
      "Epoch 38: 0.8320770183560672\n",
      "count= 100\n",
      "3.0127304 3.9569318\n",
      " \n",
      "0.7433449\n",
      "Epoch 39: 0.8306371055266208\n",
      "count= 100\n",
      "3.004957 3.9657433\n",
      " \n",
      "0.73147684\n",
      "Epoch 40: 0.8292913869937183\n",
      "count= 100\n",
      "2.9974434 3.9742608\n",
      " \n",
      "0.72009426\n",
      "Epoch 41: 0.8280338682160072\n",
      "count= 100\n",
      "2.9901829 3.9824936\n",
      " \n",
      "0.70917845\n",
      "Epoch 42: 0.8268588773304509\n",
      "count= 100\n",
      "2.983164 3.9904513\n",
      " \n",
      "0.6987078\n",
      "Epoch 43: 0.825760946813316\n",
      "count= 100\n",
      "2.9763792 3.9981422\n",
      " \n",
      "0.6886624\n",
      "Epoch 44: 0.8247350536243266\n",
      "count= 100\n",
      "2.9698215 4.005575\n",
      " \n",
      "0.67901665\n",
      "Epoch 45: 0.8237760991249524\n",
      "count= 100\n",
      "2.9634829 4.012763\n",
      " \n",
      "0.66976357\n",
      "Epoch 46: 0.8228802301318501\n",
      "count= 100\n",
      "2.957357 4.019707\n",
      " \n",
      "0.6608778\n",
      "Epoch 47: 0.8220430090915761\n",
      "count= 100\n",
      "2.951435 4.02642\n",
      " \n",
      "0.6523472\n",
      "Epoch 48: 0.8212605289521161\n",
      "count= 100\n",
      "2.9457114 4.0329084\n",
      " \n",
      "0.644149\n",
      "Epoch 49: 0.82052914784319\n",
      "count= 100\n",
      "2.9401784 4.039182\n",
      " \n"
     ]
    }
   ],
   "source": [
    "\n",
    "with tf.Session() as sess:\n",
    "    sess.run(tf.global_variables_initializer()) \n",
    "    #  train the model for 50 epochs\n",
    "    for i in range(50):\n",
    "        total_loss = 0\n",
    "        count=0       \n",
    "        for xq,yq in data:\n",
    "            #print(xq,yq)\n",
    "            _, l,summary_str  = sess.run([optimizer, loss,mse_summary], feed_dict={Xi: xq, Yo:yq})\n",
    "            if count==99:\n",
    "                print(l)\n",
    "            total_loss += l\n",
    "            count=count+1        \n",
    "        w_out, b_out = sess.run([w, b])\n",
    "        #summary_str=sess.run(mse_summary)\n",
    "        \n",
    "        writer.add_summary(summary_str, global_step=i)\n",
    "        print('Epoch {0}: {1}'.format(i, total_loss/n_samples))\n",
    "        \n",
    "        print(\"count=\",count)\n",
    "        print(w_out, b_out)\n",
    "        print(\" \")\n",
    "    writer.close()\n",
    "    w_out, b_out = sess.run([w, b]) "
   ]
  },
  {
   "cell_type": "code",
   "execution_count": 24,
   "metadata": {},
   "outputs": [
    {
     "name": "stdout",
     "output_type": "stream",
     "text": [
      "2.9401784 4.039182\n"
     ]
    }
   ],
   "source": [
    "print(w_out, b_out)"
   ]
  },
  {
   "cell_type": "markdown",
   "metadata": {},
   "source": [
    "## sklearn.linear_model.SGDRegressor\n",
    "### Linear model fitted by minimizing a regularized empirical loss with SGD\n",
    "### The loss function to be used. The possible values are ‘squared_loss’, ‘huber’, ‘epsilon_insensitive’, or ‘squared_epsilon_insensitive’"
   ]
  },
  {
   "cell_type": "code",
   "execution_count": 25,
   "metadata": {},
   "outputs": [
    {
     "data": {
      "text/plain": [
       "array([[0.74908024, 6.33428778],\n",
       "       [1.90142861, 9.40527849],\n",
       "       [1.46398788, 8.48372443],\n",
       "       [1.19731697, 5.60438199],\n",
       "       [0.31203728, 4.71643995]])"
      ]
     },
     "execution_count": 25,
     "metadata": {},
     "output_type": "execute_result"
    }
   ],
   "source": [
    "data[:5]"
   ]
  },
  {
   "cell_type": "code",
   "execution_count": 26,
   "metadata": {},
   "outputs": [
    {
     "data": {
      "text/plain": [
       "array([[0.74908024],\n",
       "       [1.90142861],\n",
       "       [1.46398788],\n",
       "       [1.19731697],\n",
       "       [0.31203728]])"
      ]
     },
     "execution_count": 26,
     "metadata": {},
     "output_type": "execute_result"
    }
   ],
   "source": [
    "X[:5]"
   ]
  },
  {
   "cell_type": "code",
   "execution_count": 27,
   "metadata": {},
   "outputs": [
    {
     "data": {
      "text/plain": [
       "array([6.33428778, 9.40527849, 8.48372443, 5.60438199, 4.71643995])"
      ]
     },
     "execution_count": 27,
     "metadata": {},
     "output_type": "execute_result"
    }
   ],
   "source": [
    "y.ravel()[:5]"
   ]
  },
  {
   "cell_type": "code",
   "execution_count": 32,
   "metadata": {},
   "outputs": [
    {
     "data": {
      "text/plain": [
       "SGDRegressor(alpha=0.0001, average=False, early_stopping=False, epsilon=0.1,\n",
       "             eta0=0.001, fit_intercept=True, l1_ratio=0.15,\n",
       "             learning_rate='constant', loss='squared_loss', max_iter=1000,\n",
       "             n_iter_no_change=50, penalty=None, power_t=0.25, random_state=None,\n",
       "             shuffle=False, tol=0.001, validation_fraction=0.1, verbose=0,\n",
       "             warm_start=True)"
      ]
     },
     "execution_count": 32,
     "metadata": {},
     "output_type": "execute_result"
    }
   ],
   "source": [
    "from sklearn.linear_model import SGDRegressor\n",
    "sgd_reg = SGDRegressor(warm_start=True,n_iter_no_change=50,learning_rate='constant',penalty=None, eta0=0.001, random_state=None, shuffle=False)\n",
    "sgd_reg.fit(X, y.ravel())"
   ]
  },
  {
   "cell_type": "code",
   "execution_count": 33,
   "metadata": {},
   "outputs": [
    {
     "data": {
      "text/plain": [
       "(array([4.02977511]), array([2.94111347]))"
      ]
     },
     "execution_count": 33,
     "metadata": {},
     "output_type": "execute_result"
    }
   ],
   "source": [
    "sgd_reg.intercept_, sgd_reg.coef_"
   ]
  },
  {
   "cell_type": "code",
   "execution_count": null,
   "metadata": {},
   "outputs": [],
   "source": []
  },
  {
   "cell_type": "code",
   "execution_count": null,
   "metadata": {},
   "outputs": [],
   "source": []
  }
 ],
 "metadata": {
  "kernelspec": {
   "display_name": "Python 3",
   "language": "python",
   "name": "python3"
  },
  "language_info": {
   "codemirror_mode": {
    "name": "ipython",
    "version": 3
   },
   "file_extension": ".py",
   "mimetype": "text/x-python",
   "name": "python",
   "nbconvert_exporter": "python",
   "pygments_lexer": "ipython3",
   "version": "3.6.6"
  }
 },
 "nbformat": 4,
 "nbformat_minor": 2
}
