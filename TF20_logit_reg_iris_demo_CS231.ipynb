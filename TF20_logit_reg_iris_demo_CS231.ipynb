{
 "cells": [
  {
   "cell_type": "code",
   "execution_count": 1,
   "metadata": {},
   "outputs": [],
   "source": [
    "import numpy as np\n",
    "np.random.seed(2042)"
   ]
  },
  {
   "cell_type": "code",
   "execution_count": 2,
   "metadata": {},
   "outputs": [
    {
     "data": {
      "text/plain": [
       "['data', 'target', 'target_names', 'DESCR', 'feature_names', 'filename']"
      ]
     },
     "execution_count": 2,
     "metadata": {},
     "output_type": "execute_result"
    }
   ],
   "source": [
    "from sklearn import datasets\n",
    "iris=datasets.load_iris()\n",
    "list(iris.keys())"
   ]
  },
  {
   "cell_type": "code",
   "execution_count": 3,
   "metadata": {},
   "outputs": [
    {
     "name": "stdout",
     "output_type": "stream",
     "text": [
      "150\n"
     ]
    }
   ],
   "source": [
    "X = iris[\"data\"][:, (2, 3)]  # petal length, petal width\n",
    "y = iris[\"target\"]\n",
    "print(len(X))"
   ]
  },
  {
   "cell_type": "code",
   "execution_count": 4,
   "metadata": {
    "scrolled": true
   },
   "outputs": [
    {
     "name": "stdout",
     "output_type": "stream",
     "text": [
      "float32\n",
      "(150, 2)\n"
     ]
    }
   ],
   "source": [
    "X=X.astype('float32')\n",
    "print(X.dtype)\n",
    "print(X.shape)"
   ]
  },
  {
   "cell_type": "code",
   "execution_count": 5,
   "metadata": {},
   "outputs": [],
   "source": [
    "test_ratio = 0.2\n",
    "validation_ratio = 0.2\n",
    "total_size = len(X)\n",
    "\n",
    "test_size = int(total_size * test_ratio)\n",
    "validation_size = int(total_size * validation_ratio)\n",
    "train_size = total_size - test_size - validation_size\n",
    "\n",
    "rnd_indices = np.random.permutation(total_size)"
   ]
  },
  {
   "cell_type": "code",
   "execution_count": 6,
   "metadata": {},
   "outputs": [],
   "source": [
    "X_train = X[rnd_indices[:train_size]]"
   ]
  },
  {
   "cell_type": "code",
   "execution_count": 7,
   "metadata": {},
   "outputs": [
    {
     "data": {
      "text/plain": [
       "(90, 2)"
      ]
     },
     "execution_count": 7,
     "metadata": {},
     "output_type": "execute_result"
    }
   ],
   "source": [
    "X_train.shape"
   ]
  },
  {
   "cell_type": "code",
   "execution_count": 8,
   "metadata": {},
   "outputs": [],
   "source": [
    "y_train = y[rnd_indices[:train_size]]"
   ]
  },
  {
   "cell_type": "code",
   "execution_count": 9,
   "metadata": {},
   "outputs": [
    {
     "data": {
      "text/plain": [
       "(90,)"
      ]
     },
     "execution_count": 9,
     "metadata": {},
     "output_type": "execute_result"
    }
   ],
   "source": [
    "y_train.shape"
   ]
  },
  {
   "cell_type": "code",
   "execution_count": 10,
   "metadata": {},
   "outputs": [
    {
     "data": {
      "text/plain": [
       "(150,)"
      ]
     },
     "execution_count": 10,
     "metadata": {},
     "output_type": "execute_result"
    }
   ],
   "source": [
    "y.shape"
   ]
  },
  {
   "cell_type": "code",
   "execution_count": 11,
   "metadata": {},
   "outputs": [],
   "source": [
    "D = 2 # dimensionality\n",
    "K = 3 # number of classes"
   ]
  },
  {
   "cell_type": "code",
   "execution_count": 12,
   "metadata": {},
   "outputs": [],
   "source": [
    "W=np.array([[ 0.43433246, -0.66647124, -0.71757054],\n",
    "       [ 1.0188498 ,  0.41245225, -0.7501844 ]])"
   ]
  },
  {
   "cell_type": "code",
   "execution_count": 13,
   "metadata": {},
   "outputs": [],
   "source": [
    "b=np.array([[ 0.11330361, -0.23452355, -0.20774285]])"
   ]
  },
  {
   "cell_type": "code",
   "execution_count": 14,
   "metadata": {},
   "outputs": [
    {
     "data": {
      "text/plain": [
       "(2, 3)"
      ]
     },
     "execution_count": 14,
     "metadata": {},
     "output_type": "execute_result"
    }
   ],
   "source": [
    "W.shape"
   ]
  },
  {
   "cell_type": "code",
   "execution_count": 15,
   "metadata": {},
   "outputs": [
    {
     "data": {
      "text/plain": [
       "(1, 3)"
      ]
     },
     "execution_count": 15,
     "metadata": {},
     "output_type": "execute_result"
    }
   ],
   "source": [
    "b.shape"
   ]
  },
  {
   "cell_type": "code",
   "execution_count": 16,
   "metadata": {},
   "outputs": [],
   "source": [
    "# some hyperparameters\n",
    "step_size = 0.01"
   ]
  },
  {
   "cell_type": "code",
   "execution_count": 17,
   "metadata": {},
   "outputs": [
    {
     "name": "stdout",
     "output_type": "stream",
     "text": [
      "90\n"
     ]
    }
   ],
   "source": [
    "num_examples = X_train.shape[0]\n",
    "print(num_examples)"
   ]
  },
  {
   "cell_type": "code",
   "execution_count": 18,
   "metadata": {},
   "outputs": [
    {
     "name": "stdout",
     "output_type": "stream",
     "text": [
      "0 loss= 5.447902401838389\n",
      "0 db= [[ 0.59406399 -0.28615298 -0.30791101]]\n",
      "dW= [[ 3.17973972 -1.34526175 -1.83447798]\n",
      " [ 1.10140275 -0.43091503 -0.67048771]]\n",
      "\n",
      "500 loss= 0.8350064987566191\n",
      "500 db= [[-0.13595679  0.02841431  0.10754247]]\n",
      "dW= [[ 0.01794235 -0.01436509 -0.00357726]\n",
      " [ 0.05473265  0.01235083 -0.06708348]]\n",
      "\n",
      "1000 loss= 0.6878803486993864\n",
      "1000 db= [[-0.10042224  0.02081561  0.07960662]]\n",
      "dW= [[ 0.01573514 -0.01335253 -0.00238261]\n",
      " [ 0.04034821  0.01283161 -0.05317983]]\n",
      "\n",
      "1500 loss= 0.601238102219196\n",
      "1500 db= [[-0.07766894  0.01412547  0.06354347]]\n",
      "dW= [[ 0.01331931 -0.01173709 -0.00158222]\n",
      " [ 0.03100568  0.01336514 -0.04437082]]\n",
      "\n",
      "2000 loss= 0.5444498651990036\n",
      "2000 db= [[-0.06296144  0.00926182  0.05369962]]\n",
      "dW= [[ 0.01131264 -0.01020736 -0.00110528]\n",
      " [ 0.02493899  0.0134161  -0.03835509]]\n",
      "\n",
      "2500 loss= 0.5038531907192059\n",
      "2500 db= [[-0.05300457  0.00581147  0.0471931 ]]\n",
      "dW= [[ 0.00974229 -0.00889482 -0.00084747]\n",
      " [ 0.0208332   0.01309477 -0.03392797]]\n",
      "\n",
      "3000 loss= 0.472923065092548\n",
      "3000 db= [[-0.04593355  0.00333114  0.04260241]]\n",
      "dW= [[ 0.0085186  -0.00778969 -0.00072892]\n",
      " [ 0.01792546  0.0125549  -0.03048037]]\n",
      "\n",
      "3500 loss= 0.448242606135677\n",
      "3500 db= [[-0.0406981   0.00151004  0.03918806]]\n",
      "dW= [[ 0.00755405 -0.00685737 -0.00069668]\n",
      " [ 0.01578123  0.01190431 -0.02768554]]\n",
      "\n",
      "4000 loss= 0.4278652707296441\n",
      "4000 db= [[-0.03668376  0.0001447   0.03653906]]\n",
      "dW= [[ 0.00678192 -0.00606503 -0.00071689]\n",
      " [ 0.01414481  0.01120964 -0.02535445]]\n",
      "\n",
      "4500 loss= 0.4106008732230206\n",
      "4500 db= [[-0.03351452 -0.00089805  0.03441257]]\n",
      "dW= [[ 0.00615411 -0.00538605 -0.00076806]\n",
      " [ 0.01285932  0.01051031 -0.02336962]]\n",
      "\n",
      "5000 loss= 0.39567819443206703\n",
      "5000 db= [[-0.03095039 -0.00170694  0.03265733]]\n",
      "dW= [[ 0.00563611 -0.00479963 -0.00083647]\n",
      " [ 0.0118245   0.00982887 -0.02165337]]\n",
      "\n"
     ]
    }
   ],
   "source": [
    "for iteration in range(5001):\n",
    "    scores = np.dot(X_train, W) + b\n",
    "    # compute the class probabilities\n",
    "    exp_scores = np.exp(scores)\n",
    "    probs = exp_scores / np.sum(exp_scores, axis=1, keepdims=True) \n",
    "    \n",
    "    correct_logprobs = -np.log(probs[range(num_examples),y_train])\n",
    "    data_loss = np.sum(correct_logprobs)/num_examples\n",
    "    if iteration % 500 == 0:\n",
    "        print(iteration, 'loss=',data_loss)\n",
    "    # compute the gradient on scores\n",
    "    dscores = probs\n",
    "    dscores[range(num_examples),y_train] -= 1\n",
    "    dscores /= num_examples\n",
    "    \n",
    "    # backpropate the gradient to the parameters (W,b)\n",
    "    dW = np.dot(X_train.T, dscores)\n",
    "    db = np.sum(dscores, axis=0, keepdims=True)\n",
    "    if iteration % 500 == 0:\n",
    "        print(iteration, 'db=',db)\n",
    "        print('dW=',dW)\n",
    "        print('')\n",
    "    # perform a parameter update\n",
    "    W += -step_size * dW\n",
    "    b += -step_size * db\n"
   ]
  },
  {
   "cell_type": "code",
   "execution_count": 19,
   "metadata": {},
   "outputs": [
    {
     "data": {
      "text/plain": [
       "array([[-0.03095039, -0.00170694,  0.03265733]])"
      ]
     },
     "execution_count": 19,
     "metadata": {},
     "output_type": "execute_result"
    }
   ],
   "source": [
    "db"
   ]
  },
  {
   "cell_type": "code",
   "execution_count": 20,
   "metadata": {},
   "outputs": [
    {
     "data": {
      "text/plain": [
       "array([[ 0.00563611, -0.00479963, -0.00083647],\n",
       "       [ 0.0118245 ,  0.00982887, -0.02165337]])"
      ]
     },
     "execution_count": 20,
     "metadata": {},
     "output_type": "execute_result"
    }
   ],
   "source": [
    "dW"
   ]
  },
  {
   "cell_type": "code",
   "execution_count": null,
   "metadata": {},
   "outputs": [],
   "source": []
  }
 ],
 "metadata": {
  "kernelspec": {
   "display_name": "Python 3",
   "language": "python",
   "name": "python3"
  },
  "language_info": {
   "codemirror_mode": {
    "name": "ipython",
    "version": 3
   },
   "file_extension": ".py",
   "mimetype": "text/x-python",
   "name": "python",
   "nbconvert_exporter": "python",
   "pygments_lexer": "ipython3",
   "version": "3.6.7"
  }
 },
 "nbformat": 4,
 "nbformat_minor": 2
}
