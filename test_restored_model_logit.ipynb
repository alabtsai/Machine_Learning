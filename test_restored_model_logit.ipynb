{
 "cells": [
  {
   "cell_type": "code",
   "execution_count": 1,
   "metadata": {},
   "outputs": [
    {
     "data": {
      "text/plain": [
       "'/home/larry/tensorflow_prac'"
      ]
     },
     "execution_count": 1,
     "metadata": {},
     "output_type": "execute_result"
    }
   ],
   "source": [
    "%pwd"
   ]
  },
  {
   "cell_type": "code",
   "execution_count": 2,
   "metadata": {},
   "outputs": [],
   "source": [
    "\n",
    "import tensorflow as tf\n"
   ]
  },
  {
   "cell_type": "code",
   "execution_count": 6,
   "metadata": {},
   "outputs": [],
   "source": [
    "\n",
    "\n",
    "saver=tf.train.import_meta_graph(\"/tmp/my_model_final.ckpt.meta\")\n",
    "\n",
    "weii = tf.get_default_graph().get_tensor_by_name(\"weights:0\")\n",
    "biass = tf.get_default_graph().get_tensor_by_name(\"bias:0\")\n"
   ]
  },
  {
   "cell_type": "code",
   "execution_count": 8,
   "metadata": {},
   "outputs": [
    {
     "name": "stdout",
     "output_type": "stream",
     "text": [
      "INFO:tensorflow:Restoring parameters from /tmp/my_model_final.ckpt\n",
      "[[ 0.01472635  0.00750261 -0.01278075  0.00359661  0.00728707  0.0015891\n",
      "  -0.01578164 -0.01198377  0.01070037 -0.011708  ]\n",
      " [-0.01168795 -0.00783941 -0.01069962 -0.00688667 -0.01590279  0.01702156\n",
      "  -0.00265616 -0.0148631   0.00826895 -0.02140341]]\n",
      "[[-1.4495578   1.8698944   0.44594416 -0.8999174   0.40505525  2.3145967\n",
      "  -0.6235054   1.4392691  -2.6777825  -0.64915025]]\n"
     ]
    }
   ],
   "source": [
    "with tf.Session() as sess:\n",
    "    saver.restore(sess, \"/tmp/my_model_final.ckpt\")  # this restores the graph's state\n",
    "    print(sess.run(weii[:2]))\n",
    "    print(sess.run(biass))"
   ]
  },
  {
   "cell_type": "code",
   "execution_count": null,
   "metadata": {},
   "outputs": [],
   "source": []
  }
 ],
 "metadata": {
  "kernelspec": {
   "display_name": "Python 3",
   "language": "python",
   "name": "python3"
  },
  "language_info": {
   "codemirror_mode": {
    "name": "ipython",
    "version": 3
   },
   "file_extension": ".py",
   "mimetype": "text/x-python",
   "name": "python",
   "nbconvert_exporter": "python",
   "pygments_lexer": "ipython3",
   "version": "3.6.7"
  }
 },
 "nbformat": 4,
 "nbformat_minor": 2
}
