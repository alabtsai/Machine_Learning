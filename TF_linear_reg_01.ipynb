{
 "cells": [
  {
   "cell_type": "code",
   "execution_count": 1,
   "metadata": {},
   "outputs": [],
   "source": [
    "# To plot pretty figures\n",
    "%matplotlib inline\n",
    "import matplotlib\n",
    "import matplotlib.pyplot as plt\n",
    "plt.rcParams['axes.labelsize'] = 14\n",
    "plt.rcParams['xtick.labelsize'] = 12\n",
    "plt.rcParams['ytick.labelsize'] = 12\n",
    "\n",
    "# to make this notebook's output stable across runs\n",
    "import numpy as np\n",
    "np.random.seed(42)\n",
    "import tensorflow as tf"
   ]
  },
  {
   "cell_type": "code",
   "execution_count": 2,
   "metadata": {},
   "outputs": [
    {
     "name": "stdout",
     "output_type": "stream",
     "text": [
      "(100, 1)\n",
      "(100, 1)\n"
     ]
    }
   ],
   "source": [
    "X=2*np.random.rand(100,1)\n",
    "y=4 + 3*X + np.random.randn(100,1)\n",
    "print(X.shape)\n",
    "print(y.shape)\n"
   ]
  },
  {
   "cell_type": "code",
   "execution_count": 3,
   "metadata": {},
   "outputs": [],
   "source": [
    "data=np.hstack((X,y))"
   ]
  },
  {
   "cell_type": "code",
   "execution_count": 4,
   "metadata": {},
   "outputs": [
    {
     "data": {
      "text/plain": [
       "dtype('float64')"
      ]
     },
     "execution_count": 4,
     "metadata": {},
     "output_type": "execute_result"
    }
   ],
   "source": [
    "data.dtype"
   ]
  },
  {
   "cell_type": "code",
   "execution_count": 5,
   "metadata": {},
   "outputs": [],
   "source": [
    "data=np.asarray(data, dtype=np.float32)"
   ]
  },
  {
   "cell_type": "code",
   "execution_count": 6,
   "metadata": {},
   "outputs": [
    {
     "data": {
      "text/plain": [
       "dtype('float32')"
      ]
     },
     "execution_count": 6,
     "metadata": {},
     "output_type": "execute_result"
    }
   ],
   "source": [
    "data.dtype"
   ]
  },
  {
   "cell_type": "code",
   "execution_count": 7,
   "metadata": {},
   "outputs": [
    {
     "data": {
      "text/plain": [
       "array([[0.74908024, 6.3342876 ],\n",
       "       [1.9014286 , 9.405278  ],\n",
       "       [1.4639878 , 8.483725  ],\n",
       "       [1.197317  , 5.604382  ],\n",
       "       [0.3120373 , 4.7164397 ]], dtype=float32)"
      ]
     },
     "execution_count": 7,
     "metadata": {},
     "output_type": "execute_result"
    }
   ],
   "source": [
    "data[:5]"
   ]
  },
  {
   "cell_type": "code",
   "execution_count": 14,
   "metadata": {},
   "outputs": [],
   "source": [
    "n_samples,col=data.shape"
   ]
  },
  {
   "cell_type": "code",
   "execution_count": 9,
   "metadata": {},
   "outputs": [],
   "source": [
    "# Step 2: create Dataset and iterator\n",
    "dataset = tf.data.Dataset.from_tensor_slices((data[:,0], data[:,1]))\n",
    "\n",
    "iterator = dataset.make_initializable_iterator()\n",
    "X, Y = iterator.get_next()"
   ]
  },
  {
   "cell_type": "code",
   "execution_count": 10,
   "metadata": {},
   "outputs": [],
   "source": [
    "# Step 3: create weight and bias, initialized to 0\n",
    "w = tf.get_variable('weights', initializer=tf.constant(0.0))\n",
    "b = tf.get_variable('bias', initializer=tf.constant(0.0))\n",
    "\n",
    "# Step 4: build model to predict Y\n",
    "Y_predicted = X * w + b\n",
    "\n",
    "# Step 5: use the square error as the loss function\n",
    "loss = tf.square(Y - Y_predicted, name='loss')\n",
    "\n",
    "# Step 6: using gradient descent with learning rate of 0.001 to minimize loss\n",
    "optimizer = tf.train.GradientDescentOptimizer(learning_rate=0.001).minimize(loss)"
   ]
  },
  {
   "cell_type": "code",
   "execution_count": 15,
   "metadata": {},
   "outputs": [
    {
     "name": "stdout",
     "output_type": "stream",
     "text": [
      "Epoch 0: 34.50696586608887\n",
      "Epoch 1: 15.628871957063675\n",
      "Epoch 2: 7.3890039037168025\n",
      "Epoch 3: 3.790927385073155\n",
      "Epoch 4: 2.217449272735976\n",
      "Epoch 5: 1.5266186907861448\n",
      "Epoch 6: 1.2203909572157636\n",
      "Epoch 7: 1.0816883671889082\n",
      "Epoch 8: 1.0159924734657397\n",
      "Epoch 9: 0.98219562241924\n",
      "Epoch 10: 0.9624540629527201\n",
      "Epoch 11: 0.9490388032395276\n",
      "Epoch 12: 0.9386087599269376\n",
      "Epoch 13: 0.9297212580893028\n",
      "Epoch 14: 0.9217518754351477\n",
      "Epoch 15: 0.9144255511620577\n",
      "Epoch 16: 0.9076146485067147\n",
      "Epoch 17: 0.901254656764213\n",
      "Epoch 18: 0.8953060199556058\n",
      "Epoch 19: 0.8897402169258567\n",
      "Epoch 20: 0.8845332973677636\n",
      "Epoch 21: 0.8796624403051464\n",
      "Epoch 22: 0.8751080119013204\n",
      "Epoch 23: 0.8708498870531912\n",
      "Epoch 24: 0.8668698169203708\n",
      "Epoch 25: 0.8631496459856862\n",
      "Epoch 26: 0.8596727870963514\n",
      "Epoch 27: 0.8564233889157186\n",
      "Epoch 28: 0.8533868965128204\n",
      "Epoch 29: 0.8505494291237846\n",
      "Epoch 30: 0.8478982276359602\n",
      "Epoch 31: 0.8454207500306439\n",
      "Epoch 32: 0.8431056149955839\n",
      "Epoch 33: 0.840942417230981\n",
      "Epoch 34: 0.8389213905346696\n",
      "Epoch 35: 0.8370321342465468\n",
      "Epoch 36: 0.8352671415061923\n",
      "Epoch 37: 0.8336181124916766\n",
      "Epoch 38: 0.8320770143164554\n",
      "Epoch 39: 0.8306371709520317\n",
      "Epoch 40: 0.8292913904201122\n",
      "Epoch 41: 0.8280339076345262\n",
      "Epoch 42: 0.8268588778807316\n",
      "Epoch 43: 0.8257610480736912\n",
      "Epoch 44: 0.8247350710959381\n",
      "Epoch 45: 0.8237761988711373\n",
      "Epoch 46: 0.8228802177678881\n",
      "Epoch 47: 0.8220429601726937\n",
      "Epoch 48: 0.8212605844749487\n",
      "Epoch 49: 0.82052914784319\n",
      "Epoch 50: 0.8198457854015578\n",
      "Epoch 51: 0.8192072893264413\n",
      "Epoch 52: 0.8186105966703326\n",
      "Epoch 53: 0.8180529809897508\n",
      "Epoch 54: 0.8175316705379464\n",
      "Epoch 55: 0.8170445860244581\n",
      "Epoch 56: 0.8165896608760704\n",
      "Epoch 57: 0.8161639556091177\n",
      "Epoch 58: 0.8157662866602914\n",
      "Epoch 59: 0.8153948352328735\n",
      "Epoch 60: 0.8150473462452646\n",
      "Epoch 61: 0.8147228581667878\n",
      "Epoch 62: 0.8144195131500601\n",
      "Epoch 63: 0.8141356436681235\n",
      "Epoch 64: 0.8138706641315366\n",
      "Epoch 65: 0.8136229015263962\n",
      "Epoch 66: 0.813391115416307\n",
      "Epoch 67: 0.813174742711708\n",
      "Epoch 68: 0.8129725750727812\n",
      "Epoch 69: 0.8127834343101131\n",
      "Epoch 70: 0.8126065112848301\n",
      "Epoch 71: 0.8124412357155234\n",
      "Epoch 72: 0.8122867536960985\n",
      "Epoch 73: 0.8121423578623217\n",
      "Epoch 74: 0.812007364500314\n",
      "Epoch 75: 0.8118812295534008\n",
      "Epoch 76: 0.8117631348423311\n",
      "Epoch 77: 0.8116526556992903\n",
      "Epoch 78: 0.8115496504804469\n",
      "Epoch 79: 0.8114529122037857\n",
      "Epoch 80: 0.8113629905608832\n",
      "Epoch 81: 0.8112788153840029\n",
      "Epoch 82: 0.8111998902913546\n",
      "Epoch 83: 0.811126239763928\n",
      "Epoch 84: 0.8110572265040537\n",
      "Epoch 85: 0.8109926785481025\n",
      "Epoch 86: 0.8109326437856452\n",
      "Epoch 87: 0.8108761902418701\n",
      "Epoch 88: 0.8108236516939723\n",
      "Epoch 89: 0.8107740171872865\n",
      "Epoch 90: 0.8107277556309055\n",
      "Epoch 91: 0.8106848485466617\n",
      "Epoch 92: 0.8106445831327437\n",
      "Epoch 93: 0.810606766143901\n",
      "Epoch 94: 0.8105714977506432\n",
      "Epoch 95: 0.8105385823683173\n",
      "Epoch 96: 0.8105077074107249\n",
      "Epoch 97: 0.8104785802763945\n",
      "Epoch 98: 0.8104517593237688\n",
      "Epoch 99: 0.8104265526063682\n",
      "w: 2.809450, b: 4.187386\n"
     ]
    }
   ],
   "source": [
    "with tf.Session() as sess:\n",
    "    # Step 7: initialize the necessary variables, in this case, w and b\n",
    "    sess.run(tf.global_variables_initializer()) \n",
    "    # Step 8: train the model for 100 epochs\n",
    "    for i in range(100):\n",
    "        sess.run(iterator.initializer) # initialize the iterator\n",
    "        total_loss = 0\n",
    "        try:\n",
    "            while True:\n",
    "                _, l = sess.run([optimizer, loss]) \n",
    "                total_loss += l\n",
    "        except tf.errors.OutOfRangeError:\n",
    "            pass\n",
    "            \n",
    "        print('Epoch {0}: {1}'.format(i, total_loss/n_samples))\n",
    "    # Step 9: output the values of w and b\n",
    "    w_out, b_out = sess.run([w, b]) \n",
    "    print('w: %f, b: %f' %(w_out, b_out))"
   ]
  },
  {
   "cell_type": "code",
   "execution_count": null,
   "metadata": {},
   "outputs": [],
   "source": []
  }
 ],
 "metadata": {
  "kernelspec": {
   "display_name": "Python 3",
   "language": "python",
   "name": "python3"
  },
  "language_info": {
   "codemirror_mode": {
    "name": "ipython",
    "version": 3
   },
   "file_extension": ".py",
   "mimetype": "text/x-python",
   "name": "python",
   "nbconvert_exporter": "python",
   "pygments_lexer": "ipython3",
   "version": "3.6.7"
  }
 },
 "nbformat": 4,
 "nbformat_minor": 2
}
